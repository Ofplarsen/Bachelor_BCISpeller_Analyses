{
 "cells": [
  {
   "cell_type": "code",
   "execution_count": 35,
   "metadata": {
    "collapsed": true
   },
   "outputs": [],
   "source": [
    "import time\n",
    "import numpy as np\n",
    "import pandas as pd\n",
    "from matplotlib import pyplot as plt\n",
    "from numpy.random import rand\n",
    "from scipy import signal\n",
    "from sklearn.cross_decomposition import CCA\n",
    "\n",
    "channels = ['Fp1', 'Fz', 'F3', 'F7', 'F9', 'FC5', 'FC1', 'C3', 'T7', 'CP5', 'CP1', 'Pz', 'P3', 'P7'\n",
    "    , 'P9', 'O1', 'Oz', 'O2', 'P10', 'P8', 'P4', 'CP2', 'CP6', 'T8', 'C4', 'Cz'\n",
    "    , 'FC2', 'FC6', 'F10', 'F8', 'F4', 'Fp2', 'ACC_X', 'ACC_Y', 'ACC_Z']\n",
    "removed_channels = ['Fp1', 'F8', 'F7', 'Fp2', 'F3', 'F4']\n",
    "frequencies_main = ['8.18', '9', '10', '11.25', '12.85', '15']\n",
    "occ_channels = ['O1', 'O2', 'Oz', 'P3', 'P4', 'Pz', 'P7', 'P8']\n",
    "frequencies = ['8.18_sin_h1', '8.18_cos_h1', '8.18_sin_h2', '8.18_cos_h2', '8.18_sin_h3', '8.18_cos_h3',\n",
    "               '9_sin_h1', '9_cos_h1', '9_sin_h2', '9_cos_h2', '9_sin_h3', '9_cos_h3',\n",
    "               '10_sin_h1', '10_cos_h1', '10_sin_h2', '10_cos_h2', '10_sin_h3', '10_cos_h3',\n",
    "               '11.25_sin_h1', '11.25_cos_h1', '11.25_sin_h2', '11.25_cos_h2', '11.25_sin_h3', '11.25_cos_h3',\n",
    "               '12.85_sin_h1', '12.85_cos_h1', '12.85_sin_h2', '12.85_cos_h2', '12.85_sin_h3', '12.85_cos_h3',\n",
    "               '15_sin_h1', '15_cos_h1', '15_sin_h2', '15_cos_h2', '15_sin_h3', '15_cos_h3'\n",
    "               ]\n",
    "\n"
   ]
  },
  {
   "cell_type": "code",
   "execution_count": 36,
   "outputs": [],
   "source": [
    "def perform_cca(fragment, n_components):\n",
    "    X = fragment[:][occ_channels]\n",
    "    freqs = []\n",
    "    t = 0\n",
    "    for i in range(0, len(frequencies), 6):\n",
    "        t = t + 1\n",
    "        Y = fragment[:][frequencies[i:6 * t]]\n",
    "        ca = CCA(n_components=2)\n",
    "        ca.fit(X, Y)\n",
    "        X_c, Y_c = ca.transform(X, Y)\n",
    "        freqs.append(np.corrcoef(X_c[:, 0], Y_c[:, 0])[0][1])\n",
    "    return freqs\n",
    "\n",
    "def perform_cca_2(fragment):\n",
    "    n_components = 2\n",
    "    X = fragment[:][occ_channels]\n",
    "    freqs = []\n",
    "    t = 0\n",
    "    for i in range(0, len(frequencies), 6):\n",
    "        t = t + 1\n",
    "        Y = fragment[:][frequencies[i:6 * t]]\n",
    "        ca = CCA(n_components=n_components)\n",
    "        ca.fit(X, Y)\n",
    "        X_c, Y_c = ca.transform(X, Y)\n",
    "        p1 = np.corrcoef(X_c[:, 0], Y_c[:, 0])[0][1]\n",
    "        p2 = np.corrcoef(X_c[:, 1], Y_c[:, 1])[0][1]\n",
    "        freqs.append(np.sqrt(p1**2+p2**2))\n",
    "        if False:\n",
    "            plt.scatter(X_c[:, 0], Y_c[:, 0], label='EEG Channels', alpha=0.7)\n",
    "            plt.scatter(X_c[:, 1], Y_c[:, 1], label='Sine curves', alpha=0.7)\n",
    "            plt.xlabel('X Transformed')\n",
    "            plt.ylabel('Y Transformed')\n",
    "            plt.title('CCA Transformed Canonical Variates')\n",
    "            plt.legend()\n",
    "            plt.show()\n",
    "    return freqs\n",
    "\n",
    "def add_padding(data, lenght=100):\n",
    "    return padding(data, lenght)\n",
    "\n",
    "def remove_padding(data, length=100):\n",
    "    return data[length:-length]\n",
    "\n",
    "def padding(data, pad_length = 100):\n",
    "    return np.pad(data, (pad_length, pad_length), mode=\"reflect\")\n",
    "\n",
    "def get_freqs(N):\n",
    "    # fs = [8.18, 9, 10, 11.25, 12.86, 15]\n",
    "    fs = [13.0909, 14.4, 16, 18, 20.5714, 24]\n",
    "    t = N / 250\n",
    "    return_freqs = []\n",
    "    for fk in fs:\n",
    "        for i in range(1, 4):\n",
    "            return_freqs.append(np.sin(2 * np.pi * i * (t * fk)).tolist())\n",
    "            return_freqs.append(np.cos(2 * np.pi * i * (t * fk)).tolist())\n",
    "\n",
    "    df = pd.DataFrame(return_freqs)\n",
    "    df = df.T\n",
    "    df.columns = frequencies\n",
    "    return df"
   ],
   "metadata": {
    "collapsed": false,
    "pycharm": {
     "name": "#%%\n"
    }
   }
  },
  {
   "cell_type": "code",
   "execution_count": 41,
   "outputs": [
    {
     "name": "stdout",
     "output_type": "stream",
     "text": [
      "(1250, 2)\n",
      "(1250, 36)\n",
      "[0.057617160829288694, 0.05056177944377355, 0.8164697511657459, 0.04044282560306425, 0.04304479458200736, 0.07459298524282441]\n"
     ]
    }
   ],
   "source": [
    "\n",
    "fs = 250  # Sampling frequency (Hz)\n",
    "duration = 5  # Duration of the simulated EEG signal (seconds)\n",
    "t = np.arange(0, duration, 1/fs)  # Time vector\n",
    "N = np.arange(0, duration*fs, 1)\n",
    "base_frequency = 16  # Frequency of the sinusoidal component (Hz)\n",
    "noise_amplitude = 0.5  # Amplitude of the random noise component\n",
    "\n",
    "eeg_signal = np.sin(2 * np.pi * base_frequency * t) + noise_amplitude * np.random.randn(len(t))\n",
    "df = pd.DataFrame([eeg_signal, eeg_signal]).T\n",
    "df.columns = ['EEG', 'EEG2']\n",
    "frs = get_freqs(N)\n",
    "n_components = 2\n",
    "print(df.shape)\n",
    "print(frs.shape)\n",
    "X = df[:][['EEG', 'EEG2']]\n",
    "freqs = []\n",
    "h = 0\n",
    "for y in range(0, len(frequencies), 6):\n",
    "    h = h + 1\n",
    "    Y = frs[:][frequencies[y:6 * h]]\n",
    "    ca = CCA(n_components=n_components)\n",
    "    ca.fit(X, Y)\n",
    "    X_c, Y_c = ca.transform(X, Y)\n",
    "    p1 = np.corrcoef(X_c[:, 0], Y_c[:, 0])[0][1]\n",
    "    p2 = np.corrcoef(X_c[:, 1], Y_c[:, 1])[0][1]\n",
    "    freqs.append(np.sqrt(p1**2+p2**2))\n",
    "\n",
    "print(freqs)\n"
   ],
   "metadata": {
    "collapsed": false,
    "pycharm": {
     "name": "#%%\n"
    }
   }
  }
 ],
 "metadata": {
  "kernelspec": {
   "display_name": "Python 3",
   "language": "python",
   "name": "python3"
  },
  "language_info": {
   "codemirror_mode": {
    "name": "ipython",
    "version": 2
   },
   "file_extension": ".py",
   "mimetype": "text/x-python",
   "name": "python",
   "nbconvert_exporter": "python",
   "pygments_lexer": "ipython2",
   "version": "2.7.6"
  }
 },
 "nbformat": 4,
 "nbformat_minor": 0
}