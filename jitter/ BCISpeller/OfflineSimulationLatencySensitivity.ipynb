{
 "cells": [
  {
   "cell_type": "code",
   "execution_count": null,
   "metadata": {
    "collapsed": true
   },
   "outputs": [],
   "source": [
    "import time\n",
    "import numpy as np\n",
    "import pandas as pd\n",
    "from matplotlib import pyplot as plt\n",
    "from numpy.random import rand\n",
    "from pylsl import StreamInlet, resolve_stream, StreamInfo, StreamOutlet, pylsl, local_clock\n",
    "from scipy import signal\n",
    "from sklearn.cross_decomposition import CCA\n",
    "\n",
    "channels = ['Fp1', 'Fz', 'F3', 'F7', 'F9', 'FC5', 'FC1', 'C3', 'T7', 'CP5', 'CP1', 'Pz', 'P3', 'P7'\n",
    "    , 'P9', 'O1', 'Oz', 'O2', 'P10', 'P8', 'P4', 'CP2', 'CP6', 'T8', 'C4', 'Cz'\n",
    "    , 'FC2', 'FC6', 'F10', 'F8', 'F4', 'Fp2', 'ACC_X', 'ACC_Y', 'ACC_Z']\n",
    "removed_channels = ['Fp1', 'F8', 'F7', 'Fp2', 'F3', 'F4']\n",
    "frequencies_main = ['8.18', '9', '10', '11.25', '12.85', '15']\n",
    "occ_channels = ['O1', 'O2', 'Oz', 'P3', 'P4', 'Pz', 'P7', 'P8']\n",
    "frequencies = ['8.18_sin_h1', '8.18_cos_h1', '8.18_sin_h2', '8.18_cos_h2', '8.18_sin_h3', '8.18_cos_h3',\n",
    "               '9_sin_h1', '9_cos_h1', '9_sin_h2', '9_cos_h2', '9_sin_h3', '9_cos_h3',\n",
    "               '10_sin_h1', '10_cos_h1', '10_sin_h2', '10_cos_h2', '10_sin_h3', '10_cos_h3',\n",
    "               '11.25_sin_h1', '11.25_cos_h1', '11.25_sin_h2', '11.25_cos_h2', '11.25_sin_h3', '11.25_cos_h3',\n",
    "               '12.85_sin_h1', '12.85_cos_h1', '12.85_sin_h2', '12.85_cos_h2', '12.85_sin_h3', '12.85_cos_h3',\n",
    "               '15_sin_h1', '15_cos_h1', '15_sin_h2', '15_cos_h2', '15_sin_h3', '15_cos_h3'\n",
    "               ]\n",
    "\n"
   ]
  },
  {
   "cell_type": "code",
   "execution_count": 1,
   "outputs": [],
   "source": [
    "def perform_cca(fragment, n_components):\n",
    "    X = fragment[:][occ_channels]\n",
    "    freqs = []\n",
    "    t = 0\n",
    "    for i in range(0, len(frequencies), 6):\n",
    "        t = t + 1\n",
    "        Y = fragment[:][frequencies[i:6 * t]]\n",
    "        ca = CCA(n_components=2)\n",
    "        ca.fit(X, Y)\n",
    "        X_c, Y_c = ca.transform(X, Y)\n",
    "        freqs.append(np.corrcoef(X_c[:, 0], Y_c[:, 0])[0][1])\n",
    "    return freqs\n",
    "\n",
    "def perform_cca_2(fragment):\n",
    "    n_components = 2\n",
    "    X = fragment[:][occ_channels]\n",
    "    freqs = []\n",
    "    t = 0\n",
    "    for i in range(0, len(frequencies), 6):\n",
    "        t = t + 1\n",
    "        Y = fragment[:][frequencies[i:6 * t]]\n",
    "        ca = CCA(n_components=n_components)\n",
    "        ca.fit(X, Y)\n",
    "        X_c, Y_c = ca.transform(X, Y)\n",
    "        p1 = np.corrcoef(X_c[:, 0], Y_c[:, 0])[0][1]\n",
    "        p2 = np.corrcoef(X_c[:, 1], Y_c[:, 1])[0][1]\n",
    "        freqs.append(np.sqrt(p1**2+p2**2))\n",
    "        if True:\n",
    "            plt.scatter(X_c[:, 0], Y_c[:, 0], label='EEG Channels', alpha=0.7)\n",
    "            plt.scatter(X_c[:, 1], Y_c[:, 1], label='Sine curves', alpha=0.7)\n",
    "            plt.xlabel('X Transformed')\n",
    "            plt.ylabel('Y Transformed')\n",
    "            plt.title('CCA Transformed Canonical Variates')\n",
    "            plt.legend()\n",
    "            plt.show()\n",
    "    return freqs\n",
    "\n",
    "def add_padding(data, lenght=100):\n",
    "    return padding(data, lenght)\n",
    "\n",
    "def remove_padding(data, length=100):\n",
    "    return data[length:-length]\n",
    "\n",
    "def padding(data, pad_length = 100):\n",
    "    return np.pad(data, (pad_length, pad_length), mode=\"reflect\")\n",
    "\n",
    "def get_freqs(N):\n",
    "    # fs = [8.18, 9, 10, 11.25, 12.86, 15]\n",
    "    fs = [13.0909, 14.4, 16, 18, 20.5714, 24]\n",
    "    t = N / 250\n",
    "    return_freqs = []\n",
    "    for fk in fs:\n",
    "        for i in range(1, 4):\n",
    "            return_freqs.append(np.sin(2 * np.pi * i * (t * fk)).tolist())\n",
    "            return_freqs.append(np.cos(2 * np.pi * i * (t * fk)).tolist())\n",
    "\n",
    "    df = pd.DataFrame(return_freqs)\n",
    "    df = df.T\n",
    "    df.columns = frequencies\n",
    "    return df"
   ],
   "metadata": {
    "collapsed": false,
    "pycharm": {
     "name": "#%%\n"
    }
   }
  },
  {
   "cell_type": "code",
   "execution_count": null,
   "outputs": [],
   "source": [],
   "metadata": {
    "collapsed": false,
    "pycharm": {
     "name": "#%%\n"
    }
   }
  }
 ],
 "metadata": {
  "kernelspec": {
   "display_name": "Python 3",
   "language": "python",
   "name": "python3"
  },
  "language_info": {
   "codemirror_mode": {
    "name": "ipython",
    "version": 2
   },
   "file_extension": ".py",
   "mimetype": "text/x-python",
   "name": "python",
   "nbconvert_exporter": "python",
   "pygments_lexer": "ipython2",
   "version": "2.7.6"
  }
 },
 "nbformat": 4,
 "nbformat_minor": 0
}