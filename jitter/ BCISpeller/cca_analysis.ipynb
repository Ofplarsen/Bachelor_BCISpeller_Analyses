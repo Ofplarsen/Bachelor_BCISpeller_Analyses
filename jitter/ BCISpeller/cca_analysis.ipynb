{
 "cells": [
  {
   "cell_type": "code",
   "execution_count": 323,
   "metadata": {
    "collapsed": true
   },
   "outputs": [],
   "source": [
    "import pyxdf\n",
    "import pandas as pd\n",
    "import matplotlib.pyplot as plt\n",
    "import numpy as np\n",
    "import seaborn as sns\n",
    "from sklearn.cross_decomposition import CCA\n",
    "from sklearn.preprocessing import StandardScaler"
   ]
  },
  {
   "cell_type": "code",
   "execution_count": 324,
   "outputs": [],
   "source": [
    "channels = ['Fp1', 'Fz', 'F3', 'F7', 'F9', 'FC5', 'FC1', 'C3', 'T7', 'CP5', 'CP1', 'Pz', 'P3', 'P7'\n",
    "            , 'P9', 'O1', 'Oz', 'O2', 'P10', 'P8', 'P4', 'CP2', 'CP6', 'T8', 'C4', 'Cz'\n",
    "            , 'FC2', 'FC6', 'F10', 'F8', 'F4', 'Fp2', 'ACC_X', 'ACC_Y', 'ACC_Z']\n",
    "removed_channels = ['Fp1', 'F8', 'F7', 'Fp2', 'F3', 'F4']\n",
    "# TODO ADD AUX WHEN CONNECTED\n",
    "columns = channels\n",
    "frequencies = ['8.18', '9', '10', '11.25', '12.85', '15']\n",
    "\n",
    "\n",
    "data, header = pyxdf.load_xdf('../data/BCISpellerV1/SpellerV1_15_1/dejittered-shited100ms-decimate2-eeg-and-dejittered-unity-freq.xdf')\n"
   ],
   "metadata": {
    "collapsed": false,
    "pycharm": {
     "name": "#%%\n"
    }
   }
  },
  {
   "cell_type": "code",
   "execution_count": 325,
   "outputs": [],
   "source": [
    "\n",
    "def plot_single(df,df_ts, column):\n",
    "    axis = plt.subplot()\n",
    "    axis.plot(df_ts['time'], df[column])\n",
    "    axis.set_title(column)\n",
    "    plt.show()\n",
    "\n",
    "def plot_eeg(df, df_ts):\n",
    "    df.columns = columns\n",
    "    index = 0\n",
    "    for i in range(32):\n",
    "        color = 'blue'\n",
    "        index += 1\n",
    "        if channels[i] in removed_channels:\n",
    "            color = 'red'\n",
    "\n",
    "        axis = plt.subplot()\n",
    "        axis.plot(df_ts['time'], df[channels[i]], color=color)\n",
    "        axis.set_title(channels[i])\n",
    "        plt.show()\n",
    "\n",
    "\n",
    "\n"
   ],
   "metadata": {
    "collapsed": false,
    "pycharm": {
     "name": "#%%\n"
    }
   }
  },
  {
   "cell_type": "code",
   "execution_count": 326,
   "outputs": [],
   "source": [
    "def load_frequencies(path = '../data/ERPSpellerDataV1/ERPSpellerDataA30Sec8-18hz'):\n",
    "    data, header = pyxdf.load_xdf(path+'/dejittered-unity-frequencies-Yformat.xdf')\n",
    "    df_stream = None\n",
    "    df_stream_ts = None\n",
    "    for s in data:\n",
    "        stream = s\n",
    "        y = stream['time_series']\n",
    "        df_stream = pd.DataFrame(y)\n",
    "        df_stream_ts = pd.DataFrame(stream['time_stamps'])\n",
    "        df_stream_ts.columns = ['time']\n",
    "        df_stream.columns = frequencies\n",
    "    return df_stream, df_stream_ts\n",
    "\n",
    "def load_eeg(path = '../data/ERPSpellerDataV1/ERPSpellerDataA30Sec8-18hz'):\n",
    "    data, header = pyxdf.load_xdf(path+'/dejittered-eeg.xdf')\n",
    "    df_stream = None\n",
    "    df_stream_ts = None\n",
    "    for s in data:\n",
    "        stream = s\n",
    "        y = stream['time_series']\n",
    "        df_stream = pd.DataFrame(y)\n",
    "        df_stream_ts = pd.DataFrame(stream['time_stamps'])\n",
    "        df_stream_ts.columns = ['time']\n",
    "        df_stream.columns = channels\n",
    "    return df_stream, df_stream_ts\n",
    "\n",
    "def load_eeg_and_freq(path = '../data/ERPSpellerDataV1/ERPSpellerDataA30Sec8-18hz'):\n",
    "    data, header = pyxdf.load_xdf(path+'/dejittered-shited100ms-decimate2-eeg-and-dejittered-unity-freq.xdf')\n",
    "    df_stream = None\n",
    "    df_stream_ts = None\n",
    "    for s in data:\n",
    "        stream = s\n",
    "        y = stream['time_series']\n",
    "        df_stream = pd.DataFrame(y)\n",
    "        df_stream_ts = pd.DataFrame(stream['time_stamps'])\n",
    "        df_stream_ts.columns = ['time']\n",
    "        df_stream.columns = frequencies+ channels\n",
    "    return df_stream, df_stream_ts"
   ],
   "metadata": {
    "collapsed": false,
    "pycharm": {
     "name": "#%%\n"
    }
   }
  },
  {
   "cell_type": "code",
   "execution_count": 327,
   "outputs": [
    {
     "name": "stdout",
     "output_type": "stream",
     "text": [
      "2581\n",
      "8.18\n",
      "[[1.         0.17804908]\n",
      " [0.17804908 1.        ]]\n",
      "9\n",
      "[[1.         0.14596749]\n",
      " [0.14596749 1.        ]]\n",
      "10\n",
      "[[1.        0.1459319]\n",
      " [0.1459319 1.       ]]\n",
      "11.25\n",
      "[[1.         0.19823804]\n",
      " [0.19823804 1.        ]]\n",
      "12.85\n",
      "[[1.         0.09668205]\n",
      " [0.09668205 1.        ]]\n",
      "15\n",
      "[[1.         0.07074339]\n",
      " [0.07074339 1.        ]]\n"
     ]
    }
   ],
   "source": [
    "flip = False\n",
    "path = '../data/BCISpellerV1/SpellerV1_8.18_5/'\n",
    "df_eeg, df_ts_eeg = load_eeg(path)\n",
    "df_freq, df_ts_freq = load_frequencies(path)\n",
    "df_eeg_freq, df_ts_eeg_freq = load_eeg_and_freq(path)\n",
    "chosen_channel = 'Oz'\n",
    "\n",
    "start = 250*3\n",
    "end = 250*4\n",
    "print(len(df_eeg_freq))\n",
    "#plot_single(df_eeg_freq[start:end], df_ts_eeg_freq[start:end], chosen_channel)\n",
    "#plot_single(df_eeg_freq[start:end], df_ts_eeg_freq[start:end], '8.18')\n",
    "\n",
    "X = df_eeg_freq[start:end][[chosen_channel, 'O1', 'O2', 'P3', 'P4', 'Pz']]\n",
    "\n",
    "\n",
    "for i in frequencies:\n",
    "    Y = df_eeg_freq[start:end][i]\n",
    "    ca = CCA(n_components=1)\n",
    "    ca.fit(X, Y)\n",
    "    X_c, Y_c = ca.transform(X, Y)\n",
    "    print(i)\n",
    "    print(np.corrcoef(X_c[:, 0], Y_c[:, 0]))"
   ],
   "metadata": {
    "collapsed": false,
    "pycharm": {
     "name": "#%%\n"
    }
   }
  }
 ],
 "metadata": {
  "kernelspec": {
   "display_name": "Python 3",
   "language": "python",
   "name": "python3"
  },
  "language_info": {
   "codemirror_mode": {
    "name": "ipython",
    "version": 2
   },
   "file_extension": ".py",
   "mimetype": "text/x-python",
   "name": "python",
   "nbconvert_exporter": "python",
   "pygments_lexer": "ipython2",
   "version": "2.7.6"
  }
 },
 "nbformat": 4,
 "nbformat_minor": 0
}