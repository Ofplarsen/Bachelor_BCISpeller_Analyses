{
 "cells": [
  {
   "cell_type": "code",
   "execution_count": 3,
   "metadata": {
    "collapsed": true
   },
   "outputs": [],
   "source": [
    "import pyxdf\n",
    "import pandas as pd\n",
    "import matplotlib.pyplot as plt\n",
    "import numpy as np\n",
    "from scipy import signal"
   ]
  },
  {
   "cell_type": "code",
   "execution_count": 4,
   "outputs": [],
   "source": [
    "channels = ['Fp1', 'Fz', 'F3', 'F7', 'F9', 'FC5', 'FC1', 'C3', 'T7', 'CP5', 'CP1', 'Pz', 'P3', 'P7'\n",
    "            , 'P9', 'O1', 'Oz', 'O2', 'P10', 'P8', 'P4', 'CP2', 'CP6', 'T8', 'C4', 'Cz'\n",
    "            , 'FC2', 'FC6', 'F10', 'F8', 'F4', 'Fp2','AUX_1', 'ACC_X', 'ACC_Y', 'ACC_Z']\n",
    "removed_channels = ['Fp1', 'F8', 'F7', 'Fp2', 'F3', 'F4']\n",
    "# TODO ADD AUX WHEN CONNECTED\n",
    "eye_data_names = ['x', 'y', 'z', 'left_blink', 'right_blink', 'both_blink', 'left_openness', 'right_openness']\n",
    "columns =  eye_data_names + channels\n",
    "\n",
    "data_eeg, header = pyxdf.load_xdf('data/LSLDataV2/LSLDataLeft5Times/dejittered-and-fir-eeg.xdf')\n",
    "data, header1 = pyxdf.load_xdf('data/LSLDataV2/LSLDataLeft5Times/eeg-and-eyetracking.xdf')\n"
   ],
   "metadata": {
    "collapsed": false,
    "pycharm": {
     "name": "#%%\n"
    }
   }
  },
  {
   "cell_type": "code",
   "execution_count": 5,
   "outputs": [],
   "source": [
    "def get_time_stamps(stamps: list):\n",
    "    start = []\n",
    "    end = []\n",
    "    more_than_one = False\n",
    "\n",
    "    for i in range(len(stamps)):\n",
    "        if i == (len(stamps)-1):\n",
    "            if(stamps[i-1] == (stamps[i] - 1)):\n",
    "                end.append(stamps[i])\n",
    "            break\n",
    "\n",
    "        if(stamps[i] == (stamps[i+1] - 1)):\n",
    "            if not more_than_one:\n",
    "                start.append(stamps[i])\n",
    "            more_than_one = True\n",
    "            continue\n",
    "        else:\n",
    "            if more_than_one:\n",
    "                end.append(stamps[i])\n",
    "                more_than_one = False\n",
    "\n",
    "    return start, end\n",
    "\n",
    "def plot_eeg_single(df,df_ts, column):\n",
    "    axis = plt.subplot()\n",
    "    axis.plot(df_ts['time'], df[column])\n",
    "    axis.set_title(column)\n",
    "    plt.show()\n",
    "\n",
    "def plot_eeg_blink_single_norm(df,df_ts, start, end,column,rang = 50, scale=1):\n",
    "    plt.figure(figsize=(10,6))\n",
    "    df = df[start - rang:end + rang]\n",
    "    df.columns = columns\n",
    "    axis = plt.subplot()\n",
    "    axis.axvline(df_ts['time'][start], color='green', label = \"Blink start - TobiiXR\")  # y = 0\n",
    "    axis.axvline(df_ts['time'][end], color='red', label = \"Blink End - TobiiXR\")\n",
    "\n",
    "    flip = -1 if df[column].min() < 0 else 1\n",
    "\n",
    "\n",
    "    df_norm = (df[column].abs() / df[column].abs().max()) * flip\n",
    "    plus = -df_norm[start - rang]\n",
    "    axis.plot(df_ts['time'][start-rang:end+rang], (df_norm + plus) *scale, label = \"EMG\")\n",
    "    axis.plot(df_ts['time'][start-rang:end+rang], (df['left_openness'] / df['left_openness'].abs().max())*(-1)+1, color='orange', label = \"Eye openness - SRanipal\")\n",
    "    axis.set_xlabel(\"Time normalized (seconds)\")\n",
    "    axis.set_ylabel(\"Normalized charge\")\n",
    "    axis.set_title(column)\n",
    "    plt.legend()\n",
    "    plt.show()\n",
    "\n",
    "def plot_eeg_blink_single(df,df_ts, start, end,column,rang = 50):\n",
    "    plt.figure(figsize=(10,6))\n",
    "    df = df[start - rang:end + rang]\n",
    "    df.columns = columns\n",
    "    axis = plt.subplot()\n",
    "    axis.axvline(df_ts['time'][start], color='green', label = \"Blink start - TobiiXR\")  # y = 0\n",
    "    axis.axvline(df_ts['time'][end], color='red', label = \"Blink End - TobiiXR\")\n",
    "\n",
    "    axis.plot(df_ts['time'][start-rang:end+rang], df[column], label = \"EMG\")\n",
    "    axis.plot(df_ts['time'][start-rang:end+rang], df['left_openness'], color='orange', label = \"Eye openness - SRanipal\")\n",
    "    axis.set_title(column)\n",
    "    plt.legend()\n",
    "    plt.show()\n",
    "\n",
    "\n",
    "def plot_eeg_blink_all(stream, start, end,rang = 50):\n",
    "    df = pd.DataFrame(stream['time_series'])\n",
    "    df.columns = columns\n",
    "    df = df[start - rang:end + rang]\n",
    "    index = 0\n",
    "    for i in range(32):\n",
    "        color = 'blue'\n",
    "        index += 1\n",
    "        if channels[i] in removed_channels:\n",
    "            color = 'red'\n",
    "\n",
    "        axis = plt.subplot()\n",
    "        axis.axvline(stream['time_stamps'][start], color='red')  # y = 0\n",
    "        axis.axvline(stream['time_stamps'][end], color='red')\n",
    "        axis.plot(stream['time_stamps'][start-rang:end+rang], df[channels[i]], color=color)\n",
    "        axis.set_title(channels[i])\n",
    "        plt.show()\n",
    "\n"
   ],
   "metadata": {
    "collapsed": false,
    "pycharm": {
     "name": "#%%\n"
    }
   }
  },
  {
   "cell_type": "code",
   "execution_count": 6,
   "outputs": [
    {
     "ename": "ValueError",
     "evalue": "Length mismatch: Expected axis has 32 elements, new values have 36 elements",
     "output_type": "error",
     "traceback": [
      "\u001B[0;31m---------------------------------------------------------------------------\u001B[0m",
      "\u001B[0;31mValueError\u001B[0m                                Traceback (most recent call last)",
      "Cell \u001B[0;32mIn [6], line 16\u001B[0m\n\u001B[1;32m     14\u001B[0m     y \u001B[38;5;241m=\u001B[39m stream[\u001B[38;5;124m'\u001B[39m\u001B[38;5;124mtime_series\u001B[39m\u001B[38;5;124m'\u001B[39m]\n\u001B[1;32m     15\u001B[0m     df_stream_eeg \u001B[38;5;241m=\u001B[39m pd\u001B[38;5;241m.\u001B[39mDataFrame(y)\n\u001B[0;32m---> 16\u001B[0m     \u001B[43mdf_stream_eeg\u001B[49m\u001B[38;5;241;43m.\u001B[39;49m\u001B[43mcolumns\u001B[49m \u001B[38;5;241m=\u001B[39m channels\n\u001B[1;32m     17\u001B[0m     df_stream \u001B[38;5;241m=\u001B[39m df_stream\u001B[38;5;241m.\u001B[39mjoin(df_stream_eeg[df_stream_eeg\u001B[38;5;241m.\u001B[39mcolumns\u001B[38;5;241m.\u001B[39mdifference(df_stream\u001B[38;5;241m.\u001B[39mcolumns)])\n\u001B[1;32m     20\u001B[0m \u001B[38;5;28mprint\u001B[39m(df_stream)\n",
      "File \u001B[0;32m/usr/local/lib/python3.9/dist-packages/pandas/core/generic.py:5915\u001B[0m, in \u001B[0;36mNDFrame.__setattr__\u001B[0;34m(self, name, value)\u001B[0m\n\u001B[1;32m   5913\u001B[0m \u001B[38;5;28;01mtry\u001B[39;00m:\n\u001B[1;32m   5914\u001B[0m     \u001B[38;5;28mobject\u001B[39m\u001B[38;5;241m.\u001B[39m\u001B[38;5;21m__getattribute__\u001B[39m(\u001B[38;5;28mself\u001B[39m, name)\n\u001B[0;32m-> 5915\u001B[0m     \u001B[38;5;28;01mreturn\u001B[39;00m \u001B[38;5;28;43mobject\u001B[39;49m\u001B[38;5;241;43m.\u001B[39;49m\u001B[38;5;21;43m__setattr__\u001B[39;49m\u001B[43m(\u001B[49m\u001B[38;5;28;43mself\u001B[39;49m\u001B[43m,\u001B[49m\u001B[43m \u001B[49m\u001B[43mname\u001B[49m\u001B[43m,\u001B[49m\u001B[43m \u001B[49m\u001B[43mvalue\u001B[49m\u001B[43m)\u001B[49m\n\u001B[1;32m   5916\u001B[0m \u001B[38;5;28;01mexcept\u001B[39;00m \u001B[38;5;167;01mAttributeError\u001B[39;00m:\n\u001B[1;32m   5917\u001B[0m     \u001B[38;5;28;01mpass\u001B[39;00m\n",
      "File \u001B[0;32m/usr/local/lib/python3.9/dist-packages/pandas/_libs/properties.pyx:69\u001B[0m, in \u001B[0;36mpandas._libs.properties.AxisProperty.__set__\u001B[0;34m()\u001B[0m\n",
      "File \u001B[0;32m/usr/local/lib/python3.9/dist-packages/pandas/core/generic.py:823\u001B[0m, in \u001B[0;36mNDFrame._set_axis\u001B[0;34m(self, axis, labels)\u001B[0m\n\u001B[1;32m    821\u001B[0m \u001B[38;5;28;01mdef\u001B[39;00m \u001B[38;5;21m_set_axis\u001B[39m(\u001B[38;5;28mself\u001B[39m, axis: \u001B[38;5;28mint\u001B[39m, labels: AnyArrayLike \u001B[38;5;241m|\u001B[39m \u001B[38;5;28mlist\u001B[39m) \u001B[38;5;241m-\u001B[39m\u001B[38;5;241m>\u001B[39m \u001B[38;5;28;01mNone\u001B[39;00m:\n\u001B[1;32m    822\u001B[0m     labels \u001B[38;5;241m=\u001B[39m ensure_index(labels)\n\u001B[0;32m--> 823\u001B[0m     \u001B[38;5;28;43mself\u001B[39;49m\u001B[38;5;241;43m.\u001B[39;49m\u001B[43m_mgr\u001B[49m\u001B[38;5;241;43m.\u001B[39;49m\u001B[43mset_axis\u001B[49m\u001B[43m(\u001B[49m\u001B[43maxis\u001B[49m\u001B[43m,\u001B[49m\u001B[43m \u001B[49m\u001B[43mlabels\u001B[49m\u001B[43m)\u001B[49m\n\u001B[1;32m    824\u001B[0m     \u001B[38;5;28mself\u001B[39m\u001B[38;5;241m.\u001B[39m_clear_item_cache()\n",
      "File \u001B[0;32m/usr/local/lib/python3.9/dist-packages/pandas/core/internals/managers.py:230\u001B[0m, in \u001B[0;36mBaseBlockManager.set_axis\u001B[0;34m(self, axis, new_labels)\u001B[0m\n\u001B[1;32m    228\u001B[0m \u001B[38;5;28;01mdef\u001B[39;00m \u001B[38;5;21mset_axis\u001B[39m(\u001B[38;5;28mself\u001B[39m, axis: \u001B[38;5;28mint\u001B[39m, new_labels: Index) \u001B[38;5;241m-\u001B[39m\u001B[38;5;241m>\u001B[39m \u001B[38;5;28;01mNone\u001B[39;00m:\n\u001B[1;32m    229\u001B[0m     \u001B[38;5;66;03m# Caller is responsible for ensuring we have an Index object.\u001B[39;00m\n\u001B[0;32m--> 230\u001B[0m     \u001B[38;5;28;43mself\u001B[39;49m\u001B[38;5;241;43m.\u001B[39;49m\u001B[43m_validate_set_axis\u001B[49m\u001B[43m(\u001B[49m\u001B[43maxis\u001B[49m\u001B[43m,\u001B[49m\u001B[43m \u001B[49m\u001B[43mnew_labels\u001B[49m\u001B[43m)\u001B[49m\n\u001B[1;32m    231\u001B[0m     \u001B[38;5;28mself\u001B[39m\u001B[38;5;241m.\u001B[39maxes[axis] \u001B[38;5;241m=\u001B[39m new_labels\n",
      "File \u001B[0;32m/usr/local/lib/python3.9/dist-packages/pandas/core/internals/base.py:70\u001B[0m, in \u001B[0;36mDataManager._validate_set_axis\u001B[0;34m(self, axis, new_labels)\u001B[0m\n\u001B[1;32m     67\u001B[0m     \u001B[38;5;28;01mpass\u001B[39;00m\n\u001B[1;32m     69\u001B[0m \u001B[38;5;28;01melif\u001B[39;00m new_len \u001B[38;5;241m!=\u001B[39m old_len:\n\u001B[0;32m---> 70\u001B[0m     \u001B[38;5;28;01mraise\u001B[39;00m \u001B[38;5;167;01mValueError\u001B[39;00m(\n\u001B[1;32m     71\u001B[0m         \u001B[38;5;124mf\u001B[39m\u001B[38;5;124m\"\u001B[39m\u001B[38;5;124mLength mismatch: Expected axis has \u001B[39m\u001B[38;5;132;01m{\u001B[39;00mold_len\u001B[38;5;132;01m}\u001B[39;00m\u001B[38;5;124m elements, new \u001B[39m\u001B[38;5;124m\"\u001B[39m\n\u001B[1;32m     72\u001B[0m         \u001B[38;5;124mf\u001B[39m\u001B[38;5;124m\"\u001B[39m\u001B[38;5;124mvalues have \u001B[39m\u001B[38;5;132;01m{\u001B[39;00mnew_len\u001B[38;5;132;01m}\u001B[39;00m\u001B[38;5;124m elements\u001B[39m\u001B[38;5;124m\"\u001B[39m\n\u001B[1;32m     73\u001B[0m     )\n",
      "\u001B[0;31mValueError\u001B[0m: Length mismatch: Expected axis has 32 elements, new values have 36 elements"
     ]
    }
   ],
   "source": [
    "stream = None\n",
    "df_stream = None\n",
    "df_stream_ts = None\n",
    "for s in data:\n",
    "    stream = s\n",
    "    y = stream['time_series']\n",
    "    df_stream = pd.DataFrame(y)\n",
    "    df_stream_ts = pd.DataFrame(stream['time_stamps'])\n",
    "    df_stream_ts.columns = ['time']\n",
    "    df_stream.columns = columns\n",
    "\n",
    "for s in data_eeg:\n",
    "    stream = s\n",
    "    y = stream['time_series']\n",
    "    df_stream_eeg = pd.DataFrame(y)\n",
    "    df_stream_eeg.columns = channels\n",
    "    df_stream = df_stream.join(df_stream_eeg[df_stream_eeg.columns.difference(df_stream.columns)])\n",
    "\n",
    "\n",
    "print(df_stream)\n",
    "def get_blinks_in_df(df):\n",
    "    left_blinks = df.index[(df['left_blink'] >= 1) & (df['right_blink'] != 1)].tolist()\n",
    "    right_blinks = df.index[(df['right_blink'] >= 1) & (df['left_blink'] != 1)].tolist()\n",
    "    both_blink = df.index[df['both_blink'] == 1].tolist()\n",
    "    return left_blinks,right_blinks, both_blink\n",
    "\n",
    "#left_blinks, right_blinks, both_blink = get_blinks_in_df(df_stream)"
   ],
   "metadata": {
    "collapsed": false,
    "pycharm": {
     "name": "#%%\n"
    }
   }
  },
  {
   "cell_type": "code",
   "execution_count": null,
   "outputs": [],
   "source": [
    "#start, end = get_time_stamps(left_blinks)\n",
    "chosen_channel = 'AUX_1'\n",
    "\n",
    "df_stream['AUX_1'] = df_stream['AUX_1']*(1)\n",
    "plot_eeg_single(df_stream, df_stream_ts, chosen_channel)"
   ],
   "metadata": {
    "collapsed": false,
    "pycharm": {
     "name": "#%%\n"
    }
   }
  },
  {
   "cell_type": "code",
   "execution_count": null,
   "outputs": [],
   "source": [],
   "metadata": {
    "collapsed": false,
    "pycharm": {
     "name": "#%%\n"
    }
   }
  }
 ],
 "metadata": {
  "kernelspec": {
   "display_name": "Python 3",
   "language": "python",
   "name": "python3"
  },
  "language_info": {
   "codemirror_mode": {
    "name": "ipython",
    "version": 2
   },
   "file_extension": ".py",
   "mimetype": "text/x-python",
   "name": "python",
   "nbconvert_exporter": "python",
   "pygments_lexer": "ipython2",
   "version": "2.7.6"
  }
 },
 "nbformat": 4,
 "nbformat_minor": 0
}