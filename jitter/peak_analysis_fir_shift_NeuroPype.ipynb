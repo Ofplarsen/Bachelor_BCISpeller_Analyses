{
 "cells": [
  {
   "cell_type": "code",
   "execution_count": 79,
   "metadata": {
    "collapsed": true
   },
   "outputs": [],
   "source": [
    "import pyxdf\n",
    "import pandas as pd\n",
    "import matplotlib.pyplot as plt\n",
    "import numpy as np\n",
    "from scipy import signal\n",
    "import os\n",
    "from sklearn.metrics import mean_squared_error"
   ]
  },
  {
   "cell_type": "code",
   "execution_count": 80,
   "outputs": [],
   "source": [
    "channels = ['Fp1', 'Fz', 'F3', 'F7', 'F9', 'FC5', 'FC1', 'C3', 'T7', 'CP5', 'CP1', 'Pz', 'P3', 'P7'\n",
    "            , 'P9', 'O1', 'Oz', 'O2', 'P10', 'P8', 'P4', 'CP2', 'CP6', 'T8', 'C4', 'Cz'\n",
    "            , 'FC2', 'FC6', 'F10', 'F8', 'F4', 'Fp2','AUX_1', 'ACC_X', 'ACC_Y', 'ACC_Z']\n",
    "removed_channels = ['Fp1', 'F8', 'F7', 'Fp2', 'F3', 'F4']\n",
    "# TODO ADD AUX WHEN CONNECTED\n",
    "eye_data_names = ['x', 'y', 'z', 'left_blink', 'right_blink', 'both_blink', 'left_openness', 'right_openness']\n",
    "\n",
    "columns =  eye_data_names + channels\n",
    "\n",
    "data, header = pyxdf.load_xdf('data/LSLDataV2/LSLDataLeftFourTimes2/eeg-and-eyetracking.xdf')\n"
   ],
   "metadata": {
    "collapsed": false,
    "pycharm": {
     "name": "#%%\n"
    }
   }
  },
  {
   "cell_type": "code",
   "execution_count": 81,
   "outputs": [],
   "source": [
    "def get_time_stamps(stamps: list):\n",
    "    start = []\n",
    "    end = []\n",
    "    more_than_one = False\n",
    "\n",
    "    for i in range(len(stamps)):\n",
    "        if i == (len(stamps)-1):\n",
    "            if(stamps[i-1] == (stamps[i] - 1)):\n",
    "                end.append(stamps[i])\n",
    "            break\n",
    "\n",
    "        if(stamps[i] == (stamps[i+1] - 1)):\n",
    "            if not more_than_one:\n",
    "                start.append(stamps[i])\n",
    "            more_than_one = True\n",
    "            continue\n",
    "        else:\n",
    "            if more_than_one:\n",
    "                end.append(stamps[i])\n",
    "                more_than_one = False\n",
    "\n",
    "    return start, end"
   ],
   "metadata": {
    "collapsed": false,
    "pycharm": {
     "name": "#%%\n"
    }
   }
  },
  {
   "cell_type": "code",
   "execution_count": 82,
   "outputs": [],
   "source": [
    "def plot_eeg_blink_single_norm(df,df_ts, start, end,column,rang = 50, scale=1, flip = False):\n",
    "    plt.figure(figsize=(10,6))\n",
    "    df = df[start - rang:end + rang]\n",
    "    df.columns = columns\n",
    "    axis = plt.subplot()\n",
    "    axis.axvline(df_ts['time'][start], color='green', label = \"Blink start - TobiiXR\")  # y = 0\n",
    "    axis.axvline(df_ts['time'][end], color='red', label = \"Blink End - TobiiXR\")\n",
    "    df_norm = (df[column].abs() / df[column].abs().max())\n",
    "    plus = -df_norm[start - rang]\n",
    "    axis.plot(df_ts['time'][start-rang:end+rang], (df_norm + plus) *(-1 if flip else 1) *scale, label = \"EMG\")\n",
    "    axis.plot(df_ts['time'][start-rang:end+rang], (df['left_openness'] / df['left_openness'].abs().max())\n",
    "               *(-1)+ 1, color='orange', label = \"Eye openness - SRanipal\")\n",
    "    axis.plot(df_ts['time'][start-rang:end+rang], (df['right_openness'] / df['right_openness'].abs().max())\n",
    "               *(-1)+ 1, color='violet', label = \"Eye openness right - SRanipal\")\n",
    "    axis.set_xlabel(\"Time normalized (seconds)\")\n",
    "    axis.set_ylabel(\"Amplitude \")\n",
    "    axis.set_title(column)\n",
    "    plt.legend()\n",
    "    plt.show()\n",
    "\n",
    "def plot_eeg_blink_single(df,df_ts, start, end,column,rang = 50):\n",
    "    plt.figure(figsize=(10,6))\n",
    "    df = df[start - rang:end + rang]\n",
    "    df.columns = columns\n",
    "    axis = plt.subplot()\n",
    "    axis.axvline(df_ts['time'][start], color='green', label = \"Blink start - TobiiXR\")  # y = 0\n",
    "    axis.axvline(df_ts['time'][end], color='red', label = \"Blink End - TobiiXR\")\n",
    "\n",
    "    axis.plot(df_ts['time'][start-rang:end+rang], df[column], label = \"EMG\")\n",
    "    axis.plot(df_ts['time'][start-rang:end+rang], df['left_openness'], color='orange', label = \"Eye openness left - SRanipal\")\n",
    "    axis.plot(df_ts['time'][start-rang:end+rang], df['right_openness'], color='violet', label = \"Eye openness right - SRanipal\")\n",
    "    axis.set_title(column)\n",
    "    plt.legend()\n",
    "    plt.show()"
   ],
   "metadata": {
    "collapsed": false,
    "pycharm": {
     "name": "#%%\n"
    }
   }
  },
  {
   "cell_type": "code",
   "execution_count": 83,
   "outputs": [],
   "source": [
    "\n",
    "def init_data(data, shift = 0):\n",
    "    for s in data:\n",
    "        stream = s\n",
    "        y = stream['time_series']\n",
    "        df_stream = pd.DataFrame(y)\n",
    "        df_stream_ts = pd.DataFrame(stream['time_stamps'])\n",
    "        df_stream_ts.columns = ['time']\n",
    "        df_stream.columns = columns\n",
    "        df_stream['AUX_1'] = df_stream['AUX_1']+ 1000000\n",
    "        if shift != 0:\n",
    "            df_stream['AUX_1'] = df_stream['AUX_1'].shift(shift)\n",
    "        return stream, df_stream, df_stream_ts\n",
    "\n",
    "stream, df_stream, df_stream_ts = init_data(data)\n",
    "def get_blinks_in_df(df):\n",
    "    left_blinks = df.index[(df['left_blink'] >= 1) & (df['right_blink'] != 1)].tolist()\n",
    "    right_blinks = df.index[(df['right_blink'] >= 1) & (df['left_blink'] != 1)].tolist()\n",
    "    both_blink = df.index[df['both_blink'] == 1].tolist()\n",
    "    return left_blinks,right_blinks, both_blink\n",
    "\n",
    "left_blinks, right_blinks, both_blink = get_blinks_in_df(df_stream)"
   ],
   "metadata": {
    "collapsed": false,
    "pycharm": {
     "name": "#%%\n"
    }
   }
  },
  {
   "cell_type": "code",
   "execution_count": 84,
   "outputs": [],
   "source": [
    "avg_time = np.diff(df_stream_ts.to_numpy().flatten()).tolist()"
   ],
   "metadata": {
    "collapsed": false,
    "pycharm": {
     "name": "#%%\n"
    }
   }
  },
  {
   "cell_type": "code",
   "execution_count": 85,
   "outputs": [
    {
     "name": "stdout",
     "output_type": "stream",
     "text": [
      "[1201, 1510, 1858]\n",
      "[1278, 1576, 1917]\n"
     ]
    }
   ],
   "source": [
    "start, end = get_time_stamps(left_blinks)\n",
    "flip = False\n",
    "chosen_channel = 'AUX_1'\n",
    "print(start)\n",
    "print(end)\n"
   ],
   "metadata": {
    "collapsed": false,
    "pycharm": {
     "name": "#%%\n"
    }
   }
  },
  {
   "cell_type": "code",
   "execution_count": 86,
   "outputs": [],
   "source": [
    "from scipy.signal import butter, lfilter\n",
    "# Sample rate and desired cutoff frequencies (in Hz).\n",
    "def plot_eeg_blink_single_norm(df,df_ts, start, end,column,rang = 50, scale=1, flip = False, order = 4):\n",
    "    plt.figure(figsize=(10,6))\n",
    "    df = df[start - rang:end + rang]\n",
    "    df.columns = columns\n",
    "    axis = plt.subplot()\n",
    "    axis.axvline(df_ts['time'][start], color='green', label = \"Blink start - TobiiXR\")  # y = 0\n",
    "    axis.axvline(df_ts['time'][end], color='red', label = \"Blink End - TobiiXR\")\n",
    "    df_norm = (df[column].abs() / df[column].abs().max())\n",
    "    plus = -df_norm[start - rang]\n",
    "\n",
    "    y = (df_norm + plus) *(-1 if flip else 1) *scale\n",
    "    peaks, _ = signal.find_peaks(y[rang-7:rang+30])\n",
    "    peaks = [peak + rang-7 for peak in peaks]\n",
    "\n",
    "    axis.plot(df_ts['time'][start-rang:end+rang], y, label = \"EMG\")\n",
    "    axis.plot(df_ts['time'][start-rang:end+rang], (df['left_openness'] / df['left_openness'].abs().max())\n",
    "               *(-1)+ 1, color='orange', label = \"Eye openness - SRanipal\")\n",
    "    axis.plot(df_ts['time'][start-rang:end+rang], (df['right_openness'] / df['right_openness'].abs().max())\n",
    "               *(-1)+ 1, color='violet', label = \"Eye openness right - SRanipal\")\n",
    "    axis.set_xlabel(\"Time normalized (seconds)\")\n",
    "    axis.set_ylabel(\"Normalized Amplitude\")\n",
    "    for i in peaks:\n",
    "        plt.plot(df_ts['time'][i+ start - rang], y[i], marker=\"o\", markersize=5, markeredgecolor=\"turquoise\", markerfacecolor=\"black\", label=\"Local maximum \" + str(y[i].round(2)) + \", \" + str(i+ start - rang))\n",
    "    axis.set_title(column)\n",
    "    plt.legend()\n",
    "    plt.show()\n",
    "\n",
    "def get_peaks(df, start, end, column, rang=50, scale=1, flip=False):\n",
    "    df = df[start - rang:end + rang]\n",
    "    df_norm = (df[column].abs() / df[column].abs().max())\n",
    "    plus = -df_norm[start - rang]\n",
    "    y = ((df_norm + plus) *(-1 if flip else 1) *scale).tolist()\n",
    "    peaks, _ = signal.find_peaks(y[rang-20:rang+20])\n",
    "    peaks = [peak + rang-20 for peak in peaks]\n",
    "    if len(peaks) == 0:\n",
    "        #print(df)\n",
    "        return 0\n",
    "    peak = peaks[np.argmax([y[i] for i in peaks])]+ start - rang\n",
    "    return  peak if end + rang > peak > start - rang else start\n",
    "\n"
   ],
   "metadata": {
    "collapsed": false,
    "pycharm": {
     "name": "#%%\n"
    }
   }
  },
  {
   "cell_type": "code",
   "execution_count": 87,
   "outputs": [],
   "source": [
    "\n",
    "\n",
    "def find_shift(start, peaks):\n",
    "    differences_start = []\n",
    "    differences_end = []\n",
    "    for i in range(len(peaks)):\n",
    "        differences_start.append(start[i]-peaks[i])\n",
    "    return differences_start\n",
    "\n",
    "def plot_table(df):\n",
    "    #make this example reproducible\n",
    "\n",
    "    #define figure and axes\n",
    "    fig, ax = plt.subplots()\n",
    "    #hide the axes\n",
    "    fig.patch.set_visible(False)\n",
    "    ax.axis('off')\n",
    "    ax.axis('tight')\n",
    "\n",
    "    #create data\n",
    "\n",
    "    #create table\n",
    "    table = ax.table(cellText=df.values, colLabels=df.columns, loc='center')\n",
    "    table.scale(2.5, 2.5)\n",
    "    table.set_fontsize(30)\n",
    "    plt.show()"
   ],
   "metadata": {
    "collapsed": false,
    "pycharm": {
     "name": "#%%\n"
    }
   }
  },
  {
   "cell_type": "code",
   "execution_count": 88,
   "outputs": [],
   "source": [
    "\n",
    "def run_files(paths, path='data/LSLShiftedData/', both = True, plot = False, shift_init=0):\n",
    "    peak_info = []\n",
    "    avg_time = []\n",
    "    for (index,y) in enumerate(paths):\n",
    "        data, header = pyxdf.load_xdf(path+str(y)+'/dejittered-fir-timestamp-shifted-40ms-eeg-and-dejittered-eyetracking.xdf')\n",
    "        stream, df_stream, df_stream_ts = init_data(data,shift_init)\n",
    "        left_blinks, right_blinks, both_blink = get_blinks_in_df(df_stream)\n",
    "        start, end = get_time_stamps(both_blink if both else left_blinks)\n",
    "        avg_time.append(np.diff(df_stream_ts.to_numpy().flatten()).tolist())\n",
    "        peaks = []\n",
    "        for i in range(len(start)):\n",
    "            if i == 10:\n",
    "                continue\n",
    "            peaks.append(get_peaks(df_stream, start[i], end[i], chosen_channel, rang=50, scale=5, flip=both))\n",
    "\n",
    "        shift = find_shift(start, peaks)\n",
    "        peak_info.append(shift)\n",
    "\n",
    "    n = len(max(peak_info, key=len))\n",
    "    t = [x + [None]*(n-len(x)) for x in peak_info]\n",
    "    numpy_array_peak_info = np.array(t)\n",
    "    df_peak = pd.DataFrame(numpy_array_peak_info)\n",
    "    df_peak = df_peak.set_index([paths])\n",
    "    df_peak['time between index (s)'] = [i[0] for i in avg_time]\n",
    "    df_peak['Sum (indexes)'] = df_peak.sum(axis=1)\n",
    "    df_peak['Avg (indexes)'] = round(df_peak.loc[:, 0:9].mean(axis=1),3)\n",
    "    df_peak['Avg time (ms)'] = round(df_peak['Avg (indexes)']*df_peak['time between index (s)'],5)*1000\n",
    "    if plot:\n",
    "        plot_table(df_peak)\n",
    "    return df_peak\n",
    "\n"
   ],
   "metadata": {
    "collapsed": false,
    "pycharm": {
     "name": "#%%\n"
    }
   }
  },
  {
   "cell_type": "code",
   "execution_count": 89,
   "outputs": [
    {
     "data": {
      "text/plain": "                          0  1  2  3  4  5  6  7  8  9  \\\nFK20LSLDataBothTenTimes5 -2  0 -5  1 -1  1  1 -3  0 -2   \nLSLDataBoth10Times1      -2  1  2  1  4 -2  0  0  0  1   \nLSLDataBoth10Times10     -1 -1 -4  0 -3  1 -5 -1 -1 -4   \nLSLDataBoth10Times11      0 -1  1  0 -1  0 -1  0 -1 -5   \nLSLDataBoth10Times12     -2 -1 -2  1  0  1 -2  0 -2 -3   \nLSLDataBoth10Times13      2 -1  0  2  0  2 -1  1  0 -1   \nLSLDataBoth10Times14      1  1  1 -1 -1 -3  0 -4 -1 -3   \nLSLDataBoth10Times2      -1  1  1  1 -1  3 -2  0  0 -1   \nLSLDataBoth10Times3       2 -1  0 -1 -2 -1 -3  3  3 -3   \nLSLDataBoth10Times4       4  1  1  0 -1  2  1 -1  1  1   \nLSLDataBoth10Times5      -1  0  1  2  1  3  0  0 -3 -1   \nLSLDataBoth10Times6       2  1  0  2 -1 -1  0  0  0 -2   \nLSLDataBoth10Times7       1  1  0 -1 -1 -1 -7  4  0  0   \nLSLDataBoth10Times8       1 -1  0  4 -3 -4 -3  0  0  1   \nLSLDataBoth10Times9       1 -1 -3  0 -3 -3 -3  0  0  3   \n\n                          time between index (s)  Sum (indexes)  \\\nFK20LSLDataBothTenTimes5                   0.008         -9.992   \nLSLDataBoth10Times1                        0.008          5.008   \nLSLDataBoth10Times10                       0.008        -18.992   \nLSLDataBoth10Times11                       0.008         -7.992   \nLSLDataBoth10Times12                       0.008         -9.992   \nLSLDataBoth10Times13                       0.008          4.008   \nLSLDataBoth10Times14                       0.008         -9.992   \nLSLDataBoth10Times2                        0.008          1.008   \nLSLDataBoth10Times3                        0.008         -2.992   \nLSLDataBoth10Times4                        0.008          9.008   \nLSLDataBoth10Times5                        0.008          2.008   \nLSLDataBoth10Times6                        0.008          1.008   \nLSLDataBoth10Times7                        0.008         -3.992   \nLSLDataBoth10Times8                        0.008         -4.992   \nLSLDataBoth10Times9                        0.008         -8.992   \n\n                          Avg (indexes)  Avg time (ms)  \nFK20LSLDataBothTenTimes5           -1.0           -8.0  \nLSLDataBoth10Times1                 0.5            4.0  \nLSLDataBoth10Times10               -1.9          -15.2  \nLSLDataBoth10Times11               -0.8           -6.4  \nLSLDataBoth10Times12               -1.0           -8.0  \nLSLDataBoth10Times13                0.4            3.2  \nLSLDataBoth10Times14               -1.0           -8.0  \nLSLDataBoth10Times2                 0.1            0.8  \nLSLDataBoth10Times3                -0.3           -2.4  \nLSLDataBoth10Times4                 0.9            7.2  \nLSLDataBoth10Times5                 0.2            1.6  \nLSLDataBoth10Times6                 0.1            0.8  \nLSLDataBoth10Times7                -0.4           -3.2  \nLSLDataBoth10Times8                -0.5           -4.0  \nLSLDataBoth10Times9                -0.9           -7.2  ",
      "text/html": "<div>\n<style scoped>\n    .dataframe tbody tr th:only-of-type {\n        vertical-align: middle;\n    }\n\n    .dataframe tbody tr th {\n        vertical-align: top;\n    }\n\n    .dataframe thead th {\n        text-align: right;\n    }\n</style>\n<table border=\"1\" class=\"dataframe\">\n  <thead>\n    <tr style=\"text-align: right;\">\n      <th></th>\n      <th>0</th>\n      <th>1</th>\n      <th>2</th>\n      <th>3</th>\n      <th>4</th>\n      <th>5</th>\n      <th>6</th>\n      <th>7</th>\n      <th>8</th>\n      <th>9</th>\n      <th>time between index (s)</th>\n      <th>Sum (indexes)</th>\n      <th>Avg (indexes)</th>\n      <th>Avg time (ms)</th>\n    </tr>\n  </thead>\n  <tbody>\n    <tr>\n      <th>FK20LSLDataBothTenTimes5</th>\n      <td>-2</td>\n      <td>0</td>\n      <td>-5</td>\n      <td>1</td>\n      <td>-1</td>\n      <td>1</td>\n      <td>1</td>\n      <td>-3</td>\n      <td>0</td>\n      <td>-2</td>\n      <td>0.008</td>\n      <td>-9.992</td>\n      <td>-1.0</td>\n      <td>-8.0</td>\n    </tr>\n    <tr>\n      <th>LSLDataBoth10Times1</th>\n      <td>-2</td>\n      <td>1</td>\n      <td>2</td>\n      <td>1</td>\n      <td>4</td>\n      <td>-2</td>\n      <td>0</td>\n      <td>0</td>\n      <td>0</td>\n      <td>1</td>\n      <td>0.008</td>\n      <td>5.008</td>\n      <td>0.5</td>\n      <td>4.0</td>\n    </tr>\n    <tr>\n      <th>LSLDataBoth10Times10</th>\n      <td>-1</td>\n      <td>-1</td>\n      <td>-4</td>\n      <td>0</td>\n      <td>-3</td>\n      <td>1</td>\n      <td>-5</td>\n      <td>-1</td>\n      <td>-1</td>\n      <td>-4</td>\n      <td>0.008</td>\n      <td>-18.992</td>\n      <td>-1.9</td>\n      <td>-15.2</td>\n    </tr>\n    <tr>\n      <th>LSLDataBoth10Times11</th>\n      <td>0</td>\n      <td>-1</td>\n      <td>1</td>\n      <td>0</td>\n      <td>-1</td>\n      <td>0</td>\n      <td>-1</td>\n      <td>0</td>\n      <td>-1</td>\n      <td>-5</td>\n      <td>0.008</td>\n      <td>-7.992</td>\n      <td>-0.8</td>\n      <td>-6.4</td>\n    </tr>\n    <tr>\n      <th>LSLDataBoth10Times12</th>\n      <td>-2</td>\n      <td>-1</td>\n      <td>-2</td>\n      <td>1</td>\n      <td>0</td>\n      <td>1</td>\n      <td>-2</td>\n      <td>0</td>\n      <td>-2</td>\n      <td>-3</td>\n      <td>0.008</td>\n      <td>-9.992</td>\n      <td>-1.0</td>\n      <td>-8.0</td>\n    </tr>\n    <tr>\n      <th>LSLDataBoth10Times13</th>\n      <td>2</td>\n      <td>-1</td>\n      <td>0</td>\n      <td>2</td>\n      <td>0</td>\n      <td>2</td>\n      <td>-1</td>\n      <td>1</td>\n      <td>0</td>\n      <td>-1</td>\n      <td>0.008</td>\n      <td>4.008</td>\n      <td>0.4</td>\n      <td>3.2</td>\n    </tr>\n    <tr>\n      <th>LSLDataBoth10Times14</th>\n      <td>1</td>\n      <td>1</td>\n      <td>1</td>\n      <td>-1</td>\n      <td>-1</td>\n      <td>-3</td>\n      <td>0</td>\n      <td>-4</td>\n      <td>-1</td>\n      <td>-3</td>\n      <td>0.008</td>\n      <td>-9.992</td>\n      <td>-1.0</td>\n      <td>-8.0</td>\n    </tr>\n    <tr>\n      <th>LSLDataBoth10Times2</th>\n      <td>-1</td>\n      <td>1</td>\n      <td>1</td>\n      <td>1</td>\n      <td>-1</td>\n      <td>3</td>\n      <td>-2</td>\n      <td>0</td>\n      <td>0</td>\n      <td>-1</td>\n      <td>0.008</td>\n      <td>1.008</td>\n      <td>0.1</td>\n      <td>0.8</td>\n    </tr>\n    <tr>\n      <th>LSLDataBoth10Times3</th>\n      <td>2</td>\n      <td>-1</td>\n      <td>0</td>\n      <td>-1</td>\n      <td>-2</td>\n      <td>-1</td>\n      <td>-3</td>\n      <td>3</td>\n      <td>3</td>\n      <td>-3</td>\n      <td>0.008</td>\n      <td>-2.992</td>\n      <td>-0.3</td>\n      <td>-2.4</td>\n    </tr>\n    <tr>\n      <th>LSLDataBoth10Times4</th>\n      <td>4</td>\n      <td>1</td>\n      <td>1</td>\n      <td>0</td>\n      <td>-1</td>\n      <td>2</td>\n      <td>1</td>\n      <td>-1</td>\n      <td>1</td>\n      <td>1</td>\n      <td>0.008</td>\n      <td>9.008</td>\n      <td>0.9</td>\n      <td>7.2</td>\n    </tr>\n    <tr>\n      <th>LSLDataBoth10Times5</th>\n      <td>-1</td>\n      <td>0</td>\n      <td>1</td>\n      <td>2</td>\n      <td>1</td>\n      <td>3</td>\n      <td>0</td>\n      <td>0</td>\n      <td>-3</td>\n      <td>-1</td>\n      <td>0.008</td>\n      <td>2.008</td>\n      <td>0.2</td>\n      <td>1.6</td>\n    </tr>\n    <tr>\n      <th>LSLDataBoth10Times6</th>\n      <td>2</td>\n      <td>1</td>\n      <td>0</td>\n      <td>2</td>\n      <td>-1</td>\n      <td>-1</td>\n      <td>0</td>\n      <td>0</td>\n      <td>0</td>\n      <td>-2</td>\n      <td>0.008</td>\n      <td>1.008</td>\n      <td>0.1</td>\n      <td>0.8</td>\n    </tr>\n    <tr>\n      <th>LSLDataBoth10Times7</th>\n      <td>1</td>\n      <td>1</td>\n      <td>0</td>\n      <td>-1</td>\n      <td>-1</td>\n      <td>-1</td>\n      <td>-7</td>\n      <td>4</td>\n      <td>0</td>\n      <td>0</td>\n      <td>0.008</td>\n      <td>-3.992</td>\n      <td>-0.4</td>\n      <td>-3.2</td>\n    </tr>\n    <tr>\n      <th>LSLDataBoth10Times8</th>\n      <td>1</td>\n      <td>-1</td>\n      <td>0</td>\n      <td>4</td>\n      <td>-3</td>\n      <td>-4</td>\n      <td>-3</td>\n      <td>0</td>\n      <td>0</td>\n      <td>1</td>\n      <td>0.008</td>\n      <td>-4.992</td>\n      <td>-0.5</td>\n      <td>-4.0</td>\n    </tr>\n    <tr>\n      <th>LSLDataBoth10Times9</th>\n      <td>1</td>\n      <td>-1</td>\n      <td>-3</td>\n      <td>0</td>\n      <td>-3</td>\n      <td>-3</td>\n      <td>-3</td>\n      <td>0</td>\n      <td>0</td>\n      <td>3</td>\n      <td>0.008</td>\n      <td>-8.992</td>\n      <td>-0.9</td>\n      <td>-7.2</td>\n    </tr>\n  </tbody>\n</table>\n</div>"
     },
     "metadata": {},
     "output_type": "display_data"
    }
   ],
   "source": [
    "\n",
    "\n",
    "paths = [name for name in os.listdir(\"./data/LSLShiftedData\")]\n",
    "both = [name for name in paths if \"Both\" in name]\n",
    "\n",
    "\n",
    "df_both = run_files(both, both=True , plot=False)\n",
    "#df_both = df_both.drop(df_both.columns[[1]], inplace=True, axis=1)\n",
    "display(df_both)\n"
   ],
   "metadata": {
    "collapsed": false,
    "pycharm": {
     "name": "#%%\n"
    }
   }
  },
  {
   "cell_type": "code",
   "execution_count": 90,
   "outputs": [],
   "source": [
    "def get_offset(df):\n",
    "    avg_offset = df['Avg time (ms)'].sum()/df.shape[0]\n",
    "    avg_offset_index = df['Avg (indexes)'].sum()/df.shape[0]\n",
    "    #print(avg_offset_index)\n",
    "    return avg_offset, avg_offset_index\n"
   ],
   "metadata": {
    "collapsed": false,
    "pycharm": {
     "name": "#%%\n"
    }
   }
  },
  {
   "cell_type": "code",
   "execution_count": 91,
   "outputs": [
    {
     "name": "stdout",
     "output_type": "stream",
     "text": [
      "(ms, Number of indexes to shift) ---- Both\n",
      "(-2.9866666666666664, -0.3733333333333333)\n"
     ]
    },
    {
     "data": {
      "text/plain": "                          0  1  2  3  4  5  6  7  8  9  \\\nFK20LSLDataBothTenTimes5 -2  0 -5  1 -1  1  1 -3  0 -2   \nLSLDataBoth10Times1      -2  1  2  1  4 -2  0  0  0  1   \nLSLDataBoth10Times10     -1 -1 -4  0 -3  1 -5 -1 -1 -4   \nLSLDataBoth10Times11      0 -1  1  0 -1  0 -1  0 -1 -5   \nLSLDataBoth10Times12     -2 -1 -2  1  0  1 -2  0 -2 -3   \nLSLDataBoth10Times13      2 -1  0  2  0  2 -1  1  0 -1   \nLSLDataBoth10Times14      1  1  1 -1 -1 -3  0 -4 -1 -3   \nLSLDataBoth10Times2      -1  1  1  1 -1  3 -2  0  0 -1   \nLSLDataBoth10Times3       2 -1  0 -1 -2 -1 -3  3  3 -3   \nLSLDataBoth10Times4       4  1  1  0 -1  2  1 -1  1  1   \nLSLDataBoth10Times5      -1  0  1  2  1  3  0  0 -3 -1   \nLSLDataBoth10Times6       2  1  0  2 -1 -1  0  0  0 -2   \nLSLDataBoth10Times7       1  1  0 -1 -1 -1 -7  4  0  0   \nLSLDataBoth10Times8       1 -1  0  4 -3 -4 -3  0  0  1   \nLSLDataBoth10Times9       1 -1 -3  0 -3 -3 -3  0  0  3   \n\n                          time between index (s)  Sum (indexes)  \\\nFK20LSLDataBothTenTimes5                   0.008         -9.992   \nLSLDataBoth10Times1                        0.008          5.008   \nLSLDataBoth10Times10                       0.008        -18.992   \nLSLDataBoth10Times11                       0.008         -7.992   \nLSLDataBoth10Times12                       0.008         -9.992   \nLSLDataBoth10Times13                       0.008          4.008   \nLSLDataBoth10Times14                       0.008         -9.992   \nLSLDataBoth10Times2                        0.008          1.008   \nLSLDataBoth10Times3                        0.008         -2.992   \nLSLDataBoth10Times4                        0.008          9.008   \nLSLDataBoth10Times5                        0.008          2.008   \nLSLDataBoth10Times6                        0.008          1.008   \nLSLDataBoth10Times7                        0.008         -3.992   \nLSLDataBoth10Times8                        0.008         -4.992   \nLSLDataBoth10Times9                        0.008         -8.992   \n\n                          Avg (indexes)  Avg time (ms)  \nFK20LSLDataBothTenTimes5           -1.0           -8.0  \nLSLDataBoth10Times1                 0.5            4.0  \nLSLDataBoth10Times10               -1.9          -15.2  \nLSLDataBoth10Times11               -0.8           -6.4  \nLSLDataBoth10Times12               -1.0           -8.0  \nLSLDataBoth10Times13                0.4            3.2  \nLSLDataBoth10Times14               -1.0           -8.0  \nLSLDataBoth10Times2                 0.1            0.8  \nLSLDataBoth10Times3                -0.3           -2.4  \nLSLDataBoth10Times4                 0.9            7.2  \nLSLDataBoth10Times5                 0.2            1.6  \nLSLDataBoth10Times6                 0.1            0.8  \nLSLDataBoth10Times7                -0.4           -3.2  \nLSLDataBoth10Times8                -0.5           -4.0  \nLSLDataBoth10Times9                -0.9           -7.2  ",
      "text/html": "<div>\n<style scoped>\n    .dataframe tbody tr th:only-of-type {\n        vertical-align: middle;\n    }\n\n    .dataframe tbody tr th {\n        vertical-align: top;\n    }\n\n    .dataframe thead th {\n        text-align: right;\n    }\n</style>\n<table border=\"1\" class=\"dataframe\">\n  <thead>\n    <tr style=\"text-align: right;\">\n      <th></th>\n      <th>0</th>\n      <th>1</th>\n      <th>2</th>\n      <th>3</th>\n      <th>4</th>\n      <th>5</th>\n      <th>6</th>\n      <th>7</th>\n      <th>8</th>\n      <th>9</th>\n      <th>time between index (s)</th>\n      <th>Sum (indexes)</th>\n      <th>Avg (indexes)</th>\n      <th>Avg time (ms)</th>\n    </tr>\n  </thead>\n  <tbody>\n    <tr>\n      <th>FK20LSLDataBothTenTimes5</th>\n      <td>-2</td>\n      <td>0</td>\n      <td>-5</td>\n      <td>1</td>\n      <td>-1</td>\n      <td>1</td>\n      <td>1</td>\n      <td>-3</td>\n      <td>0</td>\n      <td>-2</td>\n      <td>0.008</td>\n      <td>-9.992</td>\n      <td>-1.0</td>\n      <td>-8.0</td>\n    </tr>\n    <tr>\n      <th>LSLDataBoth10Times1</th>\n      <td>-2</td>\n      <td>1</td>\n      <td>2</td>\n      <td>1</td>\n      <td>4</td>\n      <td>-2</td>\n      <td>0</td>\n      <td>0</td>\n      <td>0</td>\n      <td>1</td>\n      <td>0.008</td>\n      <td>5.008</td>\n      <td>0.5</td>\n      <td>4.0</td>\n    </tr>\n    <tr>\n      <th>LSLDataBoth10Times10</th>\n      <td>-1</td>\n      <td>-1</td>\n      <td>-4</td>\n      <td>0</td>\n      <td>-3</td>\n      <td>1</td>\n      <td>-5</td>\n      <td>-1</td>\n      <td>-1</td>\n      <td>-4</td>\n      <td>0.008</td>\n      <td>-18.992</td>\n      <td>-1.9</td>\n      <td>-15.2</td>\n    </tr>\n    <tr>\n      <th>LSLDataBoth10Times11</th>\n      <td>0</td>\n      <td>-1</td>\n      <td>1</td>\n      <td>0</td>\n      <td>-1</td>\n      <td>0</td>\n      <td>-1</td>\n      <td>0</td>\n      <td>-1</td>\n      <td>-5</td>\n      <td>0.008</td>\n      <td>-7.992</td>\n      <td>-0.8</td>\n      <td>-6.4</td>\n    </tr>\n    <tr>\n      <th>LSLDataBoth10Times12</th>\n      <td>-2</td>\n      <td>-1</td>\n      <td>-2</td>\n      <td>1</td>\n      <td>0</td>\n      <td>1</td>\n      <td>-2</td>\n      <td>0</td>\n      <td>-2</td>\n      <td>-3</td>\n      <td>0.008</td>\n      <td>-9.992</td>\n      <td>-1.0</td>\n      <td>-8.0</td>\n    </tr>\n    <tr>\n      <th>LSLDataBoth10Times13</th>\n      <td>2</td>\n      <td>-1</td>\n      <td>0</td>\n      <td>2</td>\n      <td>0</td>\n      <td>2</td>\n      <td>-1</td>\n      <td>1</td>\n      <td>0</td>\n      <td>-1</td>\n      <td>0.008</td>\n      <td>4.008</td>\n      <td>0.4</td>\n      <td>3.2</td>\n    </tr>\n    <tr>\n      <th>LSLDataBoth10Times14</th>\n      <td>1</td>\n      <td>1</td>\n      <td>1</td>\n      <td>-1</td>\n      <td>-1</td>\n      <td>-3</td>\n      <td>0</td>\n      <td>-4</td>\n      <td>-1</td>\n      <td>-3</td>\n      <td>0.008</td>\n      <td>-9.992</td>\n      <td>-1.0</td>\n      <td>-8.0</td>\n    </tr>\n    <tr>\n      <th>LSLDataBoth10Times2</th>\n      <td>-1</td>\n      <td>1</td>\n      <td>1</td>\n      <td>1</td>\n      <td>-1</td>\n      <td>3</td>\n      <td>-2</td>\n      <td>0</td>\n      <td>0</td>\n      <td>-1</td>\n      <td>0.008</td>\n      <td>1.008</td>\n      <td>0.1</td>\n      <td>0.8</td>\n    </tr>\n    <tr>\n      <th>LSLDataBoth10Times3</th>\n      <td>2</td>\n      <td>-1</td>\n      <td>0</td>\n      <td>-1</td>\n      <td>-2</td>\n      <td>-1</td>\n      <td>-3</td>\n      <td>3</td>\n      <td>3</td>\n      <td>-3</td>\n      <td>0.008</td>\n      <td>-2.992</td>\n      <td>-0.3</td>\n      <td>-2.4</td>\n    </tr>\n    <tr>\n      <th>LSLDataBoth10Times4</th>\n      <td>4</td>\n      <td>1</td>\n      <td>1</td>\n      <td>0</td>\n      <td>-1</td>\n      <td>2</td>\n      <td>1</td>\n      <td>-1</td>\n      <td>1</td>\n      <td>1</td>\n      <td>0.008</td>\n      <td>9.008</td>\n      <td>0.9</td>\n      <td>7.2</td>\n    </tr>\n    <tr>\n      <th>LSLDataBoth10Times5</th>\n      <td>-1</td>\n      <td>0</td>\n      <td>1</td>\n      <td>2</td>\n      <td>1</td>\n      <td>3</td>\n      <td>0</td>\n      <td>0</td>\n      <td>-3</td>\n      <td>-1</td>\n      <td>0.008</td>\n      <td>2.008</td>\n      <td>0.2</td>\n      <td>1.6</td>\n    </tr>\n    <tr>\n      <th>LSLDataBoth10Times6</th>\n      <td>2</td>\n      <td>1</td>\n      <td>0</td>\n      <td>2</td>\n      <td>-1</td>\n      <td>-1</td>\n      <td>0</td>\n      <td>0</td>\n      <td>0</td>\n      <td>-2</td>\n      <td>0.008</td>\n      <td>1.008</td>\n      <td>0.1</td>\n      <td>0.8</td>\n    </tr>\n    <tr>\n      <th>LSLDataBoth10Times7</th>\n      <td>1</td>\n      <td>1</td>\n      <td>0</td>\n      <td>-1</td>\n      <td>-1</td>\n      <td>-1</td>\n      <td>-7</td>\n      <td>4</td>\n      <td>0</td>\n      <td>0</td>\n      <td>0.008</td>\n      <td>-3.992</td>\n      <td>-0.4</td>\n      <td>-3.2</td>\n    </tr>\n    <tr>\n      <th>LSLDataBoth10Times8</th>\n      <td>1</td>\n      <td>-1</td>\n      <td>0</td>\n      <td>4</td>\n      <td>-3</td>\n      <td>-4</td>\n      <td>-3</td>\n      <td>0</td>\n      <td>0</td>\n      <td>1</td>\n      <td>0.008</td>\n      <td>-4.992</td>\n      <td>-0.5</td>\n      <td>-4.0</td>\n    </tr>\n    <tr>\n      <th>LSLDataBoth10Times9</th>\n      <td>1</td>\n      <td>-1</td>\n      <td>-3</td>\n      <td>0</td>\n      <td>-3</td>\n      <td>-3</td>\n      <td>-3</td>\n      <td>0</td>\n      <td>0</td>\n      <td>3</td>\n      <td>0.008</td>\n      <td>-8.992</td>\n      <td>-0.9</td>\n      <td>-7.2</td>\n    </tr>\n  </tbody>\n</table>\n</div>"
     },
     "metadata": {},
     "output_type": "display_data"
    },
    {
     "name": "stdout",
     "output_type": "stream",
     "text": [
      "(-2.9866666666666664, -0.3733333333333333)\n"
     ]
    }
   ],
   "source": [
    "print(\"(ms, Number of indexes to shift) ---- Both\")\n",
    "print(get_offset(df_both))\n",
    "df_both_shift = run_files(both, both=True , plot=False, shift_init=round(get_offset(df_both)[1]))\n",
    "#df_both_shift.loc['Average']= df_both_shift.sum(numeric_only=True, axis=0)/df_both_shift.shape[0]\n",
    "display(df_both_shift)\n",
    "\n",
    "\n",
    "print(get_offset(df_both_shift))"
   ],
   "metadata": {
    "collapsed": false,
    "pycharm": {
     "name": "#%%\n"
    }
   }
  },
  {
   "cell_type": "code",
   "execution_count": 92,
   "outputs": [
    {
     "name": "stdout",
     "output_type": "stream",
     "text": [
      "Standard devation\n",
      "Both: 5.951934459444577\n",
      "-------- SE ----------\n",
      "Both: 1.5367828692764591\n"
     ]
    }
   ],
   "source": [
    "import statistics\n",
    "from scipy.stats import sem\n",
    "\n",
    "standard_de_both = statistics.stdev(df_both['Avg time (ms)'])\n",
    "se_both = sem(df_both['Avg time (ms)'])\n",
    "print(\"Standard devation\")\n",
    "print(\"Both: \" + str(standard_de_both))\n",
    "\n",
    "print(\"-------- SE ----------\")\n",
    "print(\"Both: \" + str(se_both))"
   ],
   "metadata": {
    "collapsed": false,
    "pycharm": {
     "name": "#%%\n"
    }
   }
  },
  {
   "cell_type": "code",
   "execution_count": 93,
   "outputs": [
    {
     "name": "stdout",
     "output_type": "stream",
     "text": [
      "Standard devation - After shift\n",
      "Both: 5.951934459444577\n",
      "-------- SE - After shift ----------\n",
      "Both: 1.5367828692764591\n"
     ]
    }
   ],
   "source": [
    "standard_de_both_shift = statistics.stdev(df_both_shift['Avg time (ms)'])\n",
    "se_both_shift = sem(df_both_shift['Avg time (ms)'])\n",
    "print(\"Standard devation - After shift\")\n",
    "print(\"Both: \" + str(standard_de_both_shift))\n",
    "print(\"-------- SE - After shift ----------\")\n",
    "print(\"Both: \" + str(se_both_shift))"
   ],
   "metadata": {
    "collapsed": false,
    "pycharm": {
     "name": "#%%\n"
    }
   }
  },
  {
   "cell_type": "code",
   "execution_count": 94,
   "outputs": [
    {
     "name": "stdout",
     "output_type": "stream",
     "text": [
      "[-0.152, -0.08, -0.08, -0.08, -0.07200000000000001, -0.064, -0.04, -0.032, -0.024, 0.008, 0.008, 0.016, 0.032, 0.04, 0.07200000000000001]\n"
     ]
    },
    {
     "data": {
      "text/plain": "<Figure size 640x480 with 1 Axes>",
      "image/png": "[encoded data removed]"
     },
     "metadata": {},
     "output_type": "display_data"
    }
   ],
   "source": [
    "from scipy.stats import norm\n",
    "# Plot between -10 and 10 with .001 steps.\n",
    "x_axis = sorted((df_both_shift['Avg time (ms)']/100).tolist())\n",
    "print(x_axis)\n",
    "\n",
    "plt.hist(x_axis)\n",
    "for i in range(len(x_axis)):\n",
    "    plt.plot(x_axis[i],  norm.pdf(x_axis,np.mean(x_axis),np.std(x_axis))[i], marker=\"o\", markersize=6, markeredgecolor=\"red\", markerfacecolor=\"blue\")\n",
    "plt.plot(x_axis, norm.pdf(x_axis,np.mean(x_axis),np.std(x_axis)))\n",
    "plt.show()"
   ],
   "metadata": {
    "collapsed": false,
    "pycharm": {
     "name": "#%%\n"
    }
   }
  }
 ],
 "metadata": {
  "kernelspec": {
   "display_name": "Python 3",
   "language": "python",
   "name": "python3"
  },
  "language_info": {
   "codemirror_mode": {
    "name": "ipython",
    "version": 2
   },
   "file_extension": ".py",
   "mimetype": "text/x-python",
   "name": "python",
   "nbconvert_exporter": "python",
   "pygments_lexer": "ipython2",
   "version": "2.7.6"
  }
 },
 "nbformat": 4,
 "nbformat_minor": 0
}