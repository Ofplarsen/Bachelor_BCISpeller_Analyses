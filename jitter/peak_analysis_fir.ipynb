{
 "cells": [
  {
   "cell_type": "code",
   "execution_count": 72,
   "metadata": {
    "collapsed": true
   },
   "outputs": [],
   "source": [
    "import pyxdf\n",
    "import pandas as pd\n",
    "import matplotlib.pyplot as plt\n",
    "import numpy as np\n",
    "from scipy import signal\n",
    "import os\n",
    "from sklearn.metrics import mean_squared_error"
   ]
  },
  {
   "cell_type": "code",
   "execution_count": 73,
   "outputs": [],
   "source": [
    "channels = ['Fp1', 'Fz', 'F3', 'F7', 'F9', 'FC5', 'FC1', 'C3', 'T7', 'CP5', 'CP1', 'Pz', 'P3', 'P7'\n",
    "            , 'P9', 'O1', 'Oz', 'O2', 'P10', 'P8', 'P4', 'CP2', 'CP6', 'T8', 'C4', 'Cz'\n",
    "            , 'FC2', 'FC6', 'F10', 'F8', 'F4', 'Fp2','AUX_1', 'ACC_X', 'ACC_Y', 'ACC_Z']\n",
    "removed_channels = ['Fp1', 'F8', 'F7', 'Fp2', 'F3', 'F4']\n",
    "# TODO ADD AUX WHEN CONNECTED\n",
    "eye_data_names = ['x', 'y', 'z', 'left_blink', 'right_blink', 'both_blink', 'left_openness', 'right_openness']\n",
    "\n",
    "columns =  eye_data_names + channels\n",
    "\n",
    "data, header = pyxdf.load_xdf('data/LSLDataV2/LSLDataLeftFourTimes2/eeg-and-eyetracking.xdf')\n"
   ],
   "metadata": {
    "collapsed": false,
    "pycharm": {
     "name": "#%%\n"
    }
   }
  },
  {
   "cell_type": "code",
   "execution_count": 74,
   "outputs": [],
   "source": [
    "def get_time_stamps(stamps: list):\n",
    "    start = []\n",
    "    end = []\n",
    "    more_than_one = False\n",
    "\n",
    "    for i in range(len(stamps)):\n",
    "        if i == (len(stamps)-1):\n",
    "            if(stamps[i-1] == (stamps[i] - 1)):\n",
    "                end.append(stamps[i])\n",
    "            break\n",
    "\n",
    "        if(stamps[i] == (stamps[i+1] - 1)):\n",
    "            if not more_than_one:\n",
    "                start.append(stamps[i])\n",
    "            more_than_one = True\n",
    "            continue\n",
    "        else:\n",
    "            if more_than_one:\n",
    "                end.append(stamps[i])\n",
    "                more_than_one = False\n",
    "\n",
    "    return start, end"
   ],
   "metadata": {
    "collapsed": false,
    "pycharm": {
     "name": "#%%\n"
    }
   }
  },
  {
   "cell_type": "code",
   "execution_count": 75,
   "outputs": [],
   "source": [
    "def plot_eeg_blink_single_norm(df,df_ts, start, end,column,rang = 50, scale=1, flip = False):\n",
    "    plt.figure(figsize=(10,6))\n",
    "    df = df[start - rang:end + rang]\n",
    "    df.columns = columns\n",
    "    axis = plt.subplot()\n",
    "    axis.axvline(df_ts['time'][start], color='green', label = \"Blink start - TobiiXR\")  # y = 0\n",
    "    axis.axvline(df_ts['time'][end], color='red', label = \"Blink End - TobiiXR\")\n",
    "    df_norm = (df[column].abs() / df[column].abs().max())\n",
    "    plus = -df_norm[start - rang]\n",
    "    axis.plot(df_ts['time'][start-rang:end+rang], (df_norm + plus) *(-1 if flip else 1) *scale, label = \"EMG\")\n",
    "    axis.plot(df_ts['time'][start-rang:end+rang], (df['left_openness'] / df['left_openness'].abs().max())\n",
    "               *(-1)+ 1, color='orange', label = \"Eye openness - SRanipal\")\n",
    "    axis.plot(df_ts['time'][start-rang:end+rang], (df['right_openness'] / df['right_openness'].abs().max())\n",
    "               *(-1)+ 1, color='violet', label = \"Eye openness right - SRanipal\")\n",
    "    axis.set_xlabel(\"Time normalized (seconds)\")\n",
    "    axis.set_ylabel(\"Amplitude \")\n",
    "    axis.set_title(column)\n",
    "    plt.legend()\n",
    "    plt.show()\n",
    "\n",
    "def plot_eeg_blink_single(df,df_ts, start, end,column,rang = 50):\n",
    "    plt.figure(figsize=(10,6))\n",
    "    df = df[start - rang:end + rang]\n",
    "    df.columns = columns\n",
    "    axis = plt.subplot()\n",
    "    axis.axvline(df_ts['time'][start], color='green', label = \"Blink start - TobiiXR\")  # y = 0\n",
    "    axis.axvline(df_ts['time'][end], color='red', label = \"Blink End - TobiiXR\")\n",
    "\n",
    "    axis.plot(df_ts['time'][start-rang:end+rang], df[column], label = \"EMG\")\n",
    "    axis.plot(df_ts['time'][start-rang:end+rang], df['left_openness'], color='orange', label = \"Eye openness left - SRanipal\")\n",
    "    axis.plot(df_ts['time'][start-rang:end+rang], df['right_openness'], color='violet', label = \"Eye openness right - SRanipal\")\n",
    "    axis.set_title(column)\n",
    "    plt.legend()\n",
    "    plt.show()"
   ],
   "metadata": {
    "collapsed": false,
    "pycharm": {
     "name": "#%%\n"
    }
   }
  },
  {
   "cell_type": "code",
   "execution_count": 76,
   "outputs": [],
   "source": [
    "\n",
    "def init_data(data, shift = 0):\n",
    "    for s in data:\n",
    "        stream = s\n",
    "        y = stream['time_series']\n",
    "        df_stream = pd.DataFrame(y)\n",
    "        df_stream_ts = pd.DataFrame(stream['time_stamps'])\n",
    "        df_stream_ts.columns = ['time']\n",
    "        df_stream.columns = columns\n",
    "        df_stream['AUX_1'] = df_stream['AUX_1']+ 1000000\n",
    "        if shift != 0:\n",
    "            df_stream['AUX_1'] = df_stream['AUX_1'].shift(shift)\n",
    "        return stream, df_stream, df_stream_ts\n",
    "\n",
    "stream, df_stream, df_stream_ts = init_data(data)\n",
    "def get_blinks_in_df(df):\n",
    "    left_blinks = df.index[(df['left_blink'] >= 1) & (df['right_blink'] != 1)].tolist()\n",
    "    right_blinks = df.index[(df['right_blink'] >= 1) & (df['left_blink'] != 1)].tolist()\n",
    "    both_blink = df.index[df['both_blink'] == 1].tolist()\n",
    "    return left_blinks,right_blinks, both_blink\n",
    "\n",
    "left_blinks, right_blinks, both_blink = get_blinks_in_df(df_stream)"
   ],
   "metadata": {
    "collapsed": false,
    "pycharm": {
     "name": "#%%\n"
    }
   }
  },
  {
   "cell_type": "code",
   "execution_count": 77,
   "outputs": [],
   "source": [
    "avg_time = np.diff(df_stream_ts.to_numpy().flatten()).tolist()"
   ],
   "metadata": {
    "collapsed": false,
    "pycharm": {
     "name": "#%%\n"
    }
   }
  },
  {
   "cell_type": "code",
   "execution_count": 78,
   "outputs": [
    {
     "name": "stdout",
     "output_type": "stream",
     "text": [
      "[1201, 1510, 1858]\n",
      "[1278, 1576, 1917]\n"
     ]
    }
   ],
   "source": [
    "start, end = get_time_stamps(left_blinks)\n",
    "flip = False\n",
    "chosen_channel = 'AUX_1'\n",
    "print(start)\n",
    "print(end)\n"
   ],
   "metadata": {
    "collapsed": false,
    "pycharm": {
     "name": "#%%\n"
    }
   }
  },
  {
   "cell_type": "code",
   "execution_count": 79,
   "outputs": [],
   "source": [
    "from scipy.signal import butter, lfilter\n",
    "# Sample rate and desired cutoff frequencies (in Hz).\n",
    "def plot_eeg_blink_single_norm(df,df_ts, start, end,column,rang = 50, scale=1, flip = False, order = 4):\n",
    "    plt.figure(figsize=(10,6))\n",
    "    df = df[start - rang:end + rang]\n",
    "    df.columns = columns\n",
    "    axis = plt.subplot()\n",
    "    axis.axvline(df_ts['time'][start], color='green', label = \"Blink start - TobiiXR\")  # y = 0\n",
    "    axis.axvline(df_ts['time'][end], color='red', label = \"Blink End - TobiiXR\")\n",
    "    df_norm = (df[column].abs() / df[column].abs().max())\n",
    "    plus = -df_norm[start - rang]\n",
    "\n",
    "    y = (df_norm + plus) *(-1 if flip else 1) *scale\n",
    "    peaks, _ = signal.find_peaks(y[rang-7:rang+30])\n",
    "    peaks = [peak + rang-7 for peak in peaks]\n",
    "\n",
    "    axis.plot(df_ts['time'][start-rang:end+rang], y, label = \"EMG\")\n",
    "    axis.plot(df_ts['time'][start-rang:end+rang], (df['left_openness'] / df['left_openness'].abs().max())\n",
    "               *(-1)+ 1, color='orange', label = \"Eye openness - SRanipal\")\n",
    "    axis.plot(df_ts['time'][start-rang:end+rang], (df['right_openness'] / df['right_openness'].abs().max())\n",
    "               *(-1)+ 1, color='violet', label = \"Eye openness right - SRanipal\")\n",
    "    axis.set_xlabel(\"Time normalized (seconds)\")\n",
    "    axis.set_ylabel(\"Normalized Amplitude\")\n",
    "    for i in peaks:\n",
    "        plt.plot(df_ts['time'][i+ start - rang], y[i], marker=\"o\", markersize=5, markeredgecolor=\"turquoise\", markerfacecolor=\"black\", label=\"Local maximum \" + str(y[i].round(2)) + \", \" + str(i+ start - rang))\n",
    "    axis.set_title(column)\n",
    "    plt.legend()\n",
    "    plt.show()\n",
    "\n",
    "def get_peaks(df, start, end, column, rang=50, scale=1, flip=False):\n",
    "    df = df[start - rang:end + rang]\n",
    "    df_norm = (df[column].abs() / df[column].abs().max())\n",
    "    plus = -df_norm[start - rang]\n",
    "    y = ((df_norm + plus) *(-1 if flip else 1) *scale).tolist()\n",
    "    peaks, _ = signal.find_peaks(y[rang-20:rang+20])\n",
    "    peaks = [peak + rang-20 for peak in peaks]\n",
    "    if len(peaks) == 0:\n",
    "        #print(df)\n",
    "        return 0\n",
    "    peak = peaks[np.argmax([y[i] for i in peaks])]+ start - rang\n",
    "    return  peak if end + rang > peak > start - rang else start\n",
    "\n"
   ],
   "metadata": {
    "collapsed": false,
    "pycharm": {
     "name": "#%%\n"
    }
   }
  },
  {
   "cell_type": "code",
   "execution_count": 80,
   "outputs": [],
   "source": [
    "\n",
    "\n",
    "def find_shift(start, peaks):\n",
    "    differences_start = []\n",
    "    differences_end = []\n",
    "    for i in range(len(peaks)):\n",
    "        differences_start.append(start[i]-peaks[i])\n",
    "    return differences_start\n",
    "\n",
    "def plot_table(df):\n",
    "    #make this example reproducible\n",
    "\n",
    "    #define figure and axes\n",
    "    fig, ax = plt.subplots()\n",
    "    #hide the axes\n",
    "    fig.patch.set_visible(False)\n",
    "    ax.axis('off')\n",
    "    ax.axis('tight')\n",
    "\n",
    "    #create data\n",
    "\n",
    "    #create table\n",
    "    table = ax.table(cellText=df.values, colLabels=df.columns, loc='center')\n",
    "    table.scale(2.5, 2.5)\n",
    "    table.set_fontsize(30)\n",
    "    plt.show()"
   ],
   "metadata": {
    "collapsed": false,
    "pycharm": {
     "name": "#%%\n"
    }
   }
  },
  {
   "cell_type": "code",
   "execution_count": 81,
   "outputs": [],
   "source": [
    "\n",
    "def run_files(paths, path='data/LSLDataV3/', both = True, plot = False, shift_init=0):\n",
    "    peak_info = []\n",
    "    avg_time = []\n",
    "    for (index,y) in enumerate(paths):\n",
    "        data, header = pyxdf.load_xdf(path+str(y)+'/dejittered-fir-eeg-and-dejittered-eyetracking.xdf')\n",
    "        stream, df_stream, df_stream_ts = init_data(data,shift_init)\n",
    "        left_blinks, right_blinks, both_blink = get_blinks_in_df(df_stream)\n",
    "        start, end = get_time_stamps(both_blink if both else left_blinks)\n",
    "        avg_time.append(np.diff(df_stream_ts.to_numpy().flatten()).tolist())\n",
    "        peaks = []\n",
    "        for i in range(len(start)):\n",
    "            if i == 9:\n",
    "                continue\n",
    "            if \"LeftTenTimes6\" in y or \"LeftTenTimes7\" in y:\n",
    "                peaks.append(get_peaks(df_stream, start[i], end[i], chosen_channel, rang=50, scale=5, flip=True))\n",
    "            else:\n",
    "                peaks.append(get_peaks(df_stream, start[i], end[i], chosen_channel, rang=50, scale=5, flip=both))\n",
    "\n",
    "        shift = find_shift(start, peaks)\n",
    "        peak_info.append(shift)\n",
    "\n",
    "    n = len(max(peak_info, key=len))\n",
    "    t = [x + [None]*(n-len(x)) for x in peak_info]\n",
    "    numpy_array_peak_info = np.array(t)\n",
    "    df_peak = pd.DataFrame(numpy_array_peak_info)\n",
    "    df_peak = df_peak.set_index([paths])\n",
    "    df_peak['time between index (s)'] = [i[0] for i in avg_time]\n",
    "    df_peak['Sum (indexes)'] = df_peak.sum(axis=1)\n",
    "    df_peak['Avg (indexes)'] = round(df_peak.mean(axis=1),3)\n",
    "    df_peak['Avg time (s)'] = round(df_peak['Avg (indexes)']*df_peak['time between index (s)'],5)\n",
    "    if plot:\n",
    "        plot_table(df_peak)\n",
    "    return df_peak\n",
    "\n"
   ],
   "metadata": {
    "collapsed": false,
    "pycharm": {
     "name": "#%%\n"
    }
   }
  },
  {
   "cell_type": "code",
   "execution_count": 82,
   "outputs": [
    {
     "data": {
      "text/plain": "                      0  1  2  3  4  5  6  7  8  time between index (s)  \\\nLSLDataBothTenTimes2 -4 -7 -7 -9 -4 -4 -2 -6 -2                   0.008   \nLSLDataBothTenTimes5 -4 -4 -4 -7 -6 -5 -4 -5 -5                   0.008   \nLSLDataBothTenTimes4 -4 -5 -6 -6 -4 -5 -7 -7 -6                   0.008   \nLSLDataBothTenTimes1 -6 -5 -8 -6 -3 -7 -5 -3 -6                   0.008   \nLSLDataBothTenTimes6 -2  1 -2 -4 -5 -5 -3 -4 -4                   0.008   \nLSLDataBothTenTimes7 -4 -4 -3 -4 -7 -3 -5 -5 -6                   0.008   \n\n                      Sum (indexes)  Avg (indexes)  Avg time (s)  \nLSLDataBothTenTimes2        -44.992         -8.180      -0.06544  \nLSLDataBothTenTimes5        -43.992         -7.999      -0.06399  \nLSLDataBothTenTimes4        -49.992         -9.089      -0.07271  \nLSLDataBothTenTimes1        -48.992         -8.908      -0.07126  \nLSLDataBothTenTimes6        -27.992         -5.089      -0.04071  \nLSLDataBothTenTimes7        -40.992         -7.453      -0.05962  ",
      "text/html": "<div>\n<style scoped>\n    .dataframe tbody tr th:only-of-type {\n        vertical-align: middle;\n    }\n\n    .dataframe tbody tr th {\n        vertical-align: top;\n    }\n\n    .dataframe thead th {\n        text-align: right;\n    }\n</style>\n<table border=\"1\" class=\"dataframe\">\n  <thead>\n    <tr style=\"text-align: right;\">\n      <th></th>\n      <th>0</th>\n      <th>1</th>\n      <th>2</th>\n      <th>3</th>\n      <th>4</th>\n      <th>5</th>\n      <th>6</th>\n      <th>7</th>\n      <th>8</th>\n      <th>time between index (s)</th>\n      <th>Sum (indexes)</th>\n      <th>Avg (indexes)</th>\n      <th>Avg time (s)</th>\n    </tr>\n  </thead>\n  <tbody>\n    <tr>\n      <th>LSLDataBothTenTimes2</th>\n      <td>-4</td>\n      <td>-7</td>\n      <td>-7</td>\n      <td>-9</td>\n      <td>-4</td>\n      <td>-4</td>\n      <td>-2</td>\n      <td>-6</td>\n      <td>-2</td>\n      <td>0.008</td>\n      <td>-44.992</td>\n      <td>-8.180</td>\n      <td>-0.06544</td>\n    </tr>\n    <tr>\n      <th>LSLDataBothTenTimes5</th>\n      <td>-4</td>\n      <td>-4</td>\n      <td>-4</td>\n      <td>-7</td>\n      <td>-6</td>\n      <td>-5</td>\n      <td>-4</td>\n      <td>-5</td>\n      <td>-5</td>\n      <td>0.008</td>\n      <td>-43.992</td>\n      <td>-7.999</td>\n      <td>-0.06399</td>\n    </tr>\n    <tr>\n      <th>LSLDataBothTenTimes4</th>\n      <td>-4</td>\n      <td>-5</td>\n      <td>-6</td>\n      <td>-6</td>\n      <td>-4</td>\n      <td>-5</td>\n      <td>-7</td>\n      <td>-7</td>\n      <td>-6</td>\n      <td>0.008</td>\n      <td>-49.992</td>\n      <td>-9.089</td>\n      <td>-0.07271</td>\n    </tr>\n    <tr>\n      <th>LSLDataBothTenTimes1</th>\n      <td>-6</td>\n      <td>-5</td>\n      <td>-8</td>\n      <td>-6</td>\n      <td>-3</td>\n      <td>-7</td>\n      <td>-5</td>\n      <td>-3</td>\n      <td>-6</td>\n      <td>0.008</td>\n      <td>-48.992</td>\n      <td>-8.908</td>\n      <td>-0.07126</td>\n    </tr>\n    <tr>\n      <th>LSLDataBothTenTimes6</th>\n      <td>-2</td>\n      <td>1</td>\n      <td>-2</td>\n      <td>-4</td>\n      <td>-5</td>\n      <td>-5</td>\n      <td>-3</td>\n      <td>-4</td>\n      <td>-4</td>\n      <td>0.008</td>\n      <td>-27.992</td>\n      <td>-5.089</td>\n      <td>-0.04071</td>\n    </tr>\n    <tr>\n      <th>LSLDataBothTenTimes7</th>\n      <td>-4</td>\n      <td>-4</td>\n      <td>-3</td>\n      <td>-4</td>\n      <td>-7</td>\n      <td>-3</td>\n      <td>-5</td>\n      <td>-5</td>\n      <td>-6</td>\n      <td>0.008</td>\n      <td>-40.992</td>\n      <td>-7.453</td>\n      <td>-0.05962</td>\n    </tr>\n  </tbody>\n</table>\n</div>"
     },
     "metadata": {},
     "output_type": "display_data"
    },
    {
     "data": {
      "text/plain": "                       0   1   2   3   4   5   6   7   8  \\\nLSLDataLeftTenTimes1  -7  -6  -8  -5 -12  -6  -7  -5  -6   \nLSLDataLeftTenTimes7  -4  -4  -3  -5  -4  -1  -4   2  -2   \nLSLDataLeftTenTimes3 -12 -13  -7 -10 -11  -7 -10 -11 -10   \nLSLDataLeftTenTimes4 -12 -16  -9 -13  -8 -18  -4 -17 -14   \nLSLDataLeftTenTimes6  -6   1  -2   1   0   0  -9   1  -5   \nLSLDataLeftTenTimes2 -12 -13 -13 -13  -9 -14 -10  -6  -9   \n\n                      time between index (s)  Sum (indexes)  Avg (indexes)  \\\nLSLDataLeftTenTimes1                   0.008        -61.992        -11.271   \nLSLDataLeftTenTimes7                   0.008        -24.992         -4.544   \nLSLDataLeftTenTimes3                   0.008        -90.992        -16.544   \nLSLDataLeftTenTimes4                   0.008       -110.992        -20.180   \nLSLDataLeftTenTimes6                   0.008        -18.992         -3.453   \nLSLDataLeftTenTimes2                   0.008        -98.992        -17.999   \n\n                      Avg time (s)  \nLSLDataLeftTenTimes1      -0.09017  \nLSLDataLeftTenTimes7      -0.03635  \nLSLDataLeftTenTimes3      -0.13235  \nLSLDataLeftTenTimes4      -0.16144  \nLSLDataLeftTenTimes6      -0.02762  \nLSLDataLeftTenTimes2      -0.14399  ",
      "text/html": "<div>\n<style scoped>\n    .dataframe tbody tr th:only-of-type {\n        vertical-align: middle;\n    }\n\n    .dataframe tbody tr th {\n        vertical-align: top;\n    }\n\n    .dataframe thead th {\n        text-align: right;\n    }\n</style>\n<table border=\"1\" class=\"dataframe\">\n  <thead>\n    <tr style=\"text-align: right;\">\n      <th></th>\n      <th>0</th>\n      <th>1</th>\n      <th>2</th>\n      <th>3</th>\n      <th>4</th>\n      <th>5</th>\n      <th>6</th>\n      <th>7</th>\n      <th>8</th>\n      <th>time between index (s)</th>\n      <th>Sum (indexes)</th>\n      <th>Avg (indexes)</th>\n      <th>Avg time (s)</th>\n    </tr>\n  </thead>\n  <tbody>\n    <tr>\n      <th>LSLDataLeftTenTimes1</th>\n      <td>-7</td>\n      <td>-6</td>\n      <td>-8</td>\n      <td>-5</td>\n      <td>-12</td>\n      <td>-6</td>\n      <td>-7</td>\n      <td>-5</td>\n      <td>-6</td>\n      <td>0.008</td>\n      <td>-61.992</td>\n      <td>-11.271</td>\n      <td>-0.09017</td>\n    </tr>\n    <tr>\n      <th>LSLDataLeftTenTimes7</th>\n      <td>-4</td>\n      <td>-4</td>\n      <td>-3</td>\n      <td>-5</td>\n      <td>-4</td>\n      <td>-1</td>\n      <td>-4</td>\n      <td>2</td>\n      <td>-2</td>\n      <td>0.008</td>\n      <td>-24.992</td>\n      <td>-4.544</td>\n      <td>-0.03635</td>\n    </tr>\n    <tr>\n      <th>LSLDataLeftTenTimes3</th>\n      <td>-12</td>\n      <td>-13</td>\n      <td>-7</td>\n      <td>-10</td>\n      <td>-11</td>\n      <td>-7</td>\n      <td>-10</td>\n      <td>-11</td>\n      <td>-10</td>\n      <td>0.008</td>\n      <td>-90.992</td>\n      <td>-16.544</td>\n      <td>-0.13235</td>\n    </tr>\n    <tr>\n      <th>LSLDataLeftTenTimes4</th>\n      <td>-12</td>\n      <td>-16</td>\n      <td>-9</td>\n      <td>-13</td>\n      <td>-8</td>\n      <td>-18</td>\n      <td>-4</td>\n      <td>-17</td>\n      <td>-14</td>\n      <td>0.008</td>\n      <td>-110.992</td>\n      <td>-20.180</td>\n      <td>-0.16144</td>\n    </tr>\n    <tr>\n      <th>LSLDataLeftTenTimes6</th>\n      <td>-6</td>\n      <td>1</td>\n      <td>-2</td>\n      <td>1</td>\n      <td>0</td>\n      <td>0</td>\n      <td>-9</td>\n      <td>1</td>\n      <td>-5</td>\n      <td>0.008</td>\n      <td>-18.992</td>\n      <td>-3.453</td>\n      <td>-0.02762</td>\n    </tr>\n    <tr>\n      <th>LSLDataLeftTenTimes2</th>\n      <td>-12</td>\n      <td>-13</td>\n      <td>-13</td>\n      <td>-13</td>\n      <td>-9</td>\n      <td>-14</td>\n      <td>-10</td>\n      <td>-6</td>\n      <td>-9</td>\n      <td>0.008</td>\n      <td>-98.992</td>\n      <td>-17.999</td>\n      <td>-0.14399</td>\n    </tr>\n  </tbody>\n</table>\n</div>"
     },
     "metadata": {},
     "output_type": "display_data"
    }
   ],
   "source": [
    "from IPython.core.display_functions import display\n",
    "\n",
    "paths = [name for name in os.listdir(\"./data/LSLDataV3\")]\n",
    "both = [name for name in paths if \"Both\" in name]\n",
    "left = [name for name in paths if \"Left\" in name]\n",
    "\n",
    "\n",
    "df_both = run_files(both, both=True , plot=False)\n",
    "#df_both = df_both.drop(df_both.columns[[1]], inplace=True, axis=1)\n",
    "display(df_both)\n",
    "df_left = run_files(left, both=False , plot=False)\n",
    "#df_left = df_left.drop(df_left.columns[[1]], inplace=True, axis=1)\n",
    "display(df_left)\n"
   ],
   "metadata": {
    "collapsed": false,
    "pycharm": {
     "name": "#%%\n"
    }
   }
  },
  {
   "cell_type": "code",
   "execution_count": 83,
   "outputs": [],
   "source": [
    "def get_offset(df):\n",
    "    avg_offset = df['Avg time (s)'].sum()/df.shape[0]\n",
    "    avg_offset_index = df['Avg (indexes)'].sum()/df.shape[0]\n",
    "    #print(avg_offset_index)\n",
    "    return avg_offset, avg_offset_index\n"
   ],
   "metadata": {
    "collapsed": false,
    "pycharm": {
     "name": "#%%\n"
    }
   }
  },
  {
   "cell_type": "code",
   "execution_count": 84,
   "outputs": [
    {
     "name": "stdout",
     "output_type": "stream",
     "text": [
      "(Seconds, Number of indexes to shift) ---- Both\n",
      "(-0.062288333333333334, -7.786333333333334)\n",
      "(Seconds, Number of indexes to shift) ---- Left\n",
      "(-0.09865333333333333, -12.331833333333334)\n"
     ]
    },
    {
     "data": {
      "text/plain": "                        0    1    2    3         4         5         6    7  \\\nLSLDataBothTenTimes2  4.0  1.0  1.0 -1.0  4.000000  4.000000  6.000000  2.0   \nLSLDataBothTenTimes5  4.0  4.0  4.0  1.0  2.000000  3.000000  4.000000  3.0   \nLSLDataBothTenTimes4  4.0  3.0  2.0  2.0  4.000000  3.000000  1.000000  1.0   \nLSLDataBothTenTimes1  2.0  3.0  0.0  2.0  5.000000  1.000000  3.000000  5.0   \nLSLDataBothTenTimes6  6.0  9.0  6.0  4.0  3.000000  3.000000  5.000000  4.0   \nLSLDataBothTenTimes7  4.0  4.0  5.0  4.0  1.000000  5.000000  3.000000  3.0   \nAverage               4.0  4.0  3.0  2.0  3.166667  3.166667  3.666667  3.0   \n\n                             8  time between index (s)  Sum (indexes)  \\\nLSLDataBothTenTimes2  6.000000                   0.008      27.008000   \nLSLDataBothTenTimes5  3.000000                   0.008      28.008000   \nLSLDataBothTenTimes4  2.000000                   0.008      22.008000   \nLSLDataBothTenTimes1  2.000000                   0.008      23.008000   \nLSLDataBothTenTimes6  4.000000                   0.008      44.008000   \nLSLDataBothTenTimes7  2.000000                   0.008      31.008000   \nAverage               3.166667                   0.008      29.174667   \n\n                      Avg (indexes)  Avg time (s)  \nLSLDataBothTenTimes2       4.911000      0.039290  \nLSLDataBothTenTimes5       5.092000      0.040740  \nLSLDataBothTenTimes4       4.001000      0.032010  \nLSLDataBothTenTimes1       4.183000      0.033460  \nLSLDataBothTenTimes6       8.001000      0.064010  \nLSLDataBothTenTimes7       5.638000      0.045100  \nAverage                    5.304333      0.042435  ",
      "text/html": "<div>\n<style scoped>\n    .dataframe tbody tr th:only-of-type {\n        vertical-align: middle;\n    }\n\n    .dataframe tbody tr th {\n        vertical-align: top;\n    }\n\n    .dataframe thead th {\n        text-align: right;\n    }\n</style>\n<table border=\"1\" class=\"dataframe\">\n  <thead>\n    <tr style=\"text-align: right;\">\n      <th></th>\n      <th>0</th>\n      <th>1</th>\n      <th>2</th>\n      <th>3</th>\n      <th>4</th>\n      <th>5</th>\n      <th>6</th>\n      <th>7</th>\n      <th>8</th>\n      <th>time between index (s)</th>\n      <th>Sum (indexes)</th>\n      <th>Avg (indexes)</th>\n      <th>Avg time (s)</th>\n    </tr>\n  </thead>\n  <tbody>\n    <tr>\n      <th>LSLDataBothTenTimes2</th>\n      <td>4.0</td>\n      <td>1.0</td>\n      <td>1.0</td>\n      <td>-1.0</td>\n      <td>4.000000</td>\n      <td>4.000000</td>\n      <td>6.000000</td>\n      <td>2.0</td>\n      <td>6.000000</td>\n      <td>0.008</td>\n      <td>27.008000</td>\n      <td>4.911000</td>\n      <td>0.039290</td>\n    </tr>\n    <tr>\n      <th>LSLDataBothTenTimes5</th>\n      <td>4.0</td>\n      <td>4.0</td>\n      <td>4.0</td>\n      <td>1.0</td>\n      <td>2.000000</td>\n      <td>3.000000</td>\n      <td>4.000000</td>\n      <td>3.0</td>\n      <td>3.000000</td>\n      <td>0.008</td>\n      <td>28.008000</td>\n      <td>5.092000</td>\n      <td>0.040740</td>\n    </tr>\n    <tr>\n      <th>LSLDataBothTenTimes4</th>\n      <td>4.0</td>\n      <td>3.0</td>\n      <td>2.0</td>\n      <td>2.0</td>\n      <td>4.000000</td>\n      <td>3.000000</td>\n      <td>1.000000</td>\n      <td>1.0</td>\n      <td>2.000000</td>\n      <td>0.008</td>\n      <td>22.008000</td>\n      <td>4.001000</td>\n      <td>0.032010</td>\n    </tr>\n    <tr>\n      <th>LSLDataBothTenTimes1</th>\n      <td>2.0</td>\n      <td>3.0</td>\n      <td>0.0</td>\n      <td>2.0</td>\n      <td>5.000000</td>\n      <td>1.000000</td>\n      <td>3.000000</td>\n      <td>5.0</td>\n      <td>2.000000</td>\n      <td>0.008</td>\n      <td>23.008000</td>\n      <td>4.183000</td>\n      <td>0.033460</td>\n    </tr>\n    <tr>\n      <th>LSLDataBothTenTimes6</th>\n      <td>6.0</td>\n      <td>9.0</td>\n      <td>6.0</td>\n      <td>4.0</td>\n      <td>3.000000</td>\n      <td>3.000000</td>\n      <td>5.000000</td>\n      <td>4.0</td>\n      <td>4.000000</td>\n      <td>0.008</td>\n      <td>44.008000</td>\n      <td>8.001000</td>\n      <td>0.064010</td>\n    </tr>\n    <tr>\n      <th>LSLDataBothTenTimes7</th>\n      <td>4.0</td>\n      <td>4.0</td>\n      <td>5.0</td>\n      <td>4.0</td>\n      <td>1.000000</td>\n      <td>5.000000</td>\n      <td>3.000000</td>\n      <td>3.0</td>\n      <td>2.000000</td>\n      <td>0.008</td>\n      <td>31.008000</td>\n      <td>5.638000</td>\n      <td>0.045100</td>\n    </tr>\n    <tr>\n      <th>Average</th>\n      <td>4.0</td>\n      <td>4.0</td>\n      <td>3.0</td>\n      <td>2.0</td>\n      <td>3.166667</td>\n      <td>3.166667</td>\n      <td>3.666667</td>\n      <td>3.0</td>\n      <td>3.166667</td>\n      <td>0.008</td>\n      <td>29.174667</td>\n      <td>5.304333</td>\n      <td>0.042435</td>\n    </tr>\n  </tbody>\n</table>\n</div>"
     },
     "metadata": {},
     "output_type": "display_data"
    },
    {
     "data": {
      "text/plain": "                         0     1     2     3          4          5         6  \\\nLSLDataLeftTenTimes1   5.0   6.0   4.0   7.0   0.000000   6.000000  5.000000   \nLSLDataLeftTenTimes7   8.0   8.0   9.0   7.0   8.000000  11.000000  8.000000   \nLSLDataLeftTenTimes3   0.0  -1.0   5.0   2.0   1.000000   5.000000  2.000000   \nLSLDataLeftTenTimes4   0.0  -4.0   3.0  -1.0   4.000000  -6.000000  8.000000   \nLSLDataLeftTenTimes6 -16.0  13.0  10.0  13.0  12.000000  12.000000  3.000000   \nLSLDataLeftTenTimes2   0.0  -1.0  -1.0  -1.0   3.000000  -2.000000  2.000000   \nAverage               -0.5   3.5   5.0   4.5   4.666667   4.333333  4.666667   \n\n                         7          8  time between index (s)  Sum (indexes)  \\\nLSLDataLeftTenTimes1   7.0   6.000000                   0.008         46.008   \nLSLDataLeftTenTimes7  14.0  10.000000                   0.008         83.008   \nLSLDataLeftTenTimes3   1.0   2.000000                   0.008         17.008   \nLSLDataLeftTenTimes4  -5.0  -2.000000                   0.008         -2.992   \nLSLDataLeftTenTimes6  13.0   7.000000                   0.008         67.008   \nLSLDataLeftTenTimes2   6.0   3.000000                   0.008          9.008   \nAverage                6.0   4.333333                   0.008         36.508   \n\n                      Avg (indexes)  Avg time (s)  \nLSLDataLeftTenTimes1       8.365000      0.066920  \nLSLDataLeftTenTimes7      15.092000      0.120740  \nLSLDataLeftTenTimes3       3.092000      0.024740  \nLSLDataLeftTenTimes4      -0.544000     -0.004350  \nLSLDataLeftTenTimes6      12.183000      0.097460  \nLSLDataLeftTenTimes2       1.638000      0.013100  \nAverage                    6.637667      0.053102  ",
      "text/html": "<div>\n<style scoped>\n    .dataframe tbody tr th:only-of-type {\n        vertical-align: middle;\n    }\n\n    .dataframe tbody tr th {\n        vertical-align: top;\n    }\n\n    .dataframe thead th {\n        text-align: right;\n    }\n</style>\n<table border=\"1\" class=\"dataframe\">\n  <thead>\n    <tr style=\"text-align: right;\">\n      <th></th>\n      <th>0</th>\n      <th>1</th>\n      <th>2</th>\n      <th>3</th>\n      <th>4</th>\n      <th>5</th>\n      <th>6</th>\n      <th>7</th>\n      <th>8</th>\n      <th>time between index (s)</th>\n      <th>Sum (indexes)</th>\n      <th>Avg (indexes)</th>\n      <th>Avg time (s)</th>\n    </tr>\n  </thead>\n  <tbody>\n    <tr>\n      <th>LSLDataLeftTenTimes1</th>\n      <td>5.0</td>\n      <td>6.0</td>\n      <td>4.0</td>\n      <td>7.0</td>\n      <td>0.000000</td>\n      <td>6.000000</td>\n      <td>5.000000</td>\n      <td>7.0</td>\n      <td>6.000000</td>\n      <td>0.008</td>\n      <td>46.008</td>\n      <td>8.365000</td>\n      <td>0.066920</td>\n    </tr>\n    <tr>\n      <th>LSLDataLeftTenTimes7</th>\n      <td>8.0</td>\n      <td>8.0</td>\n      <td>9.0</td>\n      <td>7.0</td>\n      <td>8.000000</td>\n      <td>11.000000</td>\n      <td>8.000000</td>\n      <td>14.0</td>\n      <td>10.000000</td>\n      <td>0.008</td>\n      <td>83.008</td>\n      <td>15.092000</td>\n      <td>0.120740</td>\n    </tr>\n    <tr>\n      <th>LSLDataLeftTenTimes3</th>\n      <td>0.0</td>\n      <td>-1.0</td>\n      <td>5.0</td>\n      <td>2.0</td>\n      <td>1.000000</td>\n      <td>5.000000</td>\n      <td>2.000000</td>\n      <td>1.0</td>\n      <td>2.000000</td>\n      <td>0.008</td>\n      <td>17.008</td>\n      <td>3.092000</td>\n      <td>0.024740</td>\n    </tr>\n    <tr>\n      <th>LSLDataLeftTenTimes4</th>\n      <td>0.0</td>\n      <td>-4.0</td>\n      <td>3.0</td>\n      <td>-1.0</td>\n      <td>4.000000</td>\n      <td>-6.000000</td>\n      <td>8.000000</td>\n      <td>-5.0</td>\n      <td>-2.000000</td>\n      <td>0.008</td>\n      <td>-2.992</td>\n      <td>-0.544000</td>\n      <td>-0.004350</td>\n    </tr>\n    <tr>\n      <th>LSLDataLeftTenTimes6</th>\n      <td>-16.0</td>\n      <td>13.0</td>\n      <td>10.0</td>\n      <td>13.0</td>\n      <td>12.000000</td>\n      <td>12.000000</td>\n      <td>3.000000</td>\n      <td>13.0</td>\n      <td>7.000000</td>\n      <td>0.008</td>\n      <td>67.008</td>\n      <td>12.183000</td>\n      <td>0.097460</td>\n    </tr>\n    <tr>\n      <th>LSLDataLeftTenTimes2</th>\n      <td>0.0</td>\n      <td>-1.0</td>\n      <td>-1.0</td>\n      <td>-1.0</td>\n      <td>3.000000</td>\n      <td>-2.000000</td>\n      <td>2.000000</td>\n      <td>6.0</td>\n      <td>3.000000</td>\n      <td>0.008</td>\n      <td>9.008</td>\n      <td>1.638000</td>\n      <td>0.013100</td>\n    </tr>\n    <tr>\n      <th>Average</th>\n      <td>-0.5</td>\n      <td>3.5</td>\n      <td>5.0</td>\n      <td>4.5</td>\n      <td>4.666667</td>\n      <td>4.333333</td>\n      <td>4.666667</td>\n      <td>6.0</td>\n      <td>4.333333</td>\n      <td>0.008</td>\n      <td>36.508</td>\n      <td>6.637667</td>\n      <td>0.053102</td>\n    </tr>\n  </tbody>\n</table>\n</div>"
     },
     "metadata": {},
     "output_type": "display_data"
    },
    {
     "name": "stdout",
     "output_type": "stream",
     "text": [
      "(0.042435, 5.304333333333333)\n",
      "(0.053101666666666665, 6.637666666666667)\n"
     ]
    }
   ],
   "source": [
    "print(\"(Seconds, Number of indexes to shift) ---- Both\")\n",
    "print(get_offset(df_both))\n",
    "print(\"(Seconds, Number of indexes to shift) ---- Left\")\n",
    "print(get_offset(df_left))\n",
    "\n",
    "df_both_shift = run_files(both, both=True , plot=False, shift_init=round(get_offset(df_both)[1]))\n",
    "df_both_shift.loc['Average']= df_both_shift.sum(numeric_only=True, axis=0)/df_both_shift.shape[0]\n",
    "display(df_both_shift)\n",
    "df_left_shift = run_files(left, both=False , plot=False, shift_init=round(get_offset(df_left)[1]))\n",
    "df_left_shift.loc['Average']= df_left_shift.sum(numeric_only=True, axis=0)/df_left_shift.shape[0]\n",
    "display(df_left_shift)\n",
    "\n",
    "print(get_offset(df_both_shift))\n",
    "print(get_offset(df_left_shift))"
   ],
   "metadata": {
    "collapsed": false,
    "pycharm": {
     "name": "#%%\n"
    }
   }
  },
  {
   "cell_type": "code",
   "execution_count": 85,
   "outputs": [
    {
     "name": "stdout",
     "output_type": "stream",
     "text": [
      "Standard devation\n",
      "Both: 0.011616153264599544\n",
      "Left: 0.056802202304722896\n",
      "-------- SE ----------\n",
      "Both: 0.004742274712038985\n",
      "Left: 0.023189401985485626\n"
     ]
    }
   ],
   "source": [
    "import statistics\n",
    "from scipy.stats import sem\n",
    "\n",
    "standard_de_both = statistics.stdev(df_both['Avg time (s)'])\n",
    "se_both = sem(df_both['Avg time (s)'])\n",
    "standard_de_left = statistics.stdev(df_left['Avg time (s)'])\n",
    "se_left = sem(df_left['Avg time (s)'])\n",
    "\n",
    "print(\"Standard devation\")\n",
    "print(\"Both: \" + str(standard_de_both))\n",
    "print(\"Left: \" + str(standard_de_left))\n",
    "\n",
    "print(\"-------- SE ----------\")\n",
    "print(\"Both: \" + str(se_both))\n",
    "print(\"Left: \" + str(se_left))"
   ],
   "metadata": {
    "collapsed": false,
    "pycharm": {
     "name": "#%%\n"
    }
   }
  },
  {
   "cell_type": "code",
   "execution_count": 86,
   "outputs": [
    {
     "name": "stdout",
     "output_type": "stream",
     "text": [
      "Standard devation - After shift\n",
      "Both: 0.010603286833178977\n",
      "Left: 0.04553160748925471\n",
      "-------- SE - After shift ----------\n",
      "Both: 0.00400766572006817\n",
      "Left: 0.01720933002993914\n"
     ]
    }
   ],
   "source": [
    "standard_de_both_shift = statistics.stdev(df_both_shift['Avg time (s)'])\n",
    "se_both_shift = sem(df_both_shift['Avg time (s)'])\n",
    "standard_de_left_shift = statistics.stdev(df_left_shift['Avg time (s)'])\n",
    "se_left_shift = sem(df_left_shift['Avg time (s)'])\n",
    "\n",
    "print(\"Standard devation - After shift\")\n",
    "print(\"Both: \" + str(standard_de_both_shift))\n",
    "print(\"Left: \" + str(standard_de_left_shift))\n",
    "\n",
    "print(\"-------- SE - After shift ----------\")\n",
    "print(\"Both: \" + str(se_both_shift))\n",
    "print(\"Left: \" + str(se_left_shift))"
   ],
   "metadata": {
    "collapsed": false,
    "pycharm": {
     "name": "#%%\n"
    }
   }
  }
 ],
 "metadata": {
  "kernelspec": {
   "display_name": "Python 3",
   "language": "python",
   "name": "python3"
  },
  "language_info": {
   "codemirror_mode": {
    "name": "ipython",
    "version": 2
   },
   "file_extension": ".py",
   "mimetype": "text/x-python",
   "name": "python",
   "nbconvert_exporter": "python",
   "pygments_lexer": "ipython2",
   "version": "2.7.6"
  }
 },
 "nbformat": 4,
 "nbformat_minor": 0
}