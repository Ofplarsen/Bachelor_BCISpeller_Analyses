{
 "cells": [
  {
   "cell_type": "code",
   "execution_count": 167,
   "metadata": {
    "collapsed": true
   },
   "outputs": [],
   "source": [
    "import pyxdf\n",
    "import pandas as pd\n",
    "import matplotlib.pyplot as plt\n",
    "import numpy as np\n",
    "from scipy import signal\n",
    "import os\n",
    "from sklearn.metrics import mean_squared_error"
   ]
  },
  {
   "cell_type": "code",
   "execution_count": 168,
   "outputs": [],
   "source": [
    "channels = ['Fp1', 'Fz', 'F3', 'F7', 'F9', 'FC5', 'FC1', 'C3', 'T7', 'CP5', 'CP1', 'Pz', 'P3', 'P7'\n",
    "            , 'P9', 'O1', 'Oz', 'O2', 'P10', 'P8', 'P4', 'CP2', 'CP6', 'T8', 'C4', 'Cz'\n",
    "            , 'FC2', 'FC6', 'F10', 'F8', 'F4', 'Fp2','AUX_1', 'ACC_X', 'ACC_Y', 'ACC_Z']\n",
    "removed_channels = ['Fp1', 'F8', 'F7', 'Fp2', 'F3', 'F4']\n",
    "# TODO ADD AUX WHEN CONNECTED\n",
    "eye_data_names = ['x', 'y', 'z', 'left_blink', 'right_blink', 'both_blink', 'left_openness', 'right_openness']\n",
    "\n",
    "columns =  eye_data_names + channels\n",
    "\n",
    "#data, header = pyxdf.load_xdf('data/LSLDataV2/LSLDataLeftFourTimes2/eeg-and-eyetracking.xdf')\n"
   ],
   "metadata": {
    "collapsed": false,
    "pycharm": {
     "name": "#%%\n"
    }
   }
  },
  {
   "cell_type": "code",
   "execution_count": 169,
   "outputs": [],
   "source": [
    "def get_time_stamps(stamps: list):\n",
    "    start = []\n",
    "    end = []\n",
    "    more_than_one = False\n",
    "\n",
    "    for i in range(len(stamps)):\n",
    "        if i == (len(stamps)-1):\n",
    "            if(stamps[i-1] == (stamps[i] - 1)):\n",
    "                end.append(stamps[i])\n",
    "            break\n",
    "\n",
    "        if(stamps[i] == (stamps[i+1] - 1)):\n",
    "            if not more_than_one:\n",
    "                start.append(stamps[i])\n",
    "            more_than_one = True\n",
    "            continue\n",
    "        else:\n",
    "            if more_than_one:\n",
    "                end.append(stamps[i])\n",
    "                more_than_one = False\n",
    "\n",
    "    return start, end"
   ],
   "metadata": {
    "collapsed": false,
    "pycharm": {
     "name": "#%%\n"
    }
   }
  },
  {
   "cell_type": "code",
   "execution_count": 170,
   "outputs": [],
   "source": [
    "def plot_eeg_blink_single_norm(df,df_ts, start, end,column,rang = 50, scale=1, flip = False):\n",
    "    plt.figure(figsize=(10,6))\n",
    "    df = df[start - rang:end + rang]\n",
    "    df.columns = columns\n",
    "    axis = plt.subplot()\n",
    "    axis.axvline(df_ts['time'][start], color='green', label = \"Blink start - TobiiXR\")  # y = 0\n",
    "    axis.axvline(df_ts['time'][end], color='red', label = \"Blink End - TobiiXR\")\n",
    "    df_norm = (df[column].abs() / df[column].abs().max())\n",
    "    plus = -df_norm[start - rang]\n",
    "    axis.plot(df_ts['time'][start-rang:end+rang], (df_norm + plus) *(-1 if flip else 1) *scale, label = \"EMG\")\n",
    "    axis.plot(df_ts['time'][start-rang:end+rang], (df['left_openness'] / df['left_openness'].abs().max())\n",
    "               *(-1)+ 1, color='orange', label = \"Eye openness - SRanipal\")\n",
    "    axis.plot(df_ts['time'][start-rang:end+rang], (df['right_openness'] / df['right_openness'].abs().max())\n",
    "               *(-1)+ 1, color='violet', label = \"Eye openness right - SRanipal\")\n",
    "    axis.set_xlabel(\"Time normalized (seconds)\")\n",
    "    axis.set_ylabel(\"Amplitude \")\n",
    "    axis.set_title(column)\n",
    "    plt.legend()\n",
    "    plt.show()\n",
    "\n",
    "def plot_eeg_blink_single(df,df_ts, start, end,column,rang = 50):\n",
    "    plt.figure(figsize=(10,6))\n",
    "    df = df[start - rang:end + rang]\n",
    "    df.columns = columns\n",
    "    axis = plt.subplot()\n",
    "    axis.axvline(df_ts['time'][start], color='green', label = \"Blink start - TobiiXR\")  # y = 0\n",
    "    axis.axvline(df_ts['time'][end], color='red', label = \"Blink End - TobiiXR\")\n",
    "\n",
    "    axis.plot(df_ts['time'][start-rang:end+rang], df[column], label = \"EMG\")\n",
    "    axis.plot(df_ts['time'][start-rang:end+rang], df['left_openness'], color='orange', label = \"Eye openness left - SRanipal\")\n",
    "    axis.plot(df_ts['time'][start-rang:end+rang], df['right_openness'], color='violet', label = \"Eye openness right - SRanipal\")\n",
    "    axis.set_title(column)\n",
    "    plt.legend()\n",
    "    plt.show()"
   ],
   "metadata": {
    "collapsed": false,
    "pycharm": {
     "name": "#%%\n"
    }
   }
  },
  {
   "cell_type": "code",
   "execution_count": 171,
   "outputs": [],
   "source": [
    "\n",
    "def init_data(data, shift = 0):\n",
    "    for s in data:\n",
    "        stream = s\n",
    "        y = stream['time_series']\n",
    "        df_stream = pd.DataFrame(y)\n",
    "        df_stream_ts = pd.DataFrame(stream['time_stamps'])\n",
    "        df_stream_ts.columns = ['time']\n",
    "        df_stream.columns = columns\n",
    "        df_stream['AUX_1'] = df_stream['AUX_1']+ 1000000\n",
    "        if shift != 0:\n",
    "            df_stream['AUX_1'] = df_stream['AUX_1'].shift(shift)\n",
    "        return stream, df_stream, df_stream_ts\n",
    "\n",
    "#stream, df_stream, df_stream_ts = init_data(data)\n",
    "def get_blinks_in_df(df):\n",
    "    left_blinks = df.index[(df['left_blink'] >= 1) & (df['right_blink'] != 1)].tolist()\n",
    "    right_blinks = df.index[(df['right_blink'] >= 1) & (df['left_blink'] != 1)].tolist()\n",
    "    both_blink = df.index[df['both_blink'] == 1].tolist()\n",
    "    return left_blinks,right_blinks, both_blink\n",
    "\n",
    "#left_blinks, right_blinks, both_blink = get_blinks_in_df(df_stream)"
   ],
   "metadata": {
    "collapsed": false,
    "pycharm": {
     "name": "#%%\n"
    }
   }
  },
  {
   "cell_type": "code",
   "execution_count": 172,
   "outputs": [],
   "source": [
    "#avg_time = np.diff(df_stream_ts.to_numpy().flatten()).tolist()"
   ],
   "metadata": {
    "collapsed": false,
    "pycharm": {
     "name": "#%%\n"
    }
   }
  },
  {
   "cell_type": "code",
   "execution_count": 173,
   "outputs": [],
   "source": [
    "#start, end = get_time_stamps(left_blinks)\n",
    "flip = False\n",
    "chosen_channel = 'AUX_1'"
   ],
   "metadata": {
    "collapsed": false,
    "pycharm": {
     "name": "#%%\n"
    }
   }
  },
  {
   "cell_type": "code",
   "execution_count": 174,
   "outputs": [],
   "source": [
    "from scipy.signal import butter, lfilter\n",
    "# Sample rate and desired cutoff frequencies (in Hz).\n",
    "def plot_eeg_blink_single_norm(df,df_ts, start, end,column,rang = 50, scale=1, flip = False, order = 4):\n",
    "    plt.figure(figsize=(10,6))\n",
    "    df = df[start - rang:end + rang]\n",
    "    df.columns = columns\n",
    "    axis = plt.subplot()\n",
    "    axis.axvline(df_ts['time'][start], color='green', label = \"Blink start - TobiiXR\")  # y = 0\n",
    "    axis.axvline(df_ts['time'][end], color='red', label = \"Blink End - TobiiXR\")\n",
    "    df_norm = (df[column].abs() / df[column].abs().max())\n",
    "    plus = -df_norm[start - rang]\n",
    "\n",
    "    y = (df_norm + plus) *(-1 if flip else 1) *scale\n",
    "    peaks, _ = signal.find_peaks(y[rang-7:rang+30])\n",
    "    peaks = [peak + rang-7 for peak in peaks]\n",
    "\n",
    "    axis.plot(df_ts['time'][start-rang:end+rang], y, label = \"EMG\")\n",
    "    axis.plot(df_ts['time'][start-rang:end+rang], (df['left_openness'] / df['left_openness'].abs().max())\n",
    "               *(-1)+ 1, color='orange', label = \"Eye openness - SRanipal\")\n",
    "    axis.plot(df_ts['time'][start-rang:end+rang], (df['right_openness'] / df['right_openness'].abs().max())\n",
    "               *(-1)+ 1, color='violet', label = \"Eye openness right - SRanipal\")\n",
    "    axis.set_xlabel(\"Time normalized (seconds)\")\n",
    "    axis.set_ylabel(\"Normalized Amplitude\")\n",
    "    for i in peaks:\n",
    "        plt.plot(df_ts['time'][i+ start - rang], y[i], marker=\"o\", markersize=5, markeredgecolor=\"turquoise\", markerfacecolor=\"black\", label=\"Local maximum \" + str(y[i].round(2)) + \", \" + str(i+ start - rang))\n",
    "    axis.set_title(column)\n",
    "    plt.legend()\n",
    "    plt.show()\n",
    "\n",
    "def get_peaks(df, start, end, column, rang=50, scale=1, flip=False):\n",
    "    df = df[start - rang:end + rang]\n",
    "    df_norm = (df[column].abs() / df[column].abs().max())\n",
    "    plus = -df_norm[start - rang]\n",
    "    y = ((df_norm + plus) *(-1 if flip else 1) *scale).tolist()\n",
    "\n",
    "    peaks, _ = signal.find_peaks(y[rang-20:rang+20])\n",
    "    peaks = [peak + rang-20 for peak in peaks]\n",
    "    if len(peaks) == 0:\n",
    "        #print(df)\n",
    "        return 0\n",
    "    peak = peaks[np.argmax([y[i] for i in peaks])]+ start - rang\n",
    "    return  peak if end + rang > peak > start - rang else start\n",
    "\n"
   ],
   "metadata": {
    "collapsed": false,
    "pycharm": {
     "name": "#%%\n"
    }
   }
  },
  {
   "cell_type": "code",
   "execution_count": 175,
   "outputs": [],
   "source": [
    "\n",
    "\n",
    "def find_shift(start, peaks):\n",
    "    differences_start = []\n",
    "    differences_end = []\n",
    "    for i in range(len(peaks)):\n",
    "        differences_start.append(start[i]-peaks[i])\n",
    "    return differences_start\n",
    "\n",
    "def plot_table(df):\n",
    "    #make this example reproducible\n",
    "\n",
    "    #define figure and axes\n",
    "    fig, ax = plt.subplots()\n",
    "    #hide the axes\n",
    "    fig.patch.set_visible(False)\n",
    "    ax.axis('off')\n",
    "    ax.axis('tight')\n",
    "\n",
    "    #create data\n",
    "\n",
    "    #create table\n",
    "    table = ax.table(cellText=df.values, colLabels=df.columns, loc='center')\n",
    "    table.scale(2.5, 2.5)\n",
    "    table.set_fontsize(30)\n",
    "    plt.show()"
   ],
   "metadata": {
    "collapsed": false,
    "pycharm": {
     "name": "#%%\n"
    }
   }
  },
  {
   "cell_type": "code",
   "execution_count": 176,
   "outputs": [],
   "source": [
    "\n",
    "def run_files(paths, path='data/LSLData120hz/', both = True, plot = False, shift_init=0):\n",
    "    peak_info = []\n",
    "    avg_time = []\n",
    "    for (index,y) in enumerate(paths):\n",
    "        data, header = pyxdf.load_xdf(path+str(y)+'/dejittered-fir-eeg-and-dejittered-eyetracking.xdf')\n",
    "        stream, df_stream, df_stream_ts = init_data(data,shift_init)\n",
    "        left_blinks, right_blinks, both_blink = get_blinks_in_df(df_stream)\n",
    "        start, end = get_time_stamps(both_blink)\n",
    "        avg_time.append(np.diff(df_stream_ts.to_numpy().flatten()).tolist())\n",
    "        peaks = []\n",
    "        for i in range(len(start)):\n",
    "            if i == 10:\n",
    "                continue\n",
    "            peaks.append(get_peaks(df_stream, start[i], end[i], chosen_channel, rang=50, scale=5, flip=both))\n",
    "\n",
    "        shift = find_shift(start, peaks)\n",
    "        peak_info.append(shift)\n",
    "\n",
    "    n = len(max(peak_info, key=len))\n",
    "    t = [x + [None]*(n-len(x)) for x in peak_info]\n",
    "    numpy_array_peak_info = np.array(t)\n",
    "    df_peak = pd.DataFrame(numpy_array_peak_info)\n",
    "    df_peak = df_peak.set_index([paths])\n",
    "    df_peak['time between index (s)'] = [i[0] for i in avg_time]\n",
    "    df_peak['Sum (indexes)'] = df_peak.sum(axis=1)\n",
    "    df_peak['Avg (indexes)'] = round(df_peak.loc[:, 0:9].mean(axis=1),3)\n",
    "    df_peak['Avg time (ms)'] = round(df_peak['Avg (indexes)']*df_peak['time between index (s)'],5)*1000\n",
    "    if plot:\n",
    "        plot_table(df_peak)\n",
    "    return df_peak\n",
    "\n"
   ],
   "metadata": {
    "collapsed": false,
    "pycharm": {
     "name": "#%%\n"
    }
   }
  },
  {
   "cell_type": "code",
   "execution_count": 177,
   "outputs": [
    {
     "data": {
      "text/plain": "                           0   1   2   3   4   5   6   7   8   9  \\\nLSLDataBoth10Times120_14 -14  15 -18 -16  13 -15 -18 -16 -17  12   \nLSLDataBoth10Times120_5  -17 -18 -15 -16 -12 -16 -11 -14 -15 -16   \nLSLDataBoth10Times120_10 -11 -17 -18 -17 -16 -18  19 -15 -18 -18   \nLSLDataBoth10Times120_7  -16  15 -15 -15 -14 -17 -16 -17 -16 -17   \nLSLDataBoth10Times120_11 -17  18 -18 -17  15 -18 -17  17 -15 -17   \nLSLDataBoth10Times120_8  -14 -18 -18  15 -15  18 -16 -16 -16 -18   \nLSLDataBoth10Times120_9  -16 -16 -18 -12 -17 -17 -17 -18 -18 -16   \nLSLDataBoth10Times120_12  16 -15 -17 -17 -18  15 -18  18 -17 -18   \nLSLDataBoth10Times120_4  -15 -18 -14 -15 -15 -18 -15 -15 -14 -12   \nLSLDataBoth10Times120_3  -14 -18 -14 -13 -14 -16 -18 -15 -15 -15   \nLSLDataBoth10Times120_15 -17  17 -16 -14  16  13  13  12  11 -18   \nLSLDataBoth10Times120_6  -11 -17 -15 -18 -17 -17 -17 -16 -18 -16   \nLSLDataBoth10Times120_1  -17 -15 -15 -16 -17 -13 -16 -18 -16 -18   \n\n                          time between index (s)  Sum (indexes)  \\\nLSLDataBoth10Times120_14                0.008333     -73.991667   \nLSLDataBoth10Times120_5                 0.008333    -149.991667   \nLSLDataBoth10Times120_10                0.008333    -128.991667   \nLSLDataBoth10Times120_7                 0.008333    -127.991667   \nLSLDataBoth10Times120_11                0.008333     -68.991667   \nLSLDataBoth10Times120_8                 0.008333     -97.991667   \nLSLDataBoth10Times120_9                 0.008333    -164.991667   \nLSLDataBoth10Times120_12                0.008333     -70.991667   \nLSLDataBoth10Times120_4                 0.008333    -150.991667   \nLSLDataBoth10Times120_3                 0.008333    -151.991667   \nLSLDataBoth10Times120_15                0.008333      17.008333   \nLSLDataBoth10Times120_6                 0.008333    -161.991667   \nLSLDataBoth10Times120_1                 0.008333    -160.991667   \n\n                          Avg (indexes)  Avg time (ms)  \nLSLDataBoth10Times120_14           -7.4         -61.67  \nLSLDataBoth10Times120_5           -15.0        -125.00  \nLSLDataBoth10Times120_10          -12.9        -107.50  \nLSLDataBoth10Times120_7           -12.8        -106.67  \nLSLDataBoth10Times120_11           -6.9         -57.50  \nLSLDataBoth10Times120_8            -9.8         -81.67  \nLSLDataBoth10Times120_9           -16.5        -137.50  \nLSLDataBoth10Times120_12           -7.1         -59.17  \nLSLDataBoth10Times120_4           -15.1        -125.83  \nLSLDataBoth10Times120_3           -15.2        -126.67  \nLSLDataBoth10Times120_15            1.7          14.17  \nLSLDataBoth10Times120_6           -16.2        -135.00  \nLSLDataBoth10Times120_1           -16.1        -134.17  ",
      "text/html": "<div>\n<style scoped>\n    .dataframe tbody tr th:only-of-type {\n        vertical-align: middle;\n    }\n\n    .dataframe tbody tr th {\n        vertical-align: top;\n    }\n\n    .dataframe thead th {\n        text-align: right;\n    }\n</style>\n<table border=\"1\" class=\"dataframe\">\n  <thead>\n    <tr style=\"text-align: right;\">\n      <th></th>\n      <th>0</th>\n      <th>1</th>\n      <th>2</th>\n      <th>3</th>\n      <th>4</th>\n      <th>5</th>\n      <th>6</th>\n      <th>7</th>\n      <th>8</th>\n      <th>9</th>\n      <th>time between index (s)</th>\n      <th>Sum (indexes)</th>\n      <th>Avg (indexes)</th>\n      <th>Avg time (ms)</th>\n    </tr>\n  </thead>\n  <tbody>\n    <tr>\n      <th>LSLDataBoth10Times120_14</th>\n      <td>-14</td>\n      <td>15</td>\n      <td>-18</td>\n      <td>-16</td>\n      <td>13</td>\n      <td>-15</td>\n      <td>-18</td>\n      <td>-16</td>\n      <td>-17</td>\n      <td>12</td>\n      <td>0.008333</td>\n      <td>-73.991667</td>\n      <td>-7.4</td>\n      <td>-61.67</td>\n    </tr>\n    <tr>\n      <th>LSLDataBoth10Times120_5</th>\n      <td>-17</td>\n      <td>-18</td>\n      <td>-15</td>\n      <td>-16</td>\n      <td>-12</td>\n      <td>-16</td>\n      <td>-11</td>\n      <td>-14</td>\n      <td>-15</td>\n      <td>-16</td>\n      <td>0.008333</td>\n      <td>-149.991667</td>\n      <td>-15.0</td>\n      <td>-125.00</td>\n    </tr>\n    <tr>\n      <th>LSLDataBoth10Times120_10</th>\n      <td>-11</td>\n      <td>-17</td>\n      <td>-18</td>\n      <td>-17</td>\n      <td>-16</td>\n      <td>-18</td>\n      <td>19</td>\n      <td>-15</td>\n      <td>-18</td>\n      <td>-18</td>\n      <td>0.008333</td>\n      <td>-128.991667</td>\n      <td>-12.9</td>\n      <td>-107.50</td>\n    </tr>\n    <tr>\n      <th>LSLDataBoth10Times120_7</th>\n      <td>-16</td>\n      <td>15</td>\n      <td>-15</td>\n      <td>-15</td>\n      <td>-14</td>\n      <td>-17</td>\n      <td>-16</td>\n      <td>-17</td>\n      <td>-16</td>\n      <td>-17</td>\n      <td>0.008333</td>\n      <td>-127.991667</td>\n      <td>-12.8</td>\n      <td>-106.67</td>\n    </tr>\n    <tr>\n      <th>LSLDataBoth10Times120_11</th>\n      <td>-17</td>\n      <td>18</td>\n      <td>-18</td>\n      <td>-17</td>\n      <td>15</td>\n      <td>-18</td>\n      <td>-17</td>\n      <td>17</td>\n      <td>-15</td>\n      <td>-17</td>\n      <td>0.008333</td>\n      <td>-68.991667</td>\n      <td>-6.9</td>\n      <td>-57.50</td>\n    </tr>\n    <tr>\n      <th>LSLDataBoth10Times120_8</th>\n      <td>-14</td>\n      <td>-18</td>\n      <td>-18</td>\n      <td>15</td>\n      <td>-15</td>\n      <td>18</td>\n      <td>-16</td>\n      <td>-16</td>\n      <td>-16</td>\n      <td>-18</td>\n      <td>0.008333</td>\n      <td>-97.991667</td>\n      <td>-9.8</td>\n      <td>-81.67</td>\n    </tr>\n    <tr>\n      <th>LSLDataBoth10Times120_9</th>\n      <td>-16</td>\n      <td>-16</td>\n      <td>-18</td>\n      <td>-12</td>\n      <td>-17</td>\n      <td>-17</td>\n      <td>-17</td>\n      <td>-18</td>\n      <td>-18</td>\n      <td>-16</td>\n      <td>0.008333</td>\n      <td>-164.991667</td>\n      <td>-16.5</td>\n      <td>-137.50</td>\n    </tr>\n    <tr>\n      <th>LSLDataBoth10Times120_12</th>\n      <td>16</td>\n      <td>-15</td>\n      <td>-17</td>\n      <td>-17</td>\n      <td>-18</td>\n      <td>15</td>\n      <td>-18</td>\n      <td>18</td>\n      <td>-17</td>\n      <td>-18</td>\n      <td>0.008333</td>\n      <td>-70.991667</td>\n      <td>-7.1</td>\n      <td>-59.17</td>\n    </tr>\n    <tr>\n      <th>LSLDataBoth10Times120_4</th>\n      <td>-15</td>\n      <td>-18</td>\n      <td>-14</td>\n      <td>-15</td>\n      <td>-15</td>\n      <td>-18</td>\n      <td>-15</td>\n      <td>-15</td>\n      <td>-14</td>\n      <td>-12</td>\n      <td>0.008333</td>\n      <td>-150.991667</td>\n      <td>-15.1</td>\n      <td>-125.83</td>\n    </tr>\n    <tr>\n      <th>LSLDataBoth10Times120_3</th>\n      <td>-14</td>\n      <td>-18</td>\n      <td>-14</td>\n      <td>-13</td>\n      <td>-14</td>\n      <td>-16</td>\n      <td>-18</td>\n      <td>-15</td>\n      <td>-15</td>\n      <td>-15</td>\n      <td>0.008333</td>\n      <td>-151.991667</td>\n      <td>-15.2</td>\n      <td>-126.67</td>\n    </tr>\n    <tr>\n      <th>LSLDataBoth10Times120_15</th>\n      <td>-17</td>\n      <td>17</td>\n      <td>-16</td>\n      <td>-14</td>\n      <td>16</td>\n      <td>13</td>\n      <td>13</td>\n      <td>12</td>\n      <td>11</td>\n      <td>-18</td>\n      <td>0.008333</td>\n      <td>17.008333</td>\n      <td>1.7</td>\n      <td>14.17</td>\n    </tr>\n    <tr>\n      <th>LSLDataBoth10Times120_6</th>\n      <td>-11</td>\n      <td>-17</td>\n      <td>-15</td>\n      <td>-18</td>\n      <td>-17</td>\n      <td>-17</td>\n      <td>-17</td>\n      <td>-16</td>\n      <td>-18</td>\n      <td>-16</td>\n      <td>0.008333</td>\n      <td>-161.991667</td>\n      <td>-16.2</td>\n      <td>-135.00</td>\n    </tr>\n    <tr>\n      <th>LSLDataBoth10Times120_1</th>\n      <td>-17</td>\n      <td>-15</td>\n      <td>-15</td>\n      <td>-16</td>\n      <td>-17</td>\n      <td>-13</td>\n      <td>-16</td>\n      <td>-18</td>\n      <td>-16</td>\n      <td>-18</td>\n      <td>0.008333</td>\n      <td>-160.991667</td>\n      <td>-16.1</td>\n      <td>-134.17</td>\n    </tr>\n  </tbody>\n</table>\n</div>"
     },
     "metadata": {},
     "output_type": "display_data"
    }
   ],
   "source": [
    "\n",
    "\n",
    "paths = [name for name in os.listdir(\"./data/LSLData120hz\")]\n",
    "both = [name for name in paths if \"Both\" in name and not \"bad\" in name]\n",
    "\n",
    "\n",
    "df_both = run_files(both, both=flip , plot=False)\n",
    "#df_both = df_both.drop(df_both.columns[[1]], inplace=True, axis=1)\n",
    "display(df_both)\n"
   ],
   "metadata": {
    "collapsed": false,
    "pycharm": {
     "name": "#%%\n"
    }
   }
  },
  {
   "cell_type": "code",
   "execution_count": 178,
   "outputs": [],
   "source": [
    "def get_offset(df):\n",
    "    avg_offset = df['Avg time (ms)'].sum()/df.shape[0]\n",
    "    avg_offset_index = df['Avg (indexes)'].sum()/df.shape[0]\n",
    "    print(avg_offset_index)\n",
    "    return avg_offset, avg_offset_index\n"
   ],
   "metadata": {
    "collapsed": false,
    "pycharm": {
     "name": "#%%\n"
    }
   }
  },
  {
   "cell_type": "code",
   "execution_count": 179,
   "outputs": [
    {
     "name": "stdout",
     "output_type": "stream",
     "text": [
      "(ms, Number of indexes to shift) ---- Both\n",
      "-11.484615384615383\n",
      "(-95.70615384615387, -11.484615384615383)\n",
      "-11.484615384615383\n"
     ]
    },
    {
     "data": {
      "text/plain": "                           0   1   2   3   4   5   6   7   8   9  \\\nLSLDataBoth10Times120_14  -3  -8  -7 -11 -12  -8 -18  -5 -14 -18   \nLSLDataBoth10Times120_5   -6  -7  -4  -5  -1  -5   0  -3  -4  -5   \nLSLDataBoth10Times120_10  -8  -6 -12 -11 -17 -17 -17  -9 -16 -12   \nLSLDataBoth10Times120_7   -8  -8  -4  -8  -3 -16 -10  -6 -11 -15   \nLSLDataBoth10Times120_11 -16 -14  -9  -6 -18 -10  -6 -17  -4 -11   \nLSLDataBoth10Times120_8   -3  -9  -7 -10 -10  -8  -5  -5  -8  -7   \nLSLDataBoth10Times120_9   -5 -12  -7 -16 -17 -14  -6 -13 -15  -8   \nLSLDataBoth10Times120_12 -11  -8  -6  -6 -15 -14 -14 -12 -13 -14   \nLSLDataBoth10Times120_4   -4  -7  -3  -4  -4  -7  -4  -4  -3  -1   \nLSLDataBoth10Times120_3   -3  -7  -3  -2  -3  -8  -7  -4  -4  -4   \nLSLDataBoth10Times120_15  -6 -12  -5  -3 -16  -8 -11 -16 -16  -7   \nLSLDataBoth10Times120_6    0  -6  -4  -9  -8 -11 -13 -18 -15  -5   \nLSLDataBoth10Times120_1   -6  -4  -4  -9  -6  -2  -5  -7  -8  -7   \n\n                          time between index (s)  Sum (indexes)  \\\nLSLDataBoth10Times120_14                0.008333    -103.991667   \nLSLDataBoth10Times120_5                 0.008333     -39.991667   \nLSLDataBoth10Times120_10                0.008333    -124.991667   \nLSLDataBoth10Times120_7                 0.008333     -88.991667   \nLSLDataBoth10Times120_11                0.008333    -110.991667   \nLSLDataBoth10Times120_8                 0.008333     -71.991667   \nLSLDataBoth10Times120_9                 0.008333    -112.991667   \nLSLDataBoth10Times120_12                0.008333    -112.991667   \nLSLDataBoth10Times120_4                 0.008333     -40.991667   \nLSLDataBoth10Times120_3                 0.008333     -44.991667   \nLSLDataBoth10Times120_15                0.008333     -99.991667   \nLSLDataBoth10Times120_6                 0.008333     -88.991667   \nLSLDataBoth10Times120_1                 0.008333     -57.991667   \n\n                          Avg (indexes)  Avg time (ms)  \nLSLDataBoth10Times120_14          -10.4         -86.67  \nLSLDataBoth10Times120_5            -4.0         -33.33  \nLSLDataBoth10Times120_10          -12.5        -104.17  \nLSLDataBoth10Times120_7            -8.9         -74.17  \nLSLDataBoth10Times120_11          -11.1         -92.50  \nLSLDataBoth10Times120_8            -7.2         -60.00  \nLSLDataBoth10Times120_9           -11.3         -94.17  \nLSLDataBoth10Times120_12          -11.3         -94.17  \nLSLDataBoth10Times120_4            -4.1         -34.17  \nLSLDataBoth10Times120_3            -4.5         -37.50  \nLSLDataBoth10Times120_15          -10.0         -83.33  \nLSLDataBoth10Times120_6            -8.9         -74.17  \nLSLDataBoth10Times120_1            -5.8         -48.33  ",
      "text/html": "<div>\n<style scoped>\n    .dataframe tbody tr th:only-of-type {\n        vertical-align: middle;\n    }\n\n    .dataframe tbody tr th {\n        vertical-align: top;\n    }\n\n    .dataframe thead th {\n        text-align: right;\n    }\n</style>\n<table border=\"1\" class=\"dataframe\">\n  <thead>\n    <tr style=\"text-align: right;\">\n      <th></th>\n      <th>0</th>\n      <th>1</th>\n      <th>2</th>\n      <th>3</th>\n      <th>4</th>\n      <th>5</th>\n      <th>6</th>\n      <th>7</th>\n      <th>8</th>\n      <th>9</th>\n      <th>time between index (s)</th>\n      <th>Sum (indexes)</th>\n      <th>Avg (indexes)</th>\n      <th>Avg time (ms)</th>\n    </tr>\n  </thead>\n  <tbody>\n    <tr>\n      <th>LSLDataBoth10Times120_14</th>\n      <td>-3</td>\n      <td>-8</td>\n      <td>-7</td>\n      <td>-11</td>\n      <td>-12</td>\n      <td>-8</td>\n      <td>-18</td>\n      <td>-5</td>\n      <td>-14</td>\n      <td>-18</td>\n      <td>0.008333</td>\n      <td>-103.991667</td>\n      <td>-10.4</td>\n      <td>-86.67</td>\n    </tr>\n    <tr>\n      <th>LSLDataBoth10Times120_5</th>\n      <td>-6</td>\n      <td>-7</td>\n      <td>-4</td>\n      <td>-5</td>\n      <td>-1</td>\n      <td>-5</td>\n      <td>0</td>\n      <td>-3</td>\n      <td>-4</td>\n      <td>-5</td>\n      <td>0.008333</td>\n      <td>-39.991667</td>\n      <td>-4.0</td>\n      <td>-33.33</td>\n    </tr>\n    <tr>\n      <th>LSLDataBoth10Times120_10</th>\n      <td>-8</td>\n      <td>-6</td>\n      <td>-12</td>\n      <td>-11</td>\n      <td>-17</td>\n      <td>-17</td>\n      <td>-17</td>\n      <td>-9</td>\n      <td>-16</td>\n      <td>-12</td>\n      <td>0.008333</td>\n      <td>-124.991667</td>\n      <td>-12.5</td>\n      <td>-104.17</td>\n    </tr>\n    <tr>\n      <th>LSLDataBoth10Times120_7</th>\n      <td>-8</td>\n      <td>-8</td>\n      <td>-4</td>\n      <td>-8</td>\n      <td>-3</td>\n      <td>-16</td>\n      <td>-10</td>\n      <td>-6</td>\n      <td>-11</td>\n      <td>-15</td>\n      <td>0.008333</td>\n      <td>-88.991667</td>\n      <td>-8.9</td>\n      <td>-74.17</td>\n    </tr>\n    <tr>\n      <th>LSLDataBoth10Times120_11</th>\n      <td>-16</td>\n      <td>-14</td>\n      <td>-9</td>\n      <td>-6</td>\n      <td>-18</td>\n      <td>-10</td>\n      <td>-6</td>\n      <td>-17</td>\n      <td>-4</td>\n      <td>-11</td>\n      <td>0.008333</td>\n      <td>-110.991667</td>\n      <td>-11.1</td>\n      <td>-92.50</td>\n    </tr>\n    <tr>\n      <th>LSLDataBoth10Times120_8</th>\n      <td>-3</td>\n      <td>-9</td>\n      <td>-7</td>\n      <td>-10</td>\n      <td>-10</td>\n      <td>-8</td>\n      <td>-5</td>\n      <td>-5</td>\n      <td>-8</td>\n      <td>-7</td>\n      <td>0.008333</td>\n      <td>-71.991667</td>\n      <td>-7.2</td>\n      <td>-60.00</td>\n    </tr>\n    <tr>\n      <th>LSLDataBoth10Times120_9</th>\n      <td>-5</td>\n      <td>-12</td>\n      <td>-7</td>\n      <td>-16</td>\n      <td>-17</td>\n      <td>-14</td>\n      <td>-6</td>\n      <td>-13</td>\n      <td>-15</td>\n      <td>-8</td>\n      <td>0.008333</td>\n      <td>-112.991667</td>\n      <td>-11.3</td>\n      <td>-94.17</td>\n    </tr>\n    <tr>\n      <th>LSLDataBoth10Times120_12</th>\n      <td>-11</td>\n      <td>-8</td>\n      <td>-6</td>\n      <td>-6</td>\n      <td>-15</td>\n      <td>-14</td>\n      <td>-14</td>\n      <td>-12</td>\n      <td>-13</td>\n      <td>-14</td>\n      <td>0.008333</td>\n      <td>-112.991667</td>\n      <td>-11.3</td>\n      <td>-94.17</td>\n    </tr>\n    <tr>\n      <th>LSLDataBoth10Times120_4</th>\n      <td>-4</td>\n      <td>-7</td>\n      <td>-3</td>\n      <td>-4</td>\n      <td>-4</td>\n      <td>-7</td>\n      <td>-4</td>\n      <td>-4</td>\n      <td>-3</td>\n      <td>-1</td>\n      <td>0.008333</td>\n      <td>-40.991667</td>\n      <td>-4.1</td>\n      <td>-34.17</td>\n    </tr>\n    <tr>\n      <th>LSLDataBoth10Times120_3</th>\n      <td>-3</td>\n      <td>-7</td>\n      <td>-3</td>\n      <td>-2</td>\n      <td>-3</td>\n      <td>-8</td>\n      <td>-7</td>\n      <td>-4</td>\n      <td>-4</td>\n      <td>-4</td>\n      <td>0.008333</td>\n      <td>-44.991667</td>\n      <td>-4.5</td>\n      <td>-37.50</td>\n    </tr>\n    <tr>\n      <th>LSLDataBoth10Times120_15</th>\n      <td>-6</td>\n      <td>-12</td>\n      <td>-5</td>\n      <td>-3</td>\n      <td>-16</td>\n      <td>-8</td>\n      <td>-11</td>\n      <td>-16</td>\n      <td>-16</td>\n      <td>-7</td>\n      <td>0.008333</td>\n      <td>-99.991667</td>\n      <td>-10.0</td>\n      <td>-83.33</td>\n    </tr>\n    <tr>\n      <th>LSLDataBoth10Times120_6</th>\n      <td>0</td>\n      <td>-6</td>\n      <td>-4</td>\n      <td>-9</td>\n      <td>-8</td>\n      <td>-11</td>\n      <td>-13</td>\n      <td>-18</td>\n      <td>-15</td>\n      <td>-5</td>\n      <td>0.008333</td>\n      <td>-88.991667</td>\n      <td>-8.9</td>\n      <td>-74.17</td>\n    </tr>\n    <tr>\n      <th>LSLDataBoth10Times120_1</th>\n      <td>-6</td>\n      <td>-4</td>\n      <td>-4</td>\n      <td>-9</td>\n      <td>-6</td>\n      <td>-2</td>\n      <td>-5</td>\n      <td>-7</td>\n      <td>-8</td>\n      <td>-7</td>\n      <td>0.008333</td>\n      <td>-57.991667</td>\n      <td>-5.8</td>\n      <td>-48.33</td>\n    </tr>\n  </tbody>\n</table>\n</div>"
     },
     "metadata": {},
     "output_type": "display_data"
    },
    {
     "name": "stdout",
     "output_type": "stream",
     "text": [
      "-8.461538461538462\n",
      "(-70.51384615384616, -8.461538461538462)\n"
     ]
    }
   ],
   "source": [
    "print(\"(ms, Number of indexes to shift) ---- Both\")\n",
    "print(get_offset(df_both))\n",
    "df_both_shift = run_files(both, both=flip , plot=False, shift_init=round(get_offset(df_both)[1]))\n",
    "#df_both_shift.loc['Average']= df_both_shift.sum(numeric_only=True, axis=0)/df_both_shift.shape[0]\n",
    "display(df_both_shift)\n",
    "\n",
    "\n",
    "print(get_offset(df_both_shift))"
   ],
   "metadata": {
    "collapsed": false,
    "pycharm": {
     "name": "#%%\n"
    }
   }
  },
  {
   "cell_type": "code",
   "execution_count": 180,
   "outputs": [
    {
     "name": "stdout",
     "output_type": "stream",
     "text": [
      "Standard devation\n",
      "Both: 44.699625937745374\n",
      "-------- SE ----------\n",
      "Both: 12.39744563943085\n"
     ]
    }
   ],
   "source": [
    "import statistics\n",
    "from scipy.stats import sem\n",
    "\n",
    "standard_de_both = statistics.stdev(df_both['Avg time (ms)'])\n",
    "se_both = sem(df_both['Avg time (ms)'])\n",
    "print(\"Standard devation\")\n",
    "print(\"Both: \" + str(standard_de_both))\n",
    "\n",
    "print(\"-------- SE ----------\")\n",
    "print(\"Both: \" + str(se_both))"
   ],
   "metadata": {
    "collapsed": false,
    "pycharm": {
     "name": "#%%\n"
    }
   }
  },
  {
   "cell_type": "code",
   "execution_count": 181,
   "outputs": [
    {
     "name": "stdout",
     "output_type": "stream",
     "text": [
      "Standard devation - After shift\n",
      "Both: 25.138709373680246\n",
      "-------- SE - After shift ----------\n",
      "Both: 6.97222351121472\n"
     ]
    }
   ],
   "source": [
    "standard_de_both_shift = statistics.stdev(df_both_shift['Avg time (ms)'])\n",
    "se_both_shift = sem(df_both_shift['Avg time (ms)'])\n",
    "print(\"Standard devation - After shift\")\n",
    "print(\"Both: \" + str(standard_de_both_shift))\n",
    "print(\"-------- SE - After shift ----------\")\n",
    "print(\"Both: \" + str(se_both_shift))"
   ],
   "metadata": {
    "collapsed": false,
    "pycharm": {
     "name": "#%%\n"
    }
   }
  },
  {
   "cell_type": "code",
   "execution_count": 182,
   "outputs": [
    {
     "name": "stdout",
     "output_type": "stream",
     "text": [
      "[-1.0417, -0.9417, -0.9417, -0.925, -0.8667, -0.8332999999999999, -0.7417, -0.7417, -0.6, -0.4833, -0.375, -0.3417, -0.3333]\n"
     ]
    },
    {
     "data": {
      "text/plain": "<Figure size 640x480 with 1 Axes>",
      "image/png": "[encoded data removed]"
     },
     "metadata": {},
     "output_type": "display_data"
    }
   ],
   "source": [
    "from scipy.stats import norm\n",
    "# Plot between -10 and 10 with .001 steps.\n",
    "x_axis = sorted((df_both_shift['Avg time (ms)']/100).tolist())\n",
    "print(x_axis)\n",
    "\n",
    "plt.hist(x_axis)\n",
    "for i in range(len(x_axis)):\n",
    "    plt.plot(x_axis[i],  norm.pdf(x_axis,np.mean(x_axis),np.std(x_axis))[i], marker=\"o\", markersize=6, markeredgecolor=\"red\", markerfacecolor=\"blue\")\n",
    "plt.plot(x_axis, norm.pdf(x_axis,np.mean(x_axis),np.std(x_axis)))\n",
    "plt.axvline(x=0, ymax=6, ymin=0, color='r', linestyle='-')\n",
    "plt.axvline(x=-0.08, ymax=6, ymin=0, color='r', linestyle='-')\n",
    "plt.axvline(x=-0.08*2, ymax=6, ymin=0, color='r', linestyle='-')\n",
    "plt.axvline(x=0.08, ymax=6, ymin=0, color='r', linestyle='-')\n",
    "plt.axvline(x=0.08*2, ymax=6, ymin=0, color='r', linestyle='-')\n",
    "plt.title(\"Histogram with normal distribution of jitter/offset\")\n",
    "plt.xlabel(\"Jitter (seconds)\")\n",
    "plt.ylabel(\"Number of instances\")\n",
    "plt.show()"
   ],
   "metadata": {
    "collapsed": false,
    "pycharm": {
     "name": "#%%\n"
    }
   }
  }
 ],
 "metadata": {
  "kernelspec": {
   "display_name": "Python 3",
   "language": "python",
   "name": "python3"
  },
  "language_info": {
   "codemirror_mode": {
    "name": "ipython",
    "version": 2
   },
   "file_extension": ".py",
   "mimetype": "text/x-python",
   "name": "python",
   "nbconvert_exporter": "python",
   "pygments_lexer": "ipython2",
   "version": "2.7.6"
  }
 },
 "nbformat": 4,
 "nbformat_minor": 0
}