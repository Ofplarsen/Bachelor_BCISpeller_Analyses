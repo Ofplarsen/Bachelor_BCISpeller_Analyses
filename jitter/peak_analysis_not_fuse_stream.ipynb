{
 "cells": [
  {
   "cell_type": "code",
   "execution_count": 555,
   "metadata": {
    "collapsed": true,
    "ExecuteTime": {
     "end_time": "2024-01-18T21:44:14.181026500Z",
     "start_time": "2024-01-18T21:44:14.118026500Z"
    }
   },
   "outputs": [],
   "source": [
    "import pyxdf\n",
    "import pandas as pd\n",
    "import matplotlib.pyplot as plt\n",
    "import numpy as np\n",
    "from scipy import signal\n",
    "import os\n",
    "from sklearn.metrics import mean_squared_error"
   ]
  },
  {
   "cell_type": "code",
   "execution_count": 556,
   "outputs": [],
   "source": [
    "# EEG channels (AUX_1 == EMG)\n",
    "channels = ['Fp1', 'Fz', 'F3', 'F7', 'F9', 'FC5', 'FC1', 'C3', 'T7', 'CP5', 'CP1', 'Pz', 'P3', 'P7'\n",
    "            , 'P9', 'O1', 'Oz', 'O2', 'P10', 'P8', 'P4', 'CP2', 'CP6', 'T8', 'C4', 'Cz'\n",
    "            , 'FC2', 'FC6', 'F10', 'F8', 'F4', 'Fp2','AUX_1', 'ACC_X', 'ACC_Y', 'ACC_Z']\n",
    "\n",
    "# Electrodes removed from EEG\n",
    "removed_channels = ['Fp1', 'F8', 'F7', 'Fp2', 'F3', 'F4']\n",
    "# Eye Tracker channels\n",
    "eye_data_names = ['x', 'y', 'z', 'left_blink', 'right_blink', 'both_blink', 'left_openness', 'right_openness']\n",
    "\n",
    "# Add both channel names to colums for use in DataFrame later\n",
    "columns =  eye_data_names + channels\n"
   ],
   "metadata": {
    "collapsed": false,
    "pycharm": {
     "name": "#%%\n"
    },
    "ExecuteTime": {
     "end_time": "2024-01-18T21:44:14.220026700Z",
     "start_time": "2024-01-18T21:44:14.128027900Z"
    }
   }
  },
  {
   "cell_type": "code",
   "execution_count": 557,
   "outputs": [],
   "source": [
    "def get_time_stamps(stamps: list):\n",
    "    start = []\n",
    "    end = []\n",
    "    more_than_one = False\n",
    "    # Loops list of timestamps, if there is a value for old value n, where the new value is n + 1, continue, if not, then\n",
    "    # The start of the list is the start of the blink, then the last value where n + 1 is valid, is the end of the blink\n",
    "    for i in range(len(stamps)):\n",
    "        if i == (len(stamps)-1):\n",
    "            if(stamps[i-1] == (stamps[i] - 1)):\n",
    "                end.append(stamps[i])\n",
    "            break\n",
    "\n",
    "        if(stamps[i] == (stamps[i+1] - 1)):\n",
    "            if not more_than_one:\n",
    "                start.append(stamps[i])\n",
    "            more_than_one = True\n",
    "            continue\n",
    "        else:\n",
    "            if more_than_one:\n",
    "                end.append(stamps[i])\n",
    "                more_than_one = False\n",
    "\n",
    "    return start, end\n",
    "\n",
    "def detect_blinks(eye_openness, threshold=0.2, tolerance=0.3):\n",
    "    blink_start = []\n",
    "    blink_end = []\n",
    "    in_blink = False\n",
    "    start_index = None\n",
    "\n",
    "    for i, value in enumerate(eye_openness):\n",
    "        if value <= threshold:\n",
    "            # If the eye openness is below the threshold, consider it as part of a blink\n",
    "            if not in_blink:\n",
    "                start_index = i\n",
    "                in_blink = True\n",
    "        elif in_blink:\n",
    "            # If the eye openness increases, check if it's still part of the same blink\n",
    "            if value > threshold + tolerance:\n",
    "                in_blink = False\n",
    "                blink_start.append(start_index)\n",
    "                blink_end.append(i - 1)\n",
    "\n",
    "    return blink_start, blink_end\n"
   ],
   "metadata": {
    "collapsed": false,
    "pycharm": {
     "name": "#%%\n"
    },
    "ExecuteTime": {
     "end_time": "2024-01-18T21:44:14.220026700Z",
     "start_time": "2024-01-18T21:44:14.146026800Z"
    }
   }
  },
  {
   "cell_type": "code",
   "execution_count": 558,
   "outputs": [],
   "source": [
    "\"\"\"\n",
    "Plots a single EEG channel and Eye Tracking data with normalisation for better plot view\n",
    "\"\"\"\n",
    "def plot_eeg_blink_single_norm(df,df_ts, start, end,column,rang = 50, scale=1, flip = False):\n",
    "    plt.figure(figsize=(10,6))\n",
    "    df = df[start - rang:end + rang]\n",
    "    df.columns = columns\n",
    "    axis = plt.subplot()\n",
    "    axis.axvline(df_ts['time'][start], color='green', label = \"Blink start - TobiiXR\")  # y = 0\n",
    "    axis.axvline(df_ts['time'][end], color='red', label = \"Blink End - TobiiXR\")\n",
    "    df_norm = (df[column].abs() / df[column].abs().max())\n",
    "    plus = -df_norm[start - rang]\n",
    "    y = ((df_norm + plus) *(-1 if flip else 1) *scale).tolist()\n",
    "    peaks, _ = signal.find_peaks(y)\n",
    "    peaks = [peak for peak in peaks]\n",
    "\n",
    "\n",
    "    axis.plot(df_ts['time'][start-rang:end+rang], y, label = \"EMG\")\n",
    "    axis.plot(df_ts['time'][start-rang:end+rang], (df['left_openness'] / df['left_openness'].abs().max())\n",
    "               *(-1)+ 1, color='orange', label = \"Eye openness - SRanipal\")\n",
    "    axis.plot(df_ts['time'][start-rang:end+rang], (df['right_openness'] / df['right_openness'].abs().max())\n",
    "               *(-1)+ 1, color='violet', label = \"Eye openness right - SRanipal\")\n",
    "    for i in peaks:\n",
    "        plt.plot(df_ts['time'][i+ start - rang], y[i], marker=\"o\", markersize=5, markeredgecolor=\"turquoise\", markerfacecolor=\"black\", label=\"Local maximum \" + str(round(y[i])) + \", \" + str(i+ start - rang))\n",
    "    axis.set_xlabel(\"Time normalized (seconds)\")\n",
    "    axis.set_ylabel(\"Amplitude \")\n",
    "    axis.set_title(column)\n",
    "    plt.legend()\n",
    "    plt.show()\n",
    "\"\"\"\n",
    "Plots a single EEG channel and Eye Tracking data\n",
    "\n",
    "\"\"\"\n",
    "def plot_eeg_blink_single(df,df_ts, start, end,column,rang = 50):\n",
    "    plt.figure(figsize=(10,6))\n",
    "    df = df[start - rang:end + rang]\n",
    "    df.columns = columns\n",
    "    axis = plt.subplot()\n",
    "    axis.axvline(df_ts['time'][start], color='green', label = \"Blink start - TobiiXR\")  # y = 0\n",
    "    axis.axvline(df_ts['time'][end], color='red', label = \"Blink End - TobiiXR\")\n",
    "\n",
    "    axis.plot(df_ts['time'][start-rang:end+rang], df[column], label = \"EMG\")\n",
    "    axis.plot(df_ts['time'][start-rang:end+rang], df['left_openness'], color='orange', label = \"Eye openness left - SRanipal\")\n",
    "    axis.plot(df_ts['time'][start-rang:end+rang], df['right_openness'], color='violet', label = \"Eye openness right - SRanipal\")\n",
    "    axis.set_title(column)\n",
    "    plt.legend()\n",
    "    plt.show()"
   ],
   "metadata": {
    "collapsed": false,
    "pycharm": {
     "name": "#%%\n"
    },
    "ExecuteTime": {
     "end_time": "2024-01-18T21:44:14.221026200Z",
     "start_time": "2024-01-18T21:44:14.165026500Z"
    }
   }
  },
  {
   "cell_type": "code",
   "execution_count": 559,
   "outputs": [],
   "source": [
    "from scipy.signal import resample\n",
    "\n",
    "\"\"\"\n",
    "Inits the stream data. Used to get a dataframe with the eye tracking data, and the eeg data for easier data processing\n",
    "\"\"\"\n",
    "def init_data(data, shift = 0):\n",
    "    streams = []\n",
    "    for s in data:\n",
    "        for t in s:\n",
    "            streams.append(t)\n",
    "\n",
    "    #Resample\n",
    "    resample_ = True\n",
    "    signal_resampled = streams[1]['time_series']\n",
    "    df_stream = pd.concat([pd.DataFrame(streams[0]['time_series']), pd.DataFrame(signal_resampled)], axis=1)\n",
    "    df_stream_ts = pd.DataFrame(streams[0]['time_stamps'])\n",
    "    #df_stream_ts_eeg = pd.DataFrame(streams[1]['time_stamps'])\n",
    "    df_stream_ts.columns = ['time']\n",
    "    #df_stream_ts_eeg.columns = ['time_eeg']\n",
    "    df_stream.columns = columns\n",
    "    df_stream['AUX_1'] = df_stream['AUX_1']+ 1000000\n",
    "\n",
    "\n",
    "\n",
    "    # Check if NANs have any impact (if streams are unsynced because of different length, but it suggests that\n",
    "    # The streams end on different points, but start on same\n",
    "    num_rows_with_nan = df_stream.isna().any(axis=1).sum()\n",
    "    #print(num_rows_with_nan)\n",
    "\n",
    "    eye_stream = len(streams[0]['time_series'])\n",
    "    eeg_stream = len(streams[1]['time_series'])\n",
    "\n",
    "    if eye_stream > eeg_stream:\n",
    "        df_stream[channels] = df_stream[channels].shift(round(num_rows_with_nan/ 3) )\n",
    "        pass\n",
    "    if eeg_stream > eye_stream:\n",
    "        df_stream[eye_data_names] = df_stream[eye_data_names].shift(round(num_rows_with_nan/ 3) )\n",
    "        pass\n",
    "\n",
    "    if shift != 0:\n",
    "        df_stream['AUX_1'] = df_stream['AUX_1'].shift(shift)\n",
    "\n",
    "    df_stream.dropna(inplace=True)\n",
    "    df_stream = df_stream.reset_index()\n",
    "    #df_stream_ts = pd.concat([df_stream_ts_eye, df_stream_ts_eeg], axis=1)\n",
    "    #df_stream_ts['diff'] = df_stream_ts['time']-df_stream_ts['time_eeg']\n",
    "    df_stream_ts.dropna(inplace=True)\n",
    "    #print(df_stream_ts)\n",
    "    return streams, df_stream, df_stream_ts\n",
    "\n",
    "\"\"\"\n",
    "Returns a list of indexes where the user blinked with the left eye, right eye and both eyes\n",
    "\"\"\"\n",
    "def get_blinks_in_df(df):\n",
    "    left_blinks = df.index[(df['left_blink'] >= 1) & (df['right_blink'] != 1)].tolist()\n",
    "    right_blinks = df.index[(df['right_blink'] >= 1) & (df['left_blink'] != 1)].tolist()\n",
    "    both_blink = df.index[df['both_blink'] == 1].tolist()\n",
    "    #both_blink = df.index[(df['right_openness'] <= 0.1) & (df['left_openness'] <= 0.1)].tolist()\n",
    "    return left_blinks,right_blinks, both_blink\n"
   ],
   "metadata": {
    "collapsed": false,
    "pycharm": {
     "name": "#%%\n"
    },
    "ExecuteTime": {
     "end_time": "2024-01-18T21:44:14.222026200Z",
     "start_time": "2024-01-18T21:44:14.179027Z"
    }
   }
  },
  {
   "cell_type": "code",
   "execution_count": 559,
   "outputs": [],
   "source": [],
   "metadata": {
    "collapsed": false,
    "pycharm": {
     "name": "#%%\n"
    },
    "ExecuteTime": {
     "end_time": "2024-01-18T21:44:14.223026600Z",
     "start_time": "2024-01-18T21:44:14.190026400Z"
    }
   }
  },
  {
   "cell_type": "code",
   "execution_count": 560,
   "outputs": [],
   "source": [
    "# Same as EMG channel\n",
    "chosen_channel = 'AUX_1'\n"
   ],
   "metadata": {
    "collapsed": false,
    "pycharm": {
     "name": "#%%\n"
    },
    "ExecuteTime": {
     "end_time": "2024-01-18T21:44:14.223026600Z",
     "start_time": "2024-01-18T21:44:14.205027Z"
    }
   }
  },
  {
   "cell_type": "code",
   "execution_count": 561,
   "outputs": [],
   "source": [
    "\"\"\"\n",
    "If there are multiple peaks in a curve, take the mean point to ensure best accuracy\n",
    "\"\"\"\n",
    "def find_close_values_mean(values,y, tolerance):\n",
    "    values.sort()\n",
    "    peak = values[np.argmax([y[i] for i in values])]\n",
    "    # Loop list and compare elements\n",
    "    for i in range(len(values) - 1):\n",
    "        if abs(values[i] - peak) <= tolerance and values[i] != peak:\n",
    "            # Return mean if two values are close\n",
    "            return (values[i] + values[i + 1]) / 2\n",
    "\n",
    "    return peak\n",
    "\"\"\"\n",
    "Return peaks in signal in specified range and normalizes data before finding peak\n",
    "\"\"\"\n",
    "\n",
    "def find_crossing_point(data, tolerance=0.9):\n",
    "    # Find peaks using scipy's find_peaks\n",
    "    data = np.array(data)\n",
    "    peaks, _ = signal.find_peaks(data)\n",
    "\n",
    "    # If no peaks are found, return an empty list\n",
    "    if not peaks.size:\n",
    "        return []\n",
    "\n",
    "    # Find the index of the maximum peak value\n",
    "    max_peak_index = np.argmax(data)\n",
    "\n",
    "    # Get the height of the maximum peak\n",
    "    max_peak_height = data[max_peak_index]\n",
    "\n",
    "    # Set the imaginary line 20% lower than the peak\n",
    "    threshold_height = 0.9 * max_peak_height\n",
    "\n",
    "    # Find the index where the curve crosses the imaginary line\n",
    "    if np.where(data[:max_peak_index] <= threshold_height)[0].size == 0:\n",
    "        return []\n",
    "    \n",
    "    crossing_point_index =  np.where(data[:max_peak_index] <= threshold_height)[0][-1]\n",
    "\n",
    "    # If no crossing point is found, return an empty list\n",
    "    if crossing_point_index == max_peak_index:\n",
    "        return []\n",
    "\n",
    "    # Return the absolute index of the crossing point\n",
    "    return [crossing_point_index]\n",
    "\n",
    "def get_peaks(df, start, end, column, rang=50, scale=1, flip=True):\n",
    "\n",
    "    df = df[start - rang:end + rang]\n",
    "    df_norm = (df[column].abs() / df[column].abs().max())\n",
    "    plus = -df_norm[start - rang]\n",
    "    y = ((df_norm + plus) *(-1 if flip else 1) *scale).tolist()\n",
    "    #peaks, _ = signal.find_peaks(y)\n",
    "    peaks = find_crossing_point(y)\n",
    "    peaks = [peak for peak in peaks]\n",
    "    if len(peaks) == 0:\n",
    "        #print(df)\n",
    "        return 0\n",
    "\n",
    "    peak = find_close_values_mean(peaks, y, 20)+ start - rang\n",
    "    return  peak\n",
    "\n"
   ],
   "metadata": {
    "collapsed": false,
    "pycharm": {
     "name": "#%%\n"
    },
    "ExecuteTime": {
     "end_time": "2024-01-18T21:44:14.241027Z",
     "start_time": "2024-01-18T21:44:14.227025800Z"
    }
   }
  },
  {
   "cell_type": "code",
   "execution_count": 562,
   "outputs": [],
   "source": [
    "\"\"\"\n",
    "Find the mean shift in the data for best synchronization between EEG and EYE Tracker\n",
    "\"\"\"\n",
    "def find_shift(start, peaks):\n",
    "    differences_start = []\n",
    "    for i in range(len(peaks)):\n",
    "        differences_start.append(start[i]-peaks[i])\n",
    "    return differences_start\n"
   ],
   "metadata": {
    "collapsed": false,
    "pycharm": {
     "name": "#%%\n"
    },
    "ExecuteTime": {
     "end_time": "2024-01-18T21:44:14.278026200Z",
     "start_time": "2024-01-18T21:44:14.236026800Z"
    }
   }
  },
  {
   "cell_type": "code",
   "execution_count": 563,
   "outputs": [],
   "source": [
    "\n",
    "\"\"\"\n",
    "Method to apply a zero-phase Butterworth filter to the data\n",
    "Uses bandpass [0.75-5], and order 4\n",
    "\"\"\"\n",
    "def zero_phase_butter(data):\n",
    "    # Butterworth filter parameters\n",
    "    fs = 250\n",
    "    lowcut =0.75\n",
    "    highcut = 5.0\n",
    "    order = 4\n",
    "\n",
    "    # Design Butterworth bandpass filter\n",
    "    nyquist = 0.5 * fs\n",
    "    low = lowcut / nyquist\n",
    "    high = highcut / nyquist\n",
    "    b_bandpass, a_bandpass = signal.butter(order, [low, high], btype=\"band\")\n",
    "\n",
    "    # Zero-phase filtering using filtfilt\n",
    "    return signal.filtfilt(b_bandpass, a_bandpass, data)\n",
    "\n",
    "\"\"\"\n",
    "Method to import files with EEG and Eye Tracker data, and make them into common DataFrame for easier analysis\n",
    "\"\"\"\n",
    "\n",
    "def run_files(paths, path='data/LSLGoodData/', both = True, plot = False, shift_init=0):\n",
    "    t = True\n",
    "    peak_info = []\n",
    "    avg_time = []\n",
    "    for (index,y) in enumerate(paths):\n",
    "\n",
    "        data_eeg, header = pyxdf.load_xdf(path+str(y)+'/decimated-dejittered-eeg.xdf')\n",
    "\n",
    "        data_eye, header = pyxdf.load_xdf(path+str(y)+'/dejittered-gaze-and-blinking.xdf')\n",
    "\n",
    "        stream, df_stream, df_stream_ts = init_data([data_eye, data_eeg],shift_init)\n",
    "\n",
    "        # Adding butterworth\n",
    "        df_stream['AUX_1'] = zero_phase_butter(df_stream['AUX_1'])\n",
    "\n",
    "        #left_blinks, right_blinks, both_blink = get_blinks_in_df(df_stream)\n",
    "        #start, end = detect_blinks((df_stream['left_openness'] + df_stream['right_openness'])/2, tolerance=0.1, threshold=0.3)\n",
    "        \n",
    "        start, end = detect_blinks((df_stream['left_openness'] ), tolerance=0.1, threshold=0.3)\n",
    "        avg_time.append(np.diff(df_stream_ts.to_numpy().flatten()).tolist())\n",
    "\n",
    "        peaks = []\n",
    "        remove = []\n",
    "        # Finding the 10 blinks done in testing \n",
    "        for s, e in zip(start, end):\n",
    "            if s - 50 <= 0:\n",
    "                remove.append((s,e))\n",
    "                continue\n",
    "            peaks.append(get_peaks(df_stream, s, e, chosen_channel, rang=40, scale=100, flip=both))\n",
    "        \n",
    "        for s, e in remove:\n",
    "            start.remove(s)\n",
    "            end.remove(e)\n",
    "        # Finding the mean shift based on the ten blinks\n",
    "        shift = find_shift(start, peaks)\n",
    "        # Adding the shift to info for later use and comparison\n",
    "        peak_info.append(shift)\n",
    "\n",
    "\n",
    "    n = len(max(peak_info, key=len))\n",
    "    # Make empty list of peaks for later adding\n",
    "    t = [x + [None]*(n-len(x)) for x in peak_info]\n",
    "    # Make array with peak info\n",
    "    numpy_array_peak_info = np.array(t)\n",
    "    df_peak = pd.DataFrame(numpy_array_peak_info)\n",
    "    df_peak = df_peak.set_index([paths])\n",
    "    # Add time between index column in dataframe with average time between indexes\n",
    "    df_peak = df_peak.applymap(lambda x: x if x is not None else np.nan)\n",
    "    df_peak = add_stats(df_peak, avg_time)\n",
    "\n",
    "    # Merge the new DataFrame with df_peak\n",
    "    return df_peak\n",
    "\n",
    "def add_stats(df, avg_time):\n",
    "        # List of column names to be added\n",
    "    new_column_names = ['Sum (indexes)', 'Avg (indexes)', 'time between index (s)', 'Avg time (ms)']\n",
    "\n",
    "    # Drop existing columns if they exist\n",
    "    df = df.drop(columns=new_column_names, errors='ignore')\n",
    "    print(f\"n blinks {df.count().sum()}\") \n",
    "    new_columns_df = pd.DataFrame()\n",
    "    # Calculate the time between indexes\n",
    "    # Add sum, average, and average time shift columns\n",
    "    new_columns_df['Sum (indexes)'] = df.sum(axis=1, skipna=True)\n",
    "    new_columns_df['Avg (indexes)'] = df.mean(axis=1, skipna=True).round(3)\n",
    "    new_columns_df['time between index (s)'] = [i[0] for i in avg_time]\n",
    "    new_columns_df['Avg time (ms)'] = (new_columns_df['Avg (indexes)'] * new_columns_df['time between index (s)'] * 1000).round(5)\n",
    "    df = pd.concat([df, new_columns_df], axis=1)\n",
    "    return df\n",
    "\n",
    "def remove_outlier(df, value=30):\n",
    "    df = df.applymap(lambda x: x if abs(x) <= value else np.nan)\n",
    "    return df\n",
    "    \n"
   ],
   "metadata": {
    "collapsed": false,
    "pycharm": {
     "name": "#%%\n"
    },
    "ExecuteTime": {
     "end_time": "2024-01-18T21:44:14.279027300Z",
     "start_time": "2024-01-18T21:44:14.257026700Z"
    }
   }
  },
  {
   "cell_type": "code",
   "execution_count": 564,
   "outputs": [
    {
     "name": "stdout",
     "output_type": "stream",
     "text": [
      "n blinks 199\n"
     ]
    },
    {
     "data": {
      "text/plain": "                0   1     2   3   4   5     6   7     8   9  ...  14    15  \\\nLSLData_s5_1    1 -13 -13.0 -12 -25  -4  -4.0 -11 -12.0 -12  ... -17 -33.0   \nLSLData_s5_10 -11  -9  -5.0  -4  -7  -2 -12.0  13  -2.0 -19  ...  -1  -6.0   \nLSLData_s5_12 -16  13  -7.0 -21 -15 -21  -7.0 -13 -19.0 -22  ... -26 -40.0   \nLSLData_s5_13   0 -18   NaN -13  25 -26  -5.0  -4  -7.0 -12  ... -10   NaN   \nLSLData_s5_15 -16  -4  -5.0 -62  39   3  20.0  -3   NaN -18  ... -43  31.0   \nLSLData_s5_2  -16 -27 -29.0 -60  -9  22  20.0 -78 -14.0 -20  ...  -4   NaN   \nLSLData_s5_3  -12 -17  -8.0 -37 -34  -9   1.0 -10  -3.0 -40  ...   2  -6.0   \nLSLData_s5_4   -9  -5  -4.0  -4  24 -34   NaN  -3   NaN -24  ...   2   7.0   \nLSLData_s5_6   13 -32 -40.0  39  -7 -10  39.0  38 -10.0  -8  ... -35   NaN   \nLSLData_s5_7   -7 -18  -7.0  16  40  22   9.0   5 -26.0  -6  ... -28  -6.0   \nLSLData_s5_8  -40 -12 -12.0 -17 -17  -7  -9.0 -10  11.0  10  ... -41   NaN   \nLSLData_s5_9  -11 -13 -17.0 -15  -6 -17  -3.0 -14 -35.0  -7  ... -15 -10.0   \n\n                 16    17    18    19  Sum (indexes)  Avg (indexes)  \\\nLSLData_s5_1    NaN   NaN   NaN   NaN         -197.0        -12.312   \nLSLData_s5_10   NaN   NaN   NaN   NaN         -164.0        -10.250   \nLSLData_s5_12   NaN   NaN   NaN   NaN            NaN            NaN   \nLSLData_s5_13   NaN   NaN   NaN   NaN            NaN            NaN   \nLSLData_s5_15 -19.0  -2.0   NaN   NaN            NaN        123.833   \nLSLData_s5_2    NaN   NaN   NaN   NaN            NaN        -20.200   \nLSLData_s5_3    NaN   NaN   NaN   NaN            NaN        190.625   \nLSLData_s5_4  -26.0 -23.0 -25.0  34.0            NaN            NaN   \nLSLData_s5_6    NaN   NaN   NaN   NaN          -40.0         -2.667   \nLSLData_s5_7    NaN   NaN   NaN   NaN          -62.0         -3.875   \nLSLData_s5_8   26.0   NaN   NaN   NaN            NaN            NaN   \nLSLData_s5_9    NaN -18.0   NaN   NaN            NaN            NaN   \n\n               time between index (s)  Avg time (ms)  \nLSLData_s5_1                    0.004      -49.24571  \nLSLData_s5_10                   0.004      -40.99813  \nLSLData_s5_12                   0.004            NaN  \nLSLData_s5_13                   0.004            NaN  \nLSLData_s5_15                   0.004            NaN  \nLSLData_s5_2                    0.004      -80.79377  \nLSLData_s5_3                    0.004            NaN  \nLSLData_s5_4                    0.004            NaN  \nLSLData_s5_6                    0.004      -10.66760  \nLSLData_s5_7                    0.004      -15.49954  \nLSLData_s5_8                    0.004            NaN  \nLSLData_s5_9                    0.004            NaN  \n\n[12 rows x 24 columns]",
      "text/html": "<div>\n<style scoped>\n    .dataframe tbody tr th:only-of-type {\n        vertical-align: middle;\n    }\n\n    .dataframe tbody tr th {\n        vertical-align: top;\n    }\n\n    .dataframe thead th {\n        text-align: right;\n    }\n</style>\n<table border=\"1\" class=\"dataframe\">\n  <thead>\n    <tr style=\"text-align: right;\">\n      <th></th>\n      <th>0</th>\n      <th>1</th>\n      <th>2</th>\n      <th>3</th>\n      <th>4</th>\n      <th>5</th>\n      <th>6</th>\n      <th>7</th>\n      <th>8</th>\n      <th>9</th>\n      <th>...</th>\n      <th>14</th>\n      <th>15</th>\n      <th>16</th>\n      <th>17</th>\n      <th>18</th>\n      <th>19</th>\n      <th>Sum (indexes)</th>\n      <th>Avg (indexes)</th>\n      <th>time between index (s)</th>\n      <th>Avg time (ms)</th>\n    </tr>\n  </thead>\n  <tbody>\n    <tr>\n      <th>LSLData_s5_1</th>\n      <td>1</td>\n      <td>-13</td>\n      <td>-13.0</td>\n      <td>-12</td>\n      <td>-25</td>\n      <td>-4</td>\n      <td>-4.0</td>\n      <td>-11</td>\n      <td>-12.0</td>\n      <td>-12</td>\n      <td>...</td>\n      <td>-17</td>\n      <td>-33.0</td>\n      <td>NaN</td>\n      <td>NaN</td>\n      <td>NaN</td>\n      <td>NaN</td>\n      <td>-197.0</td>\n      <td>-12.312</td>\n      <td>0.004</td>\n      <td>-49.24571</td>\n    </tr>\n    <tr>\n      <th>LSLData_s5_10</th>\n      <td>-11</td>\n      <td>-9</td>\n      <td>-5.0</td>\n      <td>-4</td>\n      <td>-7</td>\n      <td>-2</td>\n      <td>-12.0</td>\n      <td>13</td>\n      <td>-2.0</td>\n      <td>-19</td>\n      <td>...</td>\n      <td>-1</td>\n      <td>-6.0</td>\n      <td>NaN</td>\n      <td>NaN</td>\n      <td>NaN</td>\n      <td>NaN</td>\n      <td>-164.0</td>\n      <td>-10.250</td>\n      <td>0.004</td>\n      <td>-40.99813</td>\n    </tr>\n    <tr>\n      <th>LSLData_s5_12</th>\n      <td>-16</td>\n      <td>13</td>\n      <td>-7.0</td>\n      <td>-21</td>\n      <td>-15</td>\n      <td>-21</td>\n      <td>-7.0</td>\n      <td>-13</td>\n      <td>-19.0</td>\n      <td>-22</td>\n      <td>...</td>\n      <td>-26</td>\n      <td>-40.0</td>\n      <td>NaN</td>\n      <td>NaN</td>\n      <td>NaN</td>\n      <td>NaN</td>\n      <td>NaN</td>\n      <td>NaN</td>\n      <td>0.004</td>\n      <td>NaN</td>\n    </tr>\n    <tr>\n      <th>LSLData_s5_13</th>\n      <td>0</td>\n      <td>-18</td>\n      <td>NaN</td>\n      <td>-13</td>\n      <td>25</td>\n      <td>-26</td>\n      <td>-5.0</td>\n      <td>-4</td>\n      <td>-7.0</td>\n      <td>-12</td>\n      <td>...</td>\n      <td>-10</td>\n      <td>NaN</td>\n      <td>NaN</td>\n      <td>NaN</td>\n      <td>NaN</td>\n      <td>NaN</td>\n      <td>NaN</td>\n      <td>NaN</td>\n      <td>0.004</td>\n      <td>NaN</td>\n    </tr>\n    <tr>\n      <th>LSLData_s5_15</th>\n      <td>-16</td>\n      <td>-4</td>\n      <td>-5.0</td>\n      <td>-62</td>\n      <td>39</td>\n      <td>3</td>\n      <td>20.0</td>\n      <td>-3</td>\n      <td>NaN</td>\n      <td>-18</td>\n      <td>...</td>\n      <td>-43</td>\n      <td>31.0</td>\n      <td>-19.0</td>\n      <td>-2.0</td>\n      <td>NaN</td>\n      <td>NaN</td>\n      <td>NaN</td>\n      <td>123.833</td>\n      <td>0.004</td>\n      <td>NaN</td>\n    </tr>\n    <tr>\n      <th>LSLData_s5_2</th>\n      <td>-16</td>\n      <td>-27</td>\n      <td>-29.0</td>\n      <td>-60</td>\n      <td>-9</td>\n      <td>22</td>\n      <td>20.0</td>\n      <td>-78</td>\n      <td>-14.0</td>\n      <td>-20</td>\n      <td>...</td>\n      <td>-4</td>\n      <td>NaN</td>\n      <td>NaN</td>\n      <td>NaN</td>\n      <td>NaN</td>\n      <td>NaN</td>\n      <td>NaN</td>\n      <td>-20.200</td>\n      <td>0.004</td>\n      <td>-80.79377</td>\n    </tr>\n    <tr>\n      <th>LSLData_s5_3</th>\n      <td>-12</td>\n      <td>-17</td>\n      <td>-8.0</td>\n      <td>-37</td>\n      <td>-34</td>\n      <td>-9</td>\n      <td>1.0</td>\n      <td>-10</td>\n      <td>-3.0</td>\n      <td>-40</td>\n      <td>...</td>\n      <td>2</td>\n      <td>-6.0</td>\n      <td>NaN</td>\n      <td>NaN</td>\n      <td>NaN</td>\n      <td>NaN</td>\n      <td>NaN</td>\n      <td>190.625</td>\n      <td>0.004</td>\n      <td>NaN</td>\n    </tr>\n    <tr>\n      <th>LSLData_s5_4</th>\n      <td>-9</td>\n      <td>-5</td>\n      <td>-4.0</td>\n      <td>-4</td>\n      <td>24</td>\n      <td>-34</td>\n      <td>NaN</td>\n      <td>-3</td>\n      <td>NaN</td>\n      <td>-24</td>\n      <td>...</td>\n      <td>2</td>\n      <td>7.0</td>\n      <td>-26.0</td>\n      <td>-23.0</td>\n      <td>-25.0</td>\n      <td>34.0</td>\n      <td>NaN</td>\n      <td>NaN</td>\n      <td>0.004</td>\n      <td>NaN</td>\n    </tr>\n    <tr>\n      <th>LSLData_s5_6</th>\n      <td>13</td>\n      <td>-32</td>\n      <td>-40.0</td>\n      <td>39</td>\n      <td>-7</td>\n      <td>-10</td>\n      <td>39.0</td>\n      <td>38</td>\n      <td>-10.0</td>\n      <td>-8</td>\n      <td>...</td>\n      <td>-35</td>\n      <td>NaN</td>\n      <td>NaN</td>\n      <td>NaN</td>\n      <td>NaN</td>\n      <td>NaN</td>\n      <td>-40.0</td>\n      <td>-2.667</td>\n      <td>0.004</td>\n      <td>-10.66760</td>\n    </tr>\n    <tr>\n      <th>LSLData_s5_7</th>\n      <td>-7</td>\n      <td>-18</td>\n      <td>-7.0</td>\n      <td>16</td>\n      <td>40</td>\n      <td>22</td>\n      <td>9.0</td>\n      <td>5</td>\n      <td>-26.0</td>\n      <td>-6</td>\n      <td>...</td>\n      <td>-28</td>\n      <td>-6.0</td>\n      <td>NaN</td>\n      <td>NaN</td>\n      <td>NaN</td>\n      <td>NaN</td>\n      <td>-62.0</td>\n      <td>-3.875</td>\n      <td>0.004</td>\n      <td>-15.49954</td>\n    </tr>\n    <tr>\n      <th>LSLData_s5_8</th>\n      <td>-40</td>\n      <td>-12</td>\n      <td>-12.0</td>\n      <td>-17</td>\n      <td>-17</td>\n      <td>-7</td>\n      <td>-9.0</td>\n      <td>-10</td>\n      <td>11.0</td>\n      <td>10</td>\n      <td>...</td>\n      <td>-41</td>\n      <td>NaN</td>\n      <td>26.0</td>\n      <td>NaN</td>\n      <td>NaN</td>\n      <td>NaN</td>\n      <td>NaN</td>\n      <td>NaN</td>\n      <td>0.004</td>\n      <td>NaN</td>\n    </tr>\n    <tr>\n      <th>LSLData_s5_9</th>\n      <td>-11</td>\n      <td>-13</td>\n      <td>-17.0</td>\n      <td>-15</td>\n      <td>-6</td>\n      <td>-17</td>\n      <td>-3.0</td>\n      <td>-14</td>\n      <td>-35.0</td>\n      <td>-7</td>\n      <td>...</td>\n      <td>-15</td>\n      <td>-10.0</td>\n      <td>NaN</td>\n      <td>-18.0</td>\n      <td>NaN</td>\n      <td>NaN</td>\n      <td>NaN</td>\n      <td>NaN</td>\n      <td>0.004</td>\n      <td>NaN</td>\n    </tr>\n  </tbody>\n</table>\n<p>12 rows × 24 columns</p>\n</div>"
     },
     "metadata": {},
     "output_type": "display_data"
    }
   ],
   "source": [
    "path = (\"./data/subject5/\")\n",
    "paths = [name for name in os.listdir(path)]\n",
    "both = [name for name in paths]\n",
    "flip = False\n",
    "\n",
    "df_both = run_files(both,path=path, both=flip , plot=False)\n",
    "df_both = remove_outlier(df_both, value = 200)\n",
    "display(df_both)\n"
   ],
   "metadata": {
    "collapsed": false,
    "pycharm": {
     "name": "#%%\n"
    },
    "ExecuteTime": {
     "end_time": "2024-01-18T21:44:14.851025500Z",
     "start_time": "2024-01-18T21:44:14.267027Z"
    }
   }
  },
  {
   "cell_type": "markdown",
   "source": [],
   "metadata": {
    "collapsed": false
   }
  },
  {
   "cell_type": "code",
   "execution_count": 565,
   "outputs": [],
   "source": [
    "# Returns average offset in entire dataset\n",
    "def get_offset(df):\n",
    "    avg_offset = df['Avg time (ms)'].sum()/df.shape[0]\n",
    "    avg_offset_index = df['Avg (indexes)'].sum()/df.shape[0]\n",
    "    return avg_offset, avg_offset_index\n",
    "\n"
   ],
   "metadata": {
    "collapsed": false,
    "pycharm": {
     "name": "#%%\n"
    },
    "ExecuteTime": {
     "end_time": "2024-01-18T21:44:14.870026400Z",
     "start_time": "2024-01-18T21:44:14.851025500Z"
    }
   }
  },
  {
   "cell_type": "code",
   "execution_count": 565,
   "outputs": [],
   "source": [],
   "metadata": {
    "collapsed": false,
    "pycharm": {
     "name": "#%%\n"
    },
    "ExecuteTime": {
     "end_time": "2024-01-18T21:44:14.910025800Z",
     "start_time": "2024-01-18T21:44:14.866026300Z"
    }
   }
  },
  {
   "cell_type": "code",
   "execution_count": 566,
   "outputs": [
    {
     "name": "stdout",
     "output_type": "stream",
     "text": [
      "(Seconds, Number of indexes to shift) ---- Both\n",
      "(-16.433729166666666, 22.096166666666665)\n",
      "n blinks 199\n",
      "n blinks 33\n"
     ]
    },
    {
     "data": {
      "text/plain": "                  0     1   2    3     4     5     6     7     8     9  ...  \\\nLSLData_s5_1  -19.0   NaN NaN  NaN   NaN   NaN   NaN   NaN   NaN   NaN  ...   \nLSLData_s5_10   NaN   NaN NaN  NaN   NaN   NaN   NaN  -9.0   NaN   NaN  ...   \nLSLData_s5_12   NaN -10.0 NaN  NaN   NaN   NaN   NaN   NaN   NaN   NaN  ...   \nLSLData_s5_13   NaN   NaN NaN  NaN   3.0   NaN   NaN   NaN   NaN   NaN  ...   \nLSLData_s5_15   NaN   NaN NaN  NaN  20.0 -19.0  -1.0   NaN   NaN   NaN  ...   \nLSLData_s5_2    NaN   NaN NaN -1.0   NaN   NaN  -1.0   NaN   NaN   NaN  ...   \nLSLData_s5_3    NaN   NaN NaN  NaN   NaN   NaN   NaN   NaN   NaN   NaN  ...   \nLSLData_s5_4    NaN   NaN NaN  NaN   2.0   NaN   NaN   NaN   NaN   NaN  ...   \nLSLData_s5_6   -9.0   NaN NaN  NaN   NaN   NaN   NaN   NaN   NaN   NaN  ...   \nLSLData_s5_7    NaN   NaN NaN -5.0   NaN  -1.0 -14.0 -15.0   NaN   NaN  ...   \nLSLData_s5_8    NaN   NaN NaN  NaN   NaN   NaN   NaN   NaN -10.0 -10.0  ...   \nLSLData_s5_9    NaN   NaN NaN  NaN   NaN   NaN   NaN   NaN   NaN   NaN  ...   \n\n                 14    15   16  17  18    19  Sum (indexes)  Avg (indexes)  \\\nLSLData_s5_1    NaN   NaN  NaN NaN NaN   NaN          -19.0        -19.000   \nLSLData_s5_10 -19.0   NaN  NaN NaN NaN   NaN          -28.0        -14.000   \nLSLData_s5_12   NaN   NaN  NaN NaN NaN   NaN          -10.0        -10.000   \nLSLData_s5_13   NaN   NaN  NaN NaN NaN   NaN          -10.0         -5.000   \nLSLData_s5_15   NaN  12.0  NaN NaN NaN   NaN            5.0          0.833   \nLSLData_s5_2    NaN   NaN  NaN NaN NaN   NaN          -19.0         -6.333   \nLSLData_s5_3  -20.0   NaN  NaN NaN NaN   NaN          -59.0        -19.667   \nLSLData_s5_4  -19.0 -15.0  NaN NaN NaN  10.0          -22.0         -5.500   \nLSLData_s5_6    NaN   NaN  NaN NaN NaN   NaN          -45.0        -15.000   \nLSLData_s5_7    NaN   NaN  NaN NaN NaN   NaN          -35.0         -8.750   \nLSLData_s5_8    NaN   NaN -8.0 NaN NaN   NaN          -28.0         -9.333   \nLSLData_s5_9    NaN   NaN  NaN NaN NaN   NaN          -20.0        -20.000   \n\n               time between index (s)  Avg time (ms)  \nLSLData_s5_1                    0.004        -76.000  \nLSLData_s5_10                   0.004        -56.000  \nLSLData_s5_12                   0.004        -40.000  \nLSLData_s5_13                   0.004        -20.000  \nLSLData_s5_15                   0.004          3.332  \nLSLData_s5_2                    0.004        -25.332  \nLSLData_s5_3                    0.004        -78.668  \nLSLData_s5_4                    0.004        -22.000  \nLSLData_s5_6                    0.004        -60.000  \nLSLData_s5_7                    0.004        -35.000  \nLSLData_s5_8                    0.004        -37.332  \nLSLData_s5_9                    0.004        -80.000  \n\n[12 rows x 24 columns]",
      "text/html": "<div>\n<style scoped>\n    .dataframe tbody tr th:only-of-type {\n        vertical-align: middle;\n    }\n\n    .dataframe tbody tr th {\n        vertical-align: top;\n    }\n\n    .dataframe thead th {\n        text-align: right;\n    }\n</style>\n<table border=\"1\" class=\"dataframe\">\n  <thead>\n    <tr style=\"text-align: right;\">\n      <th></th>\n      <th>0</th>\n      <th>1</th>\n      <th>2</th>\n      <th>3</th>\n      <th>4</th>\n      <th>5</th>\n      <th>6</th>\n      <th>7</th>\n      <th>8</th>\n      <th>9</th>\n      <th>...</th>\n      <th>14</th>\n      <th>15</th>\n      <th>16</th>\n      <th>17</th>\n      <th>18</th>\n      <th>19</th>\n      <th>Sum (indexes)</th>\n      <th>Avg (indexes)</th>\n      <th>time between index (s)</th>\n      <th>Avg time (ms)</th>\n    </tr>\n  </thead>\n  <tbody>\n    <tr>\n      <th>LSLData_s5_1</th>\n      <td>-19.0</td>\n      <td>NaN</td>\n      <td>NaN</td>\n      <td>NaN</td>\n      <td>NaN</td>\n      <td>NaN</td>\n      <td>NaN</td>\n      <td>NaN</td>\n      <td>NaN</td>\n      <td>NaN</td>\n      <td>...</td>\n      <td>NaN</td>\n      <td>NaN</td>\n      <td>NaN</td>\n      <td>NaN</td>\n      <td>NaN</td>\n      <td>NaN</td>\n      <td>-19.0</td>\n      <td>-19.000</td>\n      <td>0.004</td>\n      <td>-76.000</td>\n    </tr>\n    <tr>\n      <th>LSLData_s5_10</th>\n      <td>NaN</td>\n      <td>NaN</td>\n      <td>NaN</td>\n      <td>NaN</td>\n      <td>NaN</td>\n      <td>NaN</td>\n      <td>NaN</td>\n      <td>-9.0</td>\n      <td>NaN</td>\n      <td>NaN</td>\n      <td>...</td>\n      <td>-19.0</td>\n      <td>NaN</td>\n      <td>NaN</td>\n      <td>NaN</td>\n      <td>NaN</td>\n      <td>NaN</td>\n      <td>-28.0</td>\n      <td>-14.000</td>\n      <td>0.004</td>\n      <td>-56.000</td>\n    </tr>\n    <tr>\n      <th>LSLData_s5_12</th>\n      <td>NaN</td>\n      <td>-10.0</td>\n      <td>NaN</td>\n      <td>NaN</td>\n      <td>NaN</td>\n      <td>NaN</td>\n      <td>NaN</td>\n      <td>NaN</td>\n      <td>NaN</td>\n      <td>NaN</td>\n      <td>...</td>\n      <td>NaN</td>\n      <td>NaN</td>\n      <td>NaN</td>\n      <td>NaN</td>\n      <td>NaN</td>\n      <td>NaN</td>\n      <td>-10.0</td>\n      <td>-10.000</td>\n      <td>0.004</td>\n      <td>-40.000</td>\n    </tr>\n    <tr>\n      <th>LSLData_s5_13</th>\n      <td>NaN</td>\n      <td>NaN</td>\n      <td>NaN</td>\n      <td>NaN</td>\n      <td>3.0</td>\n      <td>NaN</td>\n      <td>NaN</td>\n      <td>NaN</td>\n      <td>NaN</td>\n      <td>NaN</td>\n      <td>...</td>\n      <td>NaN</td>\n      <td>NaN</td>\n      <td>NaN</td>\n      <td>NaN</td>\n      <td>NaN</td>\n      <td>NaN</td>\n      <td>-10.0</td>\n      <td>-5.000</td>\n      <td>0.004</td>\n      <td>-20.000</td>\n    </tr>\n    <tr>\n      <th>LSLData_s5_15</th>\n      <td>NaN</td>\n      <td>NaN</td>\n      <td>NaN</td>\n      <td>NaN</td>\n      <td>20.0</td>\n      <td>-19.0</td>\n      <td>-1.0</td>\n      <td>NaN</td>\n      <td>NaN</td>\n      <td>NaN</td>\n      <td>...</td>\n      <td>NaN</td>\n      <td>12.0</td>\n      <td>NaN</td>\n      <td>NaN</td>\n      <td>NaN</td>\n      <td>NaN</td>\n      <td>5.0</td>\n      <td>0.833</td>\n      <td>0.004</td>\n      <td>3.332</td>\n    </tr>\n    <tr>\n      <th>LSLData_s5_2</th>\n      <td>NaN</td>\n      <td>NaN</td>\n      <td>NaN</td>\n      <td>-1.0</td>\n      <td>NaN</td>\n      <td>NaN</td>\n      <td>-1.0</td>\n      <td>NaN</td>\n      <td>NaN</td>\n      <td>NaN</td>\n      <td>...</td>\n      <td>NaN</td>\n      <td>NaN</td>\n      <td>NaN</td>\n      <td>NaN</td>\n      <td>NaN</td>\n      <td>NaN</td>\n      <td>-19.0</td>\n      <td>-6.333</td>\n      <td>0.004</td>\n      <td>-25.332</td>\n    </tr>\n    <tr>\n      <th>LSLData_s5_3</th>\n      <td>NaN</td>\n      <td>NaN</td>\n      <td>NaN</td>\n      <td>NaN</td>\n      <td>NaN</td>\n      <td>NaN</td>\n      <td>NaN</td>\n      <td>NaN</td>\n      <td>NaN</td>\n      <td>NaN</td>\n      <td>...</td>\n      <td>-20.0</td>\n      <td>NaN</td>\n      <td>NaN</td>\n      <td>NaN</td>\n      <td>NaN</td>\n      <td>NaN</td>\n      <td>-59.0</td>\n      <td>-19.667</td>\n      <td>0.004</td>\n      <td>-78.668</td>\n    </tr>\n    <tr>\n      <th>LSLData_s5_4</th>\n      <td>NaN</td>\n      <td>NaN</td>\n      <td>NaN</td>\n      <td>NaN</td>\n      <td>2.0</td>\n      <td>NaN</td>\n      <td>NaN</td>\n      <td>NaN</td>\n      <td>NaN</td>\n      <td>NaN</td>\n      <td>...</td>\n      <td>-19.0</td>\n      <td>-15.0</td>\n      <td>NaN</td>\n      <td>NaN</td>\n      <td>NaN</td>\n      <td>10.0</td>\n      <td>-22.0</td>\n      <td>-5.500</td>\n      <td>0.004</td>\n      <td>-22.000</td>\n    </tr>\n    <tr>\n      <th>LSLData_s5_6</th>\n      <td>-9.0</td>\n      <td>NaN</td>\n      <td>NaN</td>\n      <td>NaN</td>\n      <td>NaN</td>\n      <td>NaN</td>\n      <td>NaN</td>\n      <td>NaN</td>\n      <td>NaN</td>\n      <td>NaN</td>\n      <td>...</td>\n      <td>NaN</td>\n      <td>NaN</td>\n      <td>NaN</td>\n      <td>NaN</td>\n      <td>NaN</td>\n      <td>NaN</td>\n      <td>-45.0</td>\n      <td>-15.000</td>\n      <td>0.004</td>\n      <td>-60.000</td>\n    </tr>\n    <tr>\n      <th>LSLData_s5_7</th>\n      <td>NaN</td>\n      <td>NaN</td>\n      <td>NaN</td>\n      <td>-5.0</td>\n      <td>NaN</td>\n      <td>-1.0</td>\n      <td>-14.0</td>\n      <td>-15.0</td>\n      <td>NaN</td>\n      <td>NaN</td>\n      <td>...</td>\n      <td>NaN</td>\n      <td>NaN</td>\n      <td>NaN</td>\n      <td>NaN</td>\n      <td>NaN</td>\n      <td>NaN</td>\n      <td>-35.0</td>\n      <td>-8.750</td>\n      <td>0.004</td>\n      <td>-35.000</td>\n    </tr>\n    <tr>\n      <th>LSLData_s5_8</th>\n      <td>NaN</td>\n      <td>NaN</td>\n      <td>NaN</td>\n      <td>NaN</td>\n      <td>NaN</td>\n      <td>NaN</td>\n      <td>NaN</td>\n      <td>NaN</td>\n      <td>-10.0</td>\n      <td>-10.0</td>\n      <td>...</td>\n      <td>NaN</td>\n      <td>NaN</td>\n      <td>-8.0</td>\n      <td>NaN</td>\n      <td>NaN</td>\n      <td>NaN</td>\n      <td>-28.0</td>\n      <td>-9.333</td>\n      <td>0.004</td>\n      <td>-37.332</td>\n    </tr>\n    <tr>\n      <th>LSLData_s5_9</th>\n      <td>NaN</td>\n      <td>NaN</td>\n      <td>NaN</td>\n      <td>NaN</td>\n      <td>NaN</td>\n      <td>NaN</td>\n      <td>NaN</td>\n      <td>NaN</td>\n      <td>NaN</td>\n      <td>NaN</td>\n      <td>...</td>\n      <td>NaN</td>\n      <td>NaN</td>\n      <td>NaN</td>\n      <td>NaN</td>\n      <td>NaN</td>\n      <td>NaN</td>\n      <td>-20.0</td>\n      <td>-20.000</td>\n      <td>0.004</td>\n      <td>-80.000</td>\n    </tr>\n  </tbody>\n</table>\n<p>12 rows × 24 columns</p>\n</div>"
     },
     "metadata": {},
     "output_type": "display_data"
    },
    {
     "name": "stdout",
     "output_type": "stream",
     "text": [
      "(-43.916666666666664, -10.979166666666666)\n"
     ]
    }
   ],
   "source": [
    "print(\"(Seconds, Number of indexes to shift) ---- Both\")\n",
    "print(get_offset(df_both))\n",
    "\n",
    "# Run files again, but compensates the found offset\n",
    "old = get_offset(df_both)[1]\n",
    "df_both_shift = run_files(both,path = path, both=flip , plot=False, shift_init=round(get_offset(df_both)[1]))\n",
    "df_both_shift = remove_outlier(df_both_shift, value=20)\n",
    "df_both_shift = add_stats(df_both_shift, [[0.004]]*df_both_shift.shape[0])\n",
    "\n",
    "\n",
    "display(df_both_shift)\n",
    "\n",
    "print(get_offset(df_both_shift))\n"
   ],
   "metadata": {
    "collapsed": false,
    "pycharm": {
     "name": "#%%\n"
    },
    "ExecuteTime": {
     "end_time": "2024-01-18T21:44:15.437026200Z",
     "start_time": "2024-01-18T21:44:14.884026800Z"
    }
   }
  },
  {
   "cell_type": "code",
   "execution_count": 567,
   "outputs": [
    {
     "name": "stdout",
     "output_type": "stream",
     "text": [
      "Standard devation (ms) -----\n",
      "Both: nan\n",
      "-------- SE (ms) ----------\n",
      "Both: nan\n"
     ]
    }
   ],
   "source": [
    "import statistics\n",
    "from scipy.stats import sem\n",
    "# Finding STD, SE and Mean\n",
    "standard_de_both = statistics.stdev(df_both['Avg time (ms)'])\n",
    "se_both = sem(df_both['Avg time (ms)'])\n",
    "mean = statistics.mean(df_both['Avg time (ms)'])\n",
    "\n",
    "print(\"Standard devation (ms) -----\")\n",
    "print(\"Both: \" + str(standard_de_both))\n",
    "\n",
    "print(\"-------- SE (ms) ----------\")\n",
    "print(\"Both: \" + str(se_both))\n"
   ],
   "metadata": {
    "collapsed": false,
    "pycharm": {
     "name": "#%%\n"
    },
    "ExecuteTime": {
     "end_time": "2024-01-18T21:44:15.439026200Z",
     "start_time": "2024-01-18T21:44:15.424028Z"
    }
   }
  },
  {
   "cell_type": "code",
   "execution_count": 567,
   "outputs": [],
   "source": [],
   "metadata": {
    "collapsed": false,
    "pycharm": {
     "name": "#%%\n"
    },
    "ExecuteTime": {
     "end_time": "2024-01-18T21:44:15.498027200Z",
     "start_time": "2024-01-18T21:44:15.437026200Z"
    }
   }
  },
  {
   "cell_type": "code",
   "execution_count": 568,
   "outputs": [
    {
     "name": "stdout",
     "output_type": "stream",
     "text": [
      "Standard devation (ms) - After shift\n",
      "Both: 26.47822701196154\n",
      "-------- SE (ms) - After shift ----------\n",
      "Both: 7.6436057465100085\n"
     ]
    }
   ],
   "source": [
    "# Finding STD, SE and Mean\n",
    "\n",
    "standard_de_both_shift = statistics.stdev(df_both_shift['Avg time (ms)'])\n",
    "se_both_shift = sem(df_both_shift['Avg time (ms)'])\n",
    "mean = statistics.mean(df_both_shift['Avg time (ms)'])\n",
    "\n",
    "print(\"Standard devation (ms) - After shift\")\n",
    "print(\"Both: \" + str(standard_de_both_shift))\n",
    "\n",
    "\n",
    "print(\"-------- SE (ms) - After shift ----------\")\n",
    "print(\"Both: \" + str(se_both_shift))\n"
   ],
   "metadata": {
    "collapsed": false,
    "pycharm": {
     "name": "#%%\n"
    },
    "ExecuteTime": {
     "end_time": "2024-01-18T21:44:15.544026100Z",
     "start_time": "2024-01-18T21:44:15.454027Z"
    }
   }
  },
  {
   "cell_type": "code",
   "execution_count": 569,
   "outputs": [
    {
     "name": "stdout",
     "output_type": "stream",
     "text": [
      "[-0.8, -0.78668, -0.76, -0.6, -0.56, -0.4, -0.37332, -0.35, -0.25332, -0.22, -0.2, 0.033319999999999995]\n"
     ]
    },
    {
     "data": {
      "text/plain": "<Figure size 640x480 with 1 Axes>",
      "image/png": "[encoded data removed]"
     },
     "metadata": {},
     "output_type": "display_data"
    }
   ],
   "source": [
    "from scipy.stats import norm\n",
    "# Plot between -10 and 10 with .001 steps.\n",
    "x_axis = sorted((df_both_shift['Avg time (ms)']/100).tolist())\n",
    "print(x_axis)\n",
    "\n",
    "# Plots a histogram with normal distribution and red lines to mark the indexes, to present jitter data\n",
    "plt.hist(x_axis)\n",
    "for i in range(len(x_axis)):\n",
    "    plt.plot(x_axis[i],  norm.pdf(x_axis,np.mean(x_axis),np.std(x_axis))[i], marker=\"o\", markersize=6, markeredgecolor=\"red\", markerfacecolor=\"blue\")\n",
    "index_secs = 0.08\n",
    "plt.plot(x_axis, norm.pdf(x_axis,np.mean(x_axis),np.std(x_axis)))\n",
    "plt.axvline(x=0, ymax=6, ymin=0, color='r', linestyle='-')\n",
    "plt.axvline(x=-index_secs, ymax=6, ymin=0, color='r', linestyle='-')\n",
    "plt.axvline(x=-index_secs*2, ymax=6, ymin=0, color='r', linestyle='-')\n",
    "plt.axvline(x=index_secs, ymax=6, ymin=0, color='r', linestyle='-')\n",
    "plt.axvline(x=index_secs*2, ymax=6, ymin=0, color='r', linestyle='-')\n",
    "plt.title(\"Histogram with normal distribution of jitter/offset\")\n",
    "plt.xlabel(\"Jitter (s/100)\")\n",
    "plt.ylabel(\"Number of instances\")\n",
    "plt.show()"
   ],
   "metadata": {
    "collapsed": false,
    "pycharm": {
     "name": "#%%\n"
    },
    "ExecuteTime": {
     "end_time": "2024-01-18T21:44:15.646028Z",
     "start_time": "2024-01-18T21:44:15.472028600Z"
    }
   }
  },
  {
   "cell_type": "code",
   "execution_count": 570,
   "outputs": [
    {
     "data": {
      "text/plain": "<Figure size 1000x1000 with 1 Axes>",
      "image/png": "[encoded data removed]"
     },
     "metadata": {},
     "output_type": "display_data"
    }
   ],
   "source": [
    "\n",
    "boxplot = df_both.iloc[:, [0, 9]].T.boxplot(figsize=(10,10), rot=90)"
   ],
   "metadata": {
    "collapsed": false,
    "pycharm": {
     "name": "#%%\n"
    },
    "ExecuteTime": {
     "end_time": "2024-01-18T21:44:15.796027Z",
     "start_time": "2024-01-18T21:44:15.595026500Z"
    }
   }
  },
  {
   "cell_type": "code",
   "execution_count": 571,
   "outputs": [
    {
     "data": {
      "text/plain": "<Figure size 1000x1000 with 1 Axes>",
      "image/png": "[encoded data removed]"
     },
     "metadata": {},
     "output_type": "display_data"
    }
   ],
   "source": [
    "boxplot = df_both_shift.iloc[:, [0, 9]].T.boxplot(figsize=(10,10), rot=90)\n"
   ],
   "metadata": {
    "collapsed": false,
    "pycharm": {
     "name": "#%%\n"
    },
    "ExecuteTime": {
     "end_time": "2024-01-18T21:44:16.035027Z",
     "start_time": "2024-01-18T21:44:15.766026700Z"
    }
   }
  }
 ],
 "metadata": {
  "kernelspec": {
   "display_name": "Python 3",
   "language": "python",
   "name": "python3"
  },
  "language_info": {
   "codemirror_mode": {
    "name": "ipython",
    "version": 2
   },
   "file_extension": ".py",
   "mimetype": "text/x-python",
   "name": "python",
   "nbconvert_exporter": "python",
   "pygments_lexer": "ipython2",
   "version": "2.7.6"
  }
 },
 "nbformat": 4,
 "nbformat_minor": 0
}
