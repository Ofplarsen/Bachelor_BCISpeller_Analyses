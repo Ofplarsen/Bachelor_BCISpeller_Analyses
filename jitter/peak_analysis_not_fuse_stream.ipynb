{
 "cells": [
  {
   "cell_type": "code",
   "execution_count": 1,
   "metadata": {
    "collapsed": true
   },
   "outputs": [],
   "source": [
    "import pyxdf\n",
    "import pandas as pd\n",
    "import matplotlib.pyplot as plt\n",
    "import numpy as np\n",
    "from scipy import signal\n",
    "import os\n",
    "from sklearn.metrics import mean_squared_error"
   ]
  },
  {
   "cell_type": "code",
   "execution_count": 2,
   "outputs": [],
   "source": [
    "# EEG channels (AUX_1 == EMG)\n",
    "channels = ['Fp1', 'Fz', 'F3', 'F7', 'F9', 'FC5', 'FC1', 'C3', 'T7', 'CP5', 'CP1', 'Pz', 'P3', 'P7'\n",
    "            , 'P9', 'O1', 'Oz', 'O2', 'P10', 'P8', 'P4', 'CP2', 'CP6', 'T8', 'C4', 'Cz'\n",
    "            , 'FC2', 'FC6', 'F10', 'F8', 'F4', 'Fp2','AUX_1', 'ACC_X', 'ACC_Y', 'ACC_Z']\n",
    "\n",
    "# Electrodes removed from EEG\n",
    "removed_channels = ['Fp1', 'F8', 'F7', 'Fp2', 'F3', 'F4']\n",
    "# Eye Tracker channels\n",
    "eye_data_names = ['x', 'y', 'z', 'left_blink', 'right_blink', 'both_blink', 'left_openness', 'right_openness']\n",
    "\n",
    "# Add both channel names to colums for use in DataFrame later\n",
    "columns =  eye_data_names + channels\n"
   ],
   "metadata": {
    "collapsed": false,
    "pycharm": {
     "name": "#%%\n"
    }
   }
  },
  {
   "cell_type": "code",
   "execution_count": 3,
   "outputs": [],
   "source": [
    "def get_time_stamps(stamps: list):\n",
    "    start = []\n",
    "    end = []\n",
    "    more_than_one = False\n",
    "    # Loops list of timestamps, if there is a value for old value n, where the new value is n + 1, continue, if not, then\n",
    "    # The start of the list is the start of the blink, then the last value where n + 1 is valid, is the end of the blink\n",
    "    for i in range(len(stamps)):\n",
    "        if i == (len(stamps)-1):\n",
    "            if(stamps[i-1] == (stamps[i] - 1)):\n",
    "                end.append(stamps[i])\n",
    "            break\n",
    "\n",
    "        if(stamps[i] == (stamps[i+1] - 1)):\n",
    "            if not more_than_one:\n",
    "                start.append(stamps[i])\n",
    "            more_than_one = True\n",
    "            continue\n",
    "        else:\n",
    "            if more_than_one:\n",
    "                end.append(stamps[i])\n",
    "                more_than_one = False\n",
    "\n",
    "    return start, end"
   ],
   "metadata": {
    "collapsed": false,
    "pycharm": {
     "name": "#%%\n"
    }
   }
  },
  {
   "cell_type": "code",
   "execution_count": 4,
   "outputs": [],
   "source": [
    "\"\"\"\n",
    "Plots a single EEG channel and Eye Tracking data with normalisation for better plot view\n",
    "\"\"\"\n",
    "def plot_eeg_blink_single_norm(df,df_ts, start, end,column,rang = 50, scale=1, flip = False):\n",
    "    plt.figure(figsize=(10,6))\n",
    "    df = df[start - rang:end + rang]\n",
    "    df.columns = columns\n",
    "    axis = plt.subplot()\n",
    "    axis.axvline(df_ts['time'][start], color='green', label = \"Blink start - TobiiXR\")  # y = 0\n",
    "    axis.axvline(df_ts['time'][end], color='red', label = \"Blink End - TobiiXR\")\n",
    "    df_norm = (df[column].abs() / df[column].abs().max())\n",
    "    plus = -df_norm[start - rang]\n",
    "    y = ((df_norm + plus) *(-1 if flip else 1) *scale).tolist()\n",
    "    peaks, _ = signal.find_peaks(y)\n",
    "    peaks = [peak for peak in peaks]\n",
    "\n",
    "\n",
    "    axis.plot(df_ts['time'][start-rang:end+rang], y, label = \"EMG\")\n",
    "    axis.plot(df_ts['time'][start-rang:end+rang], (df['left_openness'] / df['left_openness'].abs().max())\n",
    "               *(-1)+ 1, color='orange', label = \"Eye openness - SRanipal\")\n",
    "    axis.plot(df_ts['time'][start-rang:end+rang], (df['right_openness'] / df['right_openness'].abs().max())\n",
    "               *(-1)+ 1, color='violet', label = \"Eye openness right - SRanipal\")\n",
    "    for i in peaks:\n",
    "        plt.plot(df_ts['time'][i+ start - rang], y[i], marker=\"o\", markersize=5, markeredgecolor=\"turquoise\", markerfacecolor=\"black\", label=\"Local maximum \" + str(round(y[i])) + \", \" + str(i+ start - rang))\n",
    "    axis.set_xlabel(\"Time normalized (seconds)\")\n",
    "    axis.set_ylabel(\"Amplitude \")\n",
    "    axis.set_title(column)\n",
    "    plt.legend()\n",
    "    plt.show()\n",
    "\"\"\"\n",
    "Plots a single EEG channel and Eye Tracking data\n",
    "\n",
    "\"\"\"\n",
    "def plot_eeg_blink_single(df,df_ts, start, end,column,rang = 50):\n",
    "    plt.figure(figsize=(10,6))\n",
    "    df = df[start - rang:end + rang]\n",
    "    df.columns = columns\n",
    "    axis = plt.subplot()\n",
    "    axis.axvline(df_ts['time'][start], color='green', label = \"Blink start - TobiiXR\")  # y = 0\n",
    "    axis.axvline(df_ts['time'][end], color='red', label = \"Blink End - TobiiXR\")\n",
    "\n",
    "    axis.plot(df_ts['time'][start-rang:end+rang], df[column], label = \"EMG\")\n",
    "    axis.plot(df_ts['time'][start-rang:end+rang], df['left_openness'], color='orange', label = \"Eye openness left - SRanipal\")\n",
    "    axis.plot(df_ts['time'][start-rang:end+rang], df['right_openness'], color='violet', label = \"Eye openness right - SRanipal\")\n",
    "    axis.set_title(column)\n",
    "    plt.legend()\n",
    "    plt.show()"
   ],
   "metadata": {
    "collapsed": false,
    "pycharm": {
     "name": "#%%\n"
    }
   }
  },
  {
   "cell_type": "code",
   "execution_count": 5,
   "outputs": [],
   "source": [
    "from scipy.signal import resample\n",
    "\n",
    "\"\"\"\n",
    "Inits the stream data. Used to get a dataframe with the eye tracking data, and the eeg data for easier data processing\n",
    "\"\"\"\n",
    "def init_data(data, shift = 0):\n",
    "    streams = []\n",
    "    for s in data:\n",
    "        for t in s:\n",
    "            streams.append(t)\n",
    "\n",
    "    #Resample\n",
    "    resample_ = True\n",
    "    signal_resampled = streams[1]['time_series']\n",
    "    df_stream = pd.concat([pd.DataFrame(streams[0]['time_series']), pd.DataFrame(signal_resampled)], axis=1)\n",
    "    df_stream_ts = pd.DataFrame(streams[0]['time_stamps'])\n",
    "    #df_stream_ts_eeg = pd.DataFrame(streams[1]['time_stamps'])\n",
    "    df_stream_ts.columns = ['time']\n",
    "    #df_stream_ts_eeg.columns = ['time_eeg']\n",
    "    df_stream.columns = columns\n",
    "    df_stream['AUX_1'] = df_stream['AUX_1']+ 1000000\n",
    "\n",
    "\n",
    "\n",
    "    # Check if NANs have any impact (if streams are unsynced because of different length, but it suggests that\n",
    "    # The streams end on different points, but start on same\n",
    "    num_rows_with_nan = df_stream.isna().any(axis=1).sum()\n",
    "    #print(num_rows_with_nan)\n",
    "\n",
    "    eye_stream = len(streams[0]['time_series'])\n",
    "    eeg_stream = len(streams[1]['time_series'])\n",
    "\n",
    "    if eye_stream > eeg_stream:\n",
    "        #print(df_stream)\n",
    "        df_stream[channels] = df_stream[channels].shift(round(num_rows_with_nan))\n",
    "        #df_stream_ts_eeg['time_eeg'] = df_stream_ts_eeg['time_eeg'].shift(num_rows_with_nan)\n",
    "        #print(df_stream)\n",
    "        pass\n",
    "    if eeg_stream > eye_stream:\n",
    "        #print(df_stream)\n",
    "        df_stream[eye_data_names] = df_stream[eye_data_names].shift(round(num_rows_with_nan))\n",
    "        #df_stream_ts_eye['time_eye'] = df_stream_ts_eye['time_eye'].shift(num_rows_with_nan)\n",
    "        #print(df_stream)\n",
    "        pass\n",
    "\n",
    "    if shift != 0:\n",
    "        df_stream['AUX_1'] = df_stream['AUX_1'].shift(shift)\n",
    "\n",
    "    df_stream.dropna(inplace=True)\n",
    "    df_stream = df_stream.reset_index()\n",
    "    #df_stream_ts = pd.concat([df_stream_ts_eye, df_stream_ts_eeg], axis=1)\n",
    "    #df_stream_ts['diff'] = df_stream_ts['time']-df_stream_ts['time_eeg']\n",
    "    df_stream_ts.dropna(inplace=True)\n",
    "    #print(df_stream_ts)\n",
    "    return streams, df_stream, df_stream_ts\n",
    "\n",
    "\"\"\"\n",
    "Returns a list of indexes where the user blinked with the left eye, right eye and both eyes\n",
    "\"\"\"\n",
    "def get_blinks_in_df(df):\n",
    "    left_blinks = df.index[(df['left_blink'] >= 1) & (df['right_blink'] != 1)].tolist()\n",
    "    right_blinks = df.index[(df['right_blink'] >= 1) & (df['left_blink'] != 1)].tolist()\n",
    "    both_blink = df.index[df['both_blink'] == 1].tolist()\n",
    "    #both_blink = df.index[(df['right_openness'] <= 0.1) & (df['left_openness'] <= 0.1)].tolist()\n",
    "    return left_blinks,right_blinks, both_blink\n"
   ],
   "metadata": {
    "collapsed": false,
    "pycharm": {
     "name": "#%%\n"
    }
   }
  },
  {
   "cell_type": "code",
   "execution_count": 5,
   "outputs": [],
   "source": [],
   "metadata": {
    "collapsed": false,
    "pycharm": {
     "name": "#%%\n"
    }
   }
  },
  {
   "cell_type": "code",
   "execution_count": 6,
   "outputs": [],
   "source": [
    "# Same as EMG channel\n",
    "chosen_channel = 'AUX_1'\n"
   ],
   "metadata": {
    "collapsed": false,
    "pycharm": {
     "name": "#%%\n"
    }
   }
  },
  {
   "cell_type": "code",
   "execution_count": 7,
   "outputs": [],
   "source": [
    "\"\"\"\n",
    "If there are multiple peaks in a curve, take the mean point to ensure best accuracy\n",
    "\"\"\"\n",
    "def find_close_values_mean(values,y, tolerance):\n",
    "    values.sort()\n",
    "    peak = values[np.argmax([y[i] for i in values])]\n",
    "    # Loop list and compare elements\n",
    "    for i in range(len(values) - 1):\n",
    "        if abs(values[i] - peak) <= tolerance and values[i] != peak:\n",
    "            # Return mean if two values are close\n",
    "            return (values[i] + values[i + 1]) / 2\n",
    "\n",
    "    return peak\n",
    "\"\"\"\n",
    "Return peaks in signal in specified range and normalizes data before finding peak\n",
    "\"\"\"\n",
    "def get_peaks(df, start, end, column, rang=50, scale=1, flip=False):\n",
    "    df = df[start - rang:end + rang]\n",
    "    df_norm = (df[column].abs() / df[column].abs().max())\n",
    "    plus = -df_norm[start - rang]\n",
    "    y = ((df_norm + plus) *(-1 if flip else 1) *scale).tolist()\n",
    "    peaks, _ = signal.find_peaks(y)\n",
    "    peaks = [peak for peak in peaks]\n",
    "    if len(peaks) == 0:\n",
    "        #print(df)\n",
    "        return 0\n",
    "\n",
    "    peak = find_close_values_mean(peaks, y, 20)+ start - rang\n",
    "    return  peak\n",
    "\n"
   ],
   "metadata": {
    "collapsed": false,
    "pycharm": {
     "name": "#%%\n"
    }
   }
  },
  {
   "cell_type": "code",
   "execution_count": 8,
   "outputs": [],
   "source": [
    "\"\"\"\n",
    "Find the mean shift in the data for best synchronization between EEG and EYE Tracker\n",
    "\"\"\"\n",
    "def find_shift(start, peaks):\n",
    "    differences_start = []\n",
    "    for i in range(len(peaks)):\n",
    "        differences_start.append(start[i]-peaks[i])\n",
    "    return differences_start\n"
   ],
   "metadata": {
    "collapsed": false,
    "pycharm": {
     "name": "#%%\n"
    }
   }
  },
  {
   "cell_type": "code",
   "execution_count": 9,
   "outputs": [],
   "source": [
    "\n",
    "\"\"\"\n",
    "Method to apply a zero-phase Butterworth filter to the data\n",
    "Uses bandpass [0.75-5], and order 4\n",
    "\"\"\"\n",
    "def zero_phase_butter(data):\n",
    "    # Butterworth filter parameters\n",
    "    fs = 250\n",
    "    lowcut =0.75\n",
    "    highcut = 5.0\n",
    "    order = 4\n",
    "\n",
    "    # Design Butterworth bandpass filter\n",
    "    nyquist = 0.5 * fs\n",
    "    low = lowcut / nyquist\n",
    "    high = highcut / nyquist\n",
    "    b_bandpass, a_bandpass = signal.butter(order, [low, high], btype=\"band\")\n",
    "\n",
    "    # Zero-phase filtering using filtfilt\n",
    "    return signal.filtfilt(b_bandpass, a_bandpass, data)\n",
    "\n",
    "\"\"\"\n",
    "Method to import files with EEG and Eye Tracker data, and make them into common DataFrame for easier analysis\n",
    "\"\"\"\n",
    "\n",
    "def run_files(paths, path='data/LSLGoodData/', both = True, plot = False, shift_init=0):\n",
    "    t = True\n",
    "    peak_info = []\n",
    "    avg_time = []\n",
    "    for (index,y) in enumerate(paths):\n",
    "        #data_eeg, header = pyxdf.load_xdf(path+str(y)+'/dejittered-filtered-eeg.xdf')\n",
    "        #data_eye, header = pyxdf.load_xdf(path+str(y)+'/dejittered-filtered-eye-tracking.xdf')\n",
    "\n",
    "        #data_eeg, header = pyxdf.load_xdf(path+str(y)+'/dejittered-iir-3order-0.75to5-eeg.xdf')\n",
    "        data_eeg, header = pyxdf.load_xdf(path+str(y)+'/decimated-dejittered-eeg.xdf')\n",
    "\n",
    "        data_eye, header = pyxdf.load_xdf(path+str(y)+'/dejittered-gaze-and-blinking.xdf')\n",
    "\n",
    "        stream, df_stream, df_stream_ts = init_data([data_eye, data_eeg],shift_init)\n",
    "\n",
    "        # Adding butterworth\n",
    "        df_stream['AUX_1'] = zero_phase_butter(df_stream['AUX_1'])\n",
    "\n",
    "        left_blinks, right_blinks, both_blink = get_blinks_in_df(df_stream)\n",
    "        start, end = get_time_stamps(both_blink)\n",
    "        avg_time.append(np.diff(df_stream_ts.to_numpy().flatten()).tolist())\n",
    "\n",
    "        peaks = []\n",
    "        # Finding the 10 blinks done in testing\n",
    "        for i in range(len(start)):\n",
    "            if i == 10:\n",
    "                break\n",
    "            peaks.append(get_peaks(df_stream, start[i], end[i], chosen_channel, rang=50, scale=100, flip=both))\n",
    "\n",
    "        # Finding the mean shift based on the ten blinks\n",
    "        shift = find_shift(start, peaks)\n",
    "        # Adding the shift to info for later use and comparison\n",
    "        peak_info.append(shift)\n",
    "\n",
    "\n",
    "    n = len(max(peak_info, key=len))\n",
    "    # Make empty list of peaks for later adding\n",
    "    t = [x + [None]*(n-len(x)) for x in peak_info]\n",
    "    # Make array with peak info\n",
    "    numpy_array_peak_info = np.array(t)\n",
    "    df_peak = pd.DataFrame(numpy_array_peak_info)\n",
    "    df_peak = df_peak.set_index([paths])\n",
    "    # Add time between index column in dataframe with average time between indexes\n",
    "    df_peak['time between index (s)'] = [i[0] for i in avg_time]\n",
    "    # Add sum of indexes column\n",
    "    df_peak['Sum (indexes)'] = df_peak.sum(axis=1)\n",
    "    # Add avg indexes column based on the average indexes to shift in rows\n",
    "    df_peak['Avg (indexes)'] = round(df_peak.loc[:, 0:9].mean(axis=1),3)\n",
    "    # Add average time shift, where time is multiplied with time between indexes\n",
    "    df_peak['Avg time (ms)'] = round(df_peak['Avg (indexes)']*df_peak['time between index (s)'],5)*1000\n",
    "    return df_peak\n",
    "\n"
   ],
   "metadata": {
    "collapsed": false,
    "pycharm": {
     "name": "#%%\n"
    }
   }
  },
  {
   "cell_type": "code",
   "execution_count": 10,
   "outputs": [
    {
     "ename": "FileNotFoundError",
     "evalue": "[WinError 3] The system cannot find the path specified: './data/LSLData--17-04_samlet_alle/'",
     "output_type": "error",
     "traceback": [
      "\u001B[1;31m---------------------------------------------------------------------------\u001B[0m",
      "\u001B[1;31mFileNotFoundError\u001B[0m                         Traceback (most recent call last)",
      "\u001B[1;32m~\\AppData\\Local\\Temp\\ipykernel_24428\\2726240529.py\u001B[0m in \u001B[0;36m<cell line: 2>\u001B[1;34m()\u001B[0m\n\u001B[0;32m      1\u001B[0m \u001B[0mpath\u001B[0m \u001B[1;33m=\u001B[0m \u001B[1;34m\"./data/LSLData--17-04_samlet_alle/\"\u001B[0m\u001B[1;33m\u001B[0m\u001B[1;33m\u001B[0m\u001B[0m\n\u001B[1;32m----> 2\u001B[1;33m \u001B[0mpaths\u001B[0m \u001B[1;33m=\u001B[0m \u001B[1;33m[\u001B[0m\u001B[0mname\u001B[0m \u001B[1;32mfor\u001B[0m \u001B[0mname\u001B[0m \u001B[1;32min\u001B[0m \u001B[0mos\u001B[0m\u001B[1;33m.\u001B[0m\u001B[0mlistdir\u001B[0m\u001B[1;33m(\u001B[0m\u001B[0mpath\u001B[0m\u001B[1;33m)\u001B[0m\u001B[1;33m]\u001B[0m\u001B[1;33m\u001B[0m\u001B[1;33m\u001B[0m\u001B[0m\n\u001B[0m\u001B[0;32m      3\u001B[0m \u001B[0mboth\u001B[0m \u001B[1;33m=\u001B[0m \u001B[1;33m[\u001B[0m\u001B[0mname\u001B[0m \u001B[1;32mfor\u001B[0m \u001B[0mname\u001B[0m \u001B[1;32min\u001B[0m \u001B[0mpaths\u001B[0m\u001B[1;33m]\u001B[0m\u001B[1;33m\u001B[0m\u001B[1;33m\u001B[0m\u001B[0m\n\u001B[0;32m      4\u001B[0m \u001B[0mflip\u001B[0m \u001B[1;33m=\u001B[0m \u001B[1;32mFalse\u001B[0m\u001B[1;33m\u001B[0m\u001B[1;33m\u001B[0m\u001B[0m\n\u001B[0;32m      5\u001B[0m \u001B[1;33m\u001B[0m\u001B[0m\n",
      "\u001B[1;31mFileNotFoundError\u001B[0m: [WinError 3] The system cannot find the path specified: './data/LSLData--17-04_samlet_alle/'"
     ]
    }
   ],
   "source": [
    "path = \"./data/LSLData--17-04_samlet_alle/\"\n",
    "paths = [name for name in os.listdir(path)]\n",
    "both = [name for name in paths]\n",
    "flip = False\n",
    "\n",
    "df_both = run_files(both,path=path, both=flip , plot=False)\n",
    "display(df_both)\n"
   ],
   "metadata": {
    "collapsed": false,
    "pycharm": {
     "name": "#%%\n"
    }
   }
  },
  {
   "cell_type": "markdown",
   "source": [],
   "metadata": {
    "collapsed": false
   }
  },
  {
   "cell_type": "code",
   "execution_count": null,
   "outputs": [],
   "source": [
    "# Returns average offset in entire dataset\n",
    "def get_offset(df):\n",
    "    avg_offset = df['Avg time (ms)'].sum()/df.shape[0]\n",
    "    avg_offset_index = df['Avg (indexes)'].sum()/df.shape[0]\n",
    "    return avg_offset, avg_offset_index\n",
    "\n"
   ],
   "metadata": {
    "collapsed": false,
    "pycharm": {
     "name": "#%%\n"
    }
   }
  },
  {
   "cell_type": "code",
   "execution_count": null,
   "outputs": [],
   "source": [],
   "metadata": {
    "collapsed": false,
    "pycharm": {
     "name": "#%%\n"
    }
   }
  },
  {
   "cell_type": "code",
   "execution_count": null,
   "outputs": [],
   "source": [
    "print(\"(Seconds, Number of indexes to shift) ---- Both\")\n",
    "print(get_offset(df_both))\n",
    "\n",
    "# Run files again, but compensates the found offset\n",
    "df_both_shift = run_files(both,path = path, both=flip , plot=False, shift_init=round(get_offset(df_both)[1]))\n",
    "display(df_both_shift)\n",
    "\n",
    "print(get_offset(df_both_shift))\n"
   ],
   "metadata": {
    "collapsed": false,
    "pycharm": {
     "name": "#%%\n"
    }
   }
  },
  {
   "cell_type": "code",
   "execution_count": null,
   "outputs": [],
   "source": [
    "import statistics\n",
    "from scipy.stats import sem\n",
    "# Finding STD, SE and Mean\n",
    "standard_de_both = statistics.stdev(df_both['Avg time (ms)'])\n",
    "se_both = sem(df_both['Avg time (ms)'])\n",
    "mean = statistics.mean(df_both['Avg time (ms)'])\n",
    "\n",
    "print(\"Standard devation (ms) -----\")\n",
    "print(\"Both: \" + str(standard_de_both))\n",
    "\n",
    "print(\"-------- SE (ms) ----------\")\n",
    "print(\"Both: \" + str(se_both))\n"
   ],
   "metadata": {
    "collapsed": false,
    "pycharm": {
     "name": "#%%\n"
    }
   }
  },
  {
   "cell_type": "code",
   "execution_count": null,
   "outputs": [],
   "source": [],
   "metadata": {
    "collapsed": false,
    "pycharm": {
     "name": "#%%\n"
    }
   }
  },
  {
   "cell_type": "code",
   "execution_count": null,
   "outputs": [],
   "source": [
    "# Finding STD, SE and Mean\n",
    "\n",
    "standard_de_both_shift = statistics.stdev(df_both_shift['Avg time (ms)'])\n",
    "se_both_shift = sem(df_both_shift['Avg time (ms)'])\n",
    "mean = statistics.mean(df_both_shift['Avg time (ms)'])\n",
    "\n",
    "print(\"Standard devation (ms) - After shift\")\n",
    "print(\"Both: \" + str(standard_de_both_shift))\n",
    "\n",
    "\n",
    "print(\"-------- SE (ms) - After shift ----------\")\n",
    "print(\"Both: \" + str(se_both_shift))\n"
   ],
   "metadata": {
    "collapsed": false,
    "pycharm": {
     "name": "#%%\n"
    }
   }
  },
  {
   "cell_type": "code",
   "execution_count": null,
   "outputs": [],
   "source": [
    "from scipy.stats import norm\n",
    "# Plot between -10 and 10 with .001 steps.\n",
    "x_axis = sorted((df_both_shift['Avg time (ms)']/100).tolist())\n",
    "print(x_axis)\n",
    "\n",
    "# Plots a histogram with normal distribution and red lines to mark the indexes, to present jitter data\n",
    "plt.hist(x_axis)\n",
    "for i in range(len(x_axis)):\n",
    "    plt.plot(x_axis[i],  norm.pdf(x_axis,np.mean(x_axis),np.std(x_axis))[i], marker=\"o\", markersize=6, markeredgecolor=\"red\", markerfacecolor=\"blue\")\n",
    "index_secs = 0.08\n",
    "plt.plot(x_axis, norm.pdf(x_axis,np.mean(x_axis),np.std(x_axis)))\n",
    "plt.axvline(x=0, ymax=6, ymin=0, color='r', linestyle='-')\n",
    "plt.axvline(x=-index_secs, ymax=6, ymin=0, color='r', linestyle='-')\n",
    "plt.axvline(x=-index_secs*2, ymax=6, ymin=0, color='r', linestyle='-')\n",
    "plt.axvline(x=index_secs, ymax=6, ymin=0, color='r', linestyle='-')\n",
    "plt.axvline(x=index_secs*2, ymax=6, ymin=0, color='r', linestyle='-')\n",
    "plt.title(\"Histogram with normal distribution of jitter/offset\")\n",
    "plt.xlabel(\"Jitter (s/100)\")\n",
    "plt.ylabel(\"Number of instances\")\n",
    "plt.show()"
   ],
   "metadata": {
    "collapsed": false,
    "pycharm": {
     "name": "#%%\n"
    }
   }
  },
  {
   "cell_type": "code",
   "execution_count": null,
   "outputs": [],
   "source": [
    "\n",
    "boxplot = df_both.iloc[:, [0, 9]].T.boxplot(figsize=(10,10), rot=90)"
   ],
   "metadata": {
    "collapsed": false,
    "pycharm": {
     "name": "#%%\n"
    }
   }
  },
  {
   "cell_type": "code",
   "execution_count": null,
   "outputs": [],
   "source": [
    "boxplot = df_both_shift.iloc[:, [0, 9]].T.boxplot(figsize=(10,10), rot=90)\n"
   ],
   "metadata": {
    "collapsed": false,
    "pycharm": {
     "name": "#%%\n"
    }
   }
  }
 ],
 "metadata": {
  "kernelspec": {
   "display_name": "Python 3",
   "language": "python",
   "name": "python3"
  },
  "language_info": {
   "codemirror_mode": {
    "name": "ipython",
    "version": 2
   },
   "file_extension": ".py",
   "mimetype": "text/x-python",
   "name": "python",
   "nbconvert_exporter": "python",
   "pygments_lexer": "ipython2",
   "version": "2.7.6"
  }
 },
 "nbformat": 4,
 "nbformat_minor": 0
}