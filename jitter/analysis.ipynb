{
 "cells": [
  {
   "cell_type": "code",
   "execution_count": 49,
   "metadata": {
    "collapsed": true
   },
   "outputs": [],
   "source": [
    "import pyxdf\n",
    "import pandas as pd\n",
    "import matplotlib.pyplot as plt\n",
    "import numpy as np"
   ]
  },
  {
   "cell_type": "code",
   "execution_count": 50,
   "outputs": [
    {
     "name": "stdout",
     "output_type": "stream",
     "text": [
      "{'info': defaultdict(<class 'list'>, {'version': ['1'], 'notes': [None]})}\n"
     ]
    }
   ],
   "source": [
    "channels = ['Fp1', 'Fz', 'F3', 'F7', 'F9', 'FC5', 'FC1', 'C3', 'T7', 'CP5', 'CP1', 'Pz', 'P3', 'P7'\n",
    "            , 'P9', 'O1', 'Oz', 'O2', 'P10', 'P8', 'P4', 'CP2', 'CP6', 'T8', 'C4', 'Cz'\n",
    "            , 'FC2', 'FC6', 'F10', 'F8', 'F4', 'Fp2', 'ACC_X', 'ACC_Y', 'ACC_Z']\n",
    "removed_channels = ['Fp1', 'F8', 'F7', 'Fp2', 'F3', 'F4']\n",
    "# TODO ADD AUX WHEN CONNECTED\n",
    "eye_data_names = ['x', 'y', 'z', 'left_blink', 'right_blink', 'both_blink']\n",
    "columns = channels + eye_data_names\n",
    "\n",
    "data, header = pyxdf.load_xdf('data/data18022023/eeg-and-eyetracking.xdf')\n",
    "print(header)"
   ],
   "metadata": {
    "collapsed": false,
    "pycharm": {
     "name": "#%%\n"
    }
   }
  },
  {
   "cell_type": "code",
   "execution_count": 51,
   "outputs": [],
   "source": [
    "def get_time_stamps(stamps: list):\n",
    "    start = []\n",
    "    end = []\n",
    "    more_than_one = False\n",
    "\n",
    "    for i in range(len(stamps)):\n",
    "        if i == (len(stamps)-1):\n",
    "            if(stamps[i-1] == (stamps[i] - 1)):\n",
    "                end.append(stamps[i])\n",
    "            break\n",
    "\n",
    "        if(stamps[i] == (stamps[i+1] - 1)):\n",
    "            if not more_than_one:\n",
    "                start.append(stamps[i])\n",
    "            more_than_one = True\n",
    "            continue\n",
    "        else:\n",
    "            if more_than_one:\n",
    "                end.append(stamps[i])\n",
    "                more_than_one = False\n",
    "\n",
    "    return start, end\n",
    "\n",
    "def plot_eeg_blink_single(stream, start, end,column,rang = 50):\n",
    "    y = stream['time_series']\n",
    "    df = pd.DataFrame(y)\n",
    "    df = df[start - rang:end + rang]\n",
    "    df.columns = columns\n",
    "    axis = plt.subplot()\n",
    "    axis.axvline(stream['time_stamps'][start], color='red')  # y = 0\n",
    "    axis.axvline(stream['time_stamps'][end], color='red')\n",
    "    axis.plot(stream['time_stamps'][start-rang:end+rang], df[column])\n",
    "    axis.set_title(column)\n",
    "    plt.show()\n",
    "\n",
    "def plot_eeg_blink_all():\n",
    "    pass"
   ],
   "metadata": {
    "collapsed": false,
    "pycharm": {
     "name": "#%%\n"
    }
   }
  },
  {
   "cell_type": "code",
   "execution_count": 51,
   "outputs": [],
   "source": [],
   "metadata": {
    "collapsed": false,
    "pycharm": {
     "name": "#%%\n"
    }
   }
  },
  {
   "cell_type": "code",
   "execution_count": 56,
   "outputs": [],
   "source": [
    "left_blinks = None\n",
    "right_blinks = None\n",
    "both_blink = None\n",
    "stream = None\n",
    "df_stream = None\n",
    "df_stream_ts = None\n",
    "for s in data:\n",
    "    stream = s\n",
    "    y = stream['time_series']\n",
    "    df_stream = pd.DataFrame(y)\n",
    "    df_stream_ts = pd.DataFrame(stream['time_stamps'])\n",
    "    df_stream.columns = columns\n",
    "    eye_data_names = ['x', 'y', 'z', 'left_blink', 'right_blink', 'both_blink']\n",
    "\n",
    "    left_blinks = df_stream.index[(df_stream['left_blink'] >= 1) & (df_stream['right_blink'] != 1)].tolist()\n",
    "    right_blinks = df_stream.index[(df_stream['right_blink'] >= 1) & (df_stream['left_blink'] != 1)].tolist()\n",
    "    both_blink = df_stream.index[df_stream['both_blink'] == 1].tolist()\n",
    "\n"
   ],
   "metadata": {
    "collapsed": false,
    "pycharm": {
     "name": "#%%\n"
    }
   }
  },
  {
   "cell_type": "code",
   "execution_count": 53,
   "outputs": [
    {
     "name": "stdout",
     "output_type": "stream",
     "text": [
      "[139, 233, 352, 1893]\n",
      "[160, 254, 368, 1894]\n"
     ]
    },
    {
     "data": {
      "text/plain": "<Figure size 640x480 with 1 Axes>",
      "image/png": "[encoded data removed]"
     },
     "metadata": {},
     "output_type": "display_data"
    }
   ],
   "source": [
    "start, end = get_time_stamps(right_blinks)\n",
    "print(start)\n",
    "print(end)\n",
    "plot_eeg_blink_single(stream, start[0], end[0], 'O1')"
   ],
   "metadata": {
    "collapsed": false,
    "pycharm": {
     "name": "#%%\n"
    }
   }
  }
 ],
 "metadata": {
  "kernelspec": {
   "display_name": "Python 3",
   "language": "python",
   "name": "python3"
  },
  "language_info": {
   "codemirror_mode": {
    "name": "ipython",
    "version": 2
   },
   "file_extension": ".py",
   "mimetype": "text/x-python",
   "name": "python",
   "nbconvert_exporter": "python",
   "pygments_lexer": "ipython2",
   "version": "2.7.6"
  }
 },
 "nbformat": 4,
 "nbformat_minor": 0
}