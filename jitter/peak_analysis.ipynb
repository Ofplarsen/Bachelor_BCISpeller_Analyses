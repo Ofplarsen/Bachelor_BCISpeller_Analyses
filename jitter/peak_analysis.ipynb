{
 "cells": [
  {
   "cell_type": "code",
   "execution_count": 308,
   "metadata": {
    "collapsed": true
   },
   "outputs": [],
   "source": [
    "import pyxdf\n",
    "import pandas as pd\n",
    "import matplotlib.pyplot as plt\n",
    "import numpy as np\n",
    "from scipy import signal\n",
    "import os\n",
    "from sklearn.metrics import mean_squared_error"
   ]
  },
  {
   "cell_type": "code",
   "execution_count": 309,
   "outputs": [],
   "source": [
    "channels = ['Fp1', 'Fz', 'F3', 'F7', 'F9', 'FC5', 'FC1', 'C3', 'T7', 'CP5', 'CP1', 'Pz', 'P3', 'P7'\n",
    "            , 'P9', 'O1', 'Oz', 'O2', 'P10', 'P8', 'P4', 'CP2', 'CP6', 'T8', 'C4', 'Cz'\n",
    "            , 'FC2', 'FC6', 'F10', 'F8', 'F4', 'Fp2','AUX_1', 'ACC_X', 'ACC_Y', 'ACC_Z']\n",
    "removed_channels = ['Fp1', 'F8', 'F7', 'Fp2', 'F3', 'F4']\n",
    "# TODO ADD AUX WHEN CONNECTED\n",
    "eye_data_names = ['x', 'y', 'z', 'left_blink', 'right_blink', 'both_blink', 'left_openness', 'right_openness']\n",
    "\n",
    "columns =  eye_data_names + channels\n",
    "\n",
    "data, header = pyxdf.load_xdf('data/LSLDataV2/LSLDataLeftFourTimes2/eeg-and-eyetracking.xdf')\n"
   ],
   "metadata": {
    "collapsed": false,
    "pycharm": {
     "name": "#%%\n"
    }
   }
  },
  {
   "cell_type": "code",
   "execution_count": 310,
   "outputs": [],
   "source": [
    "def get_time_stamps(stamps: list):\n",
    "    start = []\n",
    "    end = []\n",
    "    more_than_one = False\n",
    "\n",
    "    for i in range(len(stamps)):\n",
    "        if i == (len(stamps)-1):\n",
    "            if(stamps[i-1] == (stamps[i] - 1)):\n",
    "                end.append(stamps[i])\n",
    "            break\n",
    "\n",
    "        if(stamps[i] == (stamps[i+1] - 1)):\n",
    "            if not more_than_one:\n",
    "                start.append(stamps[i])\n",
    "            more_than_one = True\n",
    "            continue\n",
    "        else:\n",
    "            if more_than_one:\n",
    "                end.append(stamps[i])\n",
    "                more_than_one = False\n",
    "\n",
    "    return start, end"
   ],
   "metadata": {
    "collapsed": false,
    "pycharm": {
     "name": "#%%\n"
    }
   }
  },
  {
   "cell_type": "code",
   "execution_count": 311,
   "outputs": [],
   "source": [
    "def plot_eeg_blink_single_norm(df,df_ts, start, end,column,rang = 50, scale=1, flip = False):\n",
    "    plt.figure(figsize=(10,6))\n",
    "    df = df[start - rang:end + rang]\n",
    "    df.columns = columns\n",
    "    axis = plt.subplot()\n",
    "    axis.axvline(df_ts['time'][start], color='green', label = \"Blink start - TobiiXR\")  # y = 0\n",
    "    axis.axvline(df_ts['time'][end], color='red', label = \"Blink End - TobiiXR\")\n",
    "    df_norm = (df[column].abs() / df[column].abs().max())\n",
    "    plus = -df_norm[start - rang]\n",
    "    axis.plot(df_ts['time'][start-rang:end+rang], (df_norm + plus) *(-1 if flip else 1) *scale, label = \"EMG\")\n",
    "    axis.plot(df_ts['time'][start-rang:end+rang], (df['left_openness'] / df['left_openness'].abs().max())\n",
    "               *(-1)+ 1, color='orange', label = \"Eye openness - SRanipal\")\n",
    "    axis.plot(df_ts['time'][start-rang:end+rang], (df['right_openness'] / df['right_openness'].abs().max())\n",
    "               *(-1)+ 1, color='violet', label = \"Eye openness right - SRanipal\")\n",
    "    axis.set_xlabel(\"Time normalized (seconds)\")\n",
    "    axis.set_ylabel(\"Amplitude \")\n",
    "    axis.set_title(column)\n",
    "    plt.legend()\n",
    "    plt.show()\n",
    "\n",
    "def plot_eeg_blink_single(df,df_ts, start, end,column,rang = 50):\n",
    "    plt.figure(figsize=(10,6))\n",
    "    df = df[start - rang:end + rang]\n",
    "    df.columns = columns\n",
    "    axis = plt.subplot()\n",
    "    axis.axvline(df_ts['time'][start], color='green', label = \"Blink start - TobiiXR\")  # y = 0\n",
    "    axis.axvline(df_ts['time'][end], color='red', label = \"Blink End - TobiiXR\")\n",
    "\n",
    "    axis.plot(df_ts['time'][start-rang:end+rang], df[column], label = \"EMG\")\n",
    "    axis.plot(df_ts['time'][start-rang:end+rang], df['left_openness'], color='orange', label = \"Eye openness left - SRanipal\")\n",
    "    axis.plot(df_ts['time'][start-rang:end+rang], df['right_openness'], color='violet', label = \"Eye openness right - SRanipal\")\n",
    "    axis.set_title(column)\n",
    "    plt.legend()\n",
    "    plt.show()"
   ],
   "metadata": {
    "collapsed": false,
    "pycharm": {
     "name": "#%%\n"
    }
   }
  },
  {
   "cell_type": "code",
   "execution_count": 312,
   "outputs": [],
   "source": [
    "\n",
    "def init_data(data, shift = 0):\n",
    "    for s in data:\n",
    "        stream = s\n",
    "        y = stream['time_series']\n",
    "        df_stream = pd.DataFrame(y)\n",
    "        df_stream_ts = pd.DataFrame(stream['time_stamps'])\n",
    "        df_stream_ts.columns = ['time']\n",
    "        df_stream.columns = columns\n",
    "        df_stream['AUX_1'] = df_stream['AUX_1']+ 1000000\n",
    "        if shift != 0:\n",
    "            df_stream['AUX_1'] = df_stream['AUX_1'].shift(shift)\n",
    "        return stream, df_stream, df_stream_ts\n",
    "\n",
    "stream, df_stream, df_stream_ts = init_data(data)\n",
    "def get_blinks_in_df(df):\n",
    "    left_blinks = df.index[(df['left_blink'] >= 1) & (df['right_blink'] != 1)].tolist()\n",
    "    right_blinks = df.index[(df['right_blink'] >= 1) & (df['left_blink'] != 1)].tolist()\n",
    "    both_blink = df.index[df['both_blink'] == 1].tolist()\n",
    "    return left_blinks,right_blinks, both_blink\n",
    "\n",
    "left_blinks, right_blinks, both_blink = get_blinks_in_df(df_stream)"
   ],
   "metadata": {
    "collapsed": false,
    "pycharm": {
     "name": "#%%\n"
    }
   }
  },
  {
   "cell_type": "code",
   "execution_count": 313,
   "outputs": [],
   "source": [
    "avg_time = np.diff(df_stream_ts.to_numpy().flatten()).tolist()"
   ],
   "metadata": {
    "collapsed": false,
    "pycharm": {
     "name": "#%%\n"
    }
   }
  },
  {
   "cell_type": "code",
   "execution_count": 314,
   "outputs": [
    {
     "name": "stdout",
     "output_type": "stream",
     "text": [
      "[1201, 1510, 1858]\n",
      "[1278, 1576, 1917]\n"
     ]
    }
   ],
   "source": [
    "start, end = get_time_stamps(left_blinks)\n",
    "flip = False\n",
    "chosen_channel = 'AUX_1'\n",
    "print(start)\n",
    "print(end)\n"
   ],
   "metadata": {
    "collapsed": false,
    "pycharm": {
     "name": "#%%\n"
    }
   }
  },
  {
   "cell_type": "code",
   "execution_count": 315,
   "outputs": [],
   "source": [
    "from scipy.signal import butter, lfilter\n",
    "# Sample rate and desired cutoff frequencies (in Hz).\n",
    "fs = 500\n",
    "lowcut = 1\n",
    "highcut = 28\n",
    "\n",
    "\n",
    "\n",
    "def butter_bandpass(lowcut, highcut, fs, order=4):\n",
    "    return butter(order, [lowcut, highcut], fs=fs, btype='band')\n",
    "\n",
    "def butter_bandpass_filter(data, lowcut, highcut, fs, order=4):\n",
    "    b, a = butter_bandpass(lowcut, highcut, fs, order=order)\n",
    "    y = lfilter(b, a, data)\n",
    "    return y\n",
    "\n",
    "def plot_eeg_blink_single_norm_butter(df,df_ts, start, end,column,rang = 50, scale=1, flip = False, order = 4):\n",
    "    plt.figure(figsize=(10,6))\n",
    "    df = df[start - rang:end + rang]\n",
    "    df.columns = columns\n",
    "    axis = plt.subplot()\n",
    "    axis.axvline(df_ts['time'][start], color='green', label = \"Blink start - TobiiXR\")  # y = 0\n",
    "    axis.axvline(df_ts['time'][end], color='red', label = \"Blink End - TobiiXR\")\n",
    "    df_norm = (df[column].abs() / df[column].abs().max())\n",
    "    plus = -df_norm[start - rang]\n",
    "\n",
    "    y = butter_bandpass_filter((df_norm + plus) *(-1 if flip else 1) *scale, lowcut, highcut, fs, order=order)\n",
    "    peaks, _ = signal.find_peaks(y[rang-7:rang+30])\n",
    "    peaks = [peak + rang-7 for peak in peaks]\n",
    "\n",
    "    axis.plot(df_ts['time'][start-rang:end+rang], y, label = \"EMG\")\n",
    "    axis.plot(df_ts['time'][start-rang:end+rang], (df['left_openness'] / df['left_openness'].abs().max())\n",
    "               *(-1)+ 1, color='orange', label = \"Eye openness - SRanipal\")\n",
    "    axis.plot(df_ts['time'][start-rang:end+rang], (df['right_openness'] / df['right_openness'].abs().max())\n",
    "               *(-1)+ 1, color='violet', label = \"Eye openness right - SRanipal\")\n",
    "    axis.set_xlabel(\"Time normalized (seconds)\")\n",
    "    axis.set_ylabel(\"Normalized Amplitude\")\n",
    "    for i in peaks:\n",
    "        plt.plot(df_ts['time'][i+ start - rang], y[i], marker=\"o\", markersize=5, markeredgecolor=\"turquoise\", markerfacecolor=\"black\", label=\"Local maximum \" + str(y[i].round(2)) + \", \" + str(i+ start - rang))\n",
    "    axis.set_title(column)\n",
    "    plt.legend()\n",
    "    plt.show()\n",
    "\n",
    "def get_peaks(df, start, end, column, rang=50, scale=1, order=4, flip=False):\n",
    "    df = df[start - rang:end + rang]\n",
    "    df_norm = (df[column].abs() / df[column].abs().max())\n",
    "    plus = -df_norm[start - rang]\n",
    "    y = butter_bandpass_filter((df_norm + plus) *(-1 if flip else 1) *scale, lowcut, highcut, fs, order=order)\n",
    "    peaks, _ = signal.find_peaks(y[rang-20:rang+30])\n",
    "    peaks = [peak + rang-20 for peak in peaks]\n",
    "    if len(peaks) == 0:\n",
    "        #print(df)\n",
    "        return 0\n",
    "    peak = peaks[np.argmax([y[i] for i in peaks])]+ start - rang\n",
    "    return  peak if end + rang > peak > start - rang else start\n",
    "\n"
   ],
   "metadata": {
    "collapsed": false,
    "pycharm": {
     "name": "#%%\n"
    }
   }
  },
  {
   "cell_type": "code",
   "execution_count": 316,
   "outputs": [],
   "source": [
    "\n",
    "\n",
    "def find_shift(start, peaks):\n",
    "    differences_start = []\n",
    "    differences_end = []\n",
    "    for i in range(len(peaks)):\n",
    "        differences_start.append(start[i]-peaks[i])\n",
    "    return differences_start\n",
    "\n",
    "def plot_table(df):\n",
    "    #make this example reproducible\n",
    "\n",
    "    #define figure and axes\n",
    "    fig, ax = plt.subplots()\n",
    "    #hide the axes\n",
    "    fig.patch.set_visible(False)\n",
    "    ax.axis('off')\n",
    "    ax.axis('tight')\n",
    "\n",
    "    #create data\n",
    "\n",
    "    #create table\n",
    "    table = ax.table(cellText=df.values, colLabels=df.columns, loc='center')\n",
    "    table.scale(2.5, 2.5)\n",
    "    table.set_fontsize(30)\n",
    "    plt.show()"
   ],
   "metadata": {
    "collapsed": false,
    "pycharm": {
     "name": "#%%\n"
    }
   }
  },
  {
   "cell_type": "code",
   "execution_count": 317,
   "outputs": [],
   "source": [
    "\n",
    "def run_files(paths, path='data/LSLDataV3/', both = True, plot = False, shift_init=0):\n",
    "    peak_info = []\n",
    "    avg_time = []\n",
    "    for (index,y) in enumerate(paths):\n",
    "        data, header = pyxdf.load_xdf(path+str(y)+'/dejittered-fir-eeg-and-dejittered-eyetracking.xdf')\n",
    "        stream, df_stream, df_stream_ts = init_data(data,shift_init)\n",
    "        left_blinks, right_blinks, both_blink = get_blinks_in_df(df_stream)\n",
    "        start, end = get_time_stamps(both_blink if both else left_blinks)\n",
    "        avg_time.append(np.diff(df_stream_ts.to_numpy().flatten()).tolist())\n",
    "        peaks = []\n",
    "        for i in range(len(start)):\n",
    "            if i == 9:\n",
    "                continue\n",
    "            if \"LeftTenTimes6\" in y or \"LeftTenTimes7\" in y:\n",
    "                peaks.append(get_peaks(df_stream, start[i], end[i], chosen_channel, rang=50, scale=5, flip=True, order=4))\n",
    "            else:\n",
    "                peaks.append(get_peaks(df_stream, start[i], end[i], chosen_channel, rang=50, scale=5, flip=both, order=4))\n",
    "\n",
    "        shift = find_shift(start, peaks)\n",
    "        peak_info.append(shift)\n",
    "\n",
    "    n = len(max(peak_info, key=len))\n",
    "    t = [x + [None]*(n-len(x)) for x in peak_info]\n",
    "    numpy_array_peak_info = np.array(t)\n",
    "    df_peak = pd.DataFrame(numpy_array_peak_info)\n",
    "    df_peak = df_peak.set_index([paths])\n",
    "    df_peak['time between index (s)'] = [i[0] for i in avg_time]\n",
    "    df_peak['Sum (indexes)'] = df_peak.sum(axis=1)\n",
    "    df_peak['Avg (indexes)'] = round(df_peak.loc[:, 0:8].mean(axis=1),3)\n",
    "    df_peak['Avg time (ms)'] = round(df_peak['Avg (indexes)']*df_peak['time between index (s)'],5)*1000\n",
    "    if plot:\n",
    "        plot_table(df_peak)\n",
    "    return df_peak\n",
    "\n"
   ],
   "metadata": {
    "collapsed": false,
    "pycharm": {
     "name": "#%%\n"
    }
   }
  },
  {
   "cell_type": "code",
   "execution_count": 318,
   "outputs": [
    {
     "data": {
      "text/plain": "                       0   1   2   3   4   5   6   7   8  \\\nLSLDataBothTenTimes2 -13 -15 -14 -18 -13 -12 -11 -14 -10   \nLSLDataBothTenTimes5 -13 -13 -13 -15 -13 -14 -13 -13 -13   \nLSLDataBothTenTimes4 -12 -12 -14 -15 -12 -15 -15 -14 -15   \nLSLDataBothTenTimes1 -13 -12 -18 -15 -12 -14 -13 -11 -13   \nLSLDataBothTenTimes6 -11  -8 -11 -11 -13 -12 -11 -12 -13   \nLSLDataBothTenTimes7 -12 -11 -11 -11 -14 -11 -13 -12 -14   \n\n                      time between index (s)  Sum (indexes)  Avg (indexes)  \\\nLSLDataBothTenTimes2                   0.008       -119.992        -13.333   \nLSLDataBothTenTimes5                   0.008       -119.992        -13.333   \nLSLDataBothTenTimes4                   0.008       -123.992        -13.778   \nLSLDataBothTenTimes1                   0.008       -120.992        -13.444   \nLSLDataBothTenTimes6                   0.008       -101.992        -11.333   \nLSLDataBothTenTimes7                   0.008       -108.992        -12.111   \n\n                      Avg time (ms)  \nLSLDataBothTenTimes2        -106.66  \nLSLDataBothTenTimes5        -106.66  \nLSLDataBothTenTimes4        -110.22  \nLSLDataBothTenTimes1        -107.55  \nLSLDataBothTenTimes6         -90.66  \nLSLDataBothTenTimes7         -96.89  ",
      "text/html": "<div>\n<style scoped>\n    .dataframe tbody tr th:only-of-type {\n        vertical-align: middle;\n    }\n\n    .dataframe tbody tr th {\n        vertical-align: top;\n    }\n\n    .dataframe thead th {\n        text-align: right;\n    }\n</style>\n<table border=\"1\" class=\"dataframe\">\n  <thead>\n    <tr style=\"text-align: right;\">\n      <th></th>\n      <th>0</th>\n      <th>1</th>\n      <th>2</th>\n      <th>3</th>\n      <th>4</th>\n      <th>5</th>\n      <th>6</th>\n      <th>7</th>\n      <th>8</th>\n      <th>time between index (s)</th>\n      <th>Sum (indexes)</th>\n      <th>Avg (indexes)</th>\n      <th>Avg time (ms)</th>\n    </tr>\n  </thead>\n  <tbody>\n    <tr>\n      <th>LSLDataBothTenTimes2</th>\n      <td>-13</td>\n      <td>-15</td>\n      <td>-14</td>\n      <td>-18</td>\n      <td>-13</td>\n      <td>-12</td>\n      <td>-11</td>\n      <td>-14</td>\n      <td>-10</td>\n      <td>0.008</td>\n      <td>-119.992</td>\n      <td>-13.333</td>\n      <td>-106.66</td>\n    </tr>\n    <tr>\n      <th>LSLDataBothTenTimes5</th>\n      <td>-13</td>\n      <td>-13</td>\n      <td>-13</td>\n      <td>-15</td>\n      <td>-13</td>\n      <td>-14</td>\n      <td>-13</td>\n      <td>-13</td>\n      <td>-13</td>\n      <td>0.008</td>\n      <td>-119.992</td>\n      <td>-13.333</td>\n      <td>-106.66</td>\n    </tr>\n    <tr>\n      <th>LSLDataBothTenTimes4</th>\n      <td>-12</td>\n      <td>-12</td>\n      <td>-14</td>\n      <td>-15</td>\n      <td>-12</td>\n      <td>-15</td>\n      <td>-15</td>\n      <td>-14</td>\n      <td>-15</td>\n      <td>0.008</td>\n      <td>-123.992</td>\n      <td>-13.778</td>\n      <td>-110.22</td>\n    </tr>\n    <tr>\n      <th>LSLDataBothTenTimes1</th>\n      <td>-13</td>\n      <td>-12</td>\n      <td>-18</td>\n      <td>-15</td>\n      <td>-12</td>\n      <td>-14</td>\n      <td>-13</td>\n      <td>-11</td>\n      <td>-13</td>\n      <td>0.008</td>\n      <td>-120.992</td>\n      <td>-13.444</td>\n      <td>-107.55</td>\n    </tr>\n    <tr>\n      <th>LSLDataBothTenTimes6</th>\n      <td>-11</td>\n      <td>-8</td>\n      <td>-11</td>\n      <td>-11</td>\n      <td>-13</td>\n      <td>-12</td>\n      <td>-11</td>\n      <td>-12</td>\n      <td>-13</td>\n      <td>0.008</td>\n      <td>-101.992</td>\n      <td>-11.333</td>\n      <td>-90.66</td>\n    </tr>\n    <tr>\n      <th>LSLDataBothTenTimes7</th>\n      <td>-12</td>\n      <td>-11</td>\n      <td>-11</td>\n      <td>-11</td>\n      <td>-14</td>\n      <td>-11</td>\n      <td>-13</td>\n      <td>-12</td>\n      <td>-14</td>\n      <td>0.008</td>\n      <td>-108.992</td>\n      <td>-12.111</td>\n      <td>-96.89</td>\n    </tr>\n  </tbody>\n</table>\n</div>"
     },
     "metadata": {},
     "output_type": "display_data"
    },
    {
     "data": {
      "text/plain": "                       0   1   2   3   4   5   6   7   8  \\\nLSLDataLeftTenTimes1 -15 -14 -16 -14 -16 -14 -14 -10 -15   \nLSLDataLeftTenTimes7 -12 -11 -13 -12 -12  -8 -11  -5  -6   \nLSLDataLeftTenTimes3 -19 -18 -16 -17 -20 -16 -16 -17 -18   \nLSLDataLeftTenTimes4 -18 -20 -16 -17 -16 -22 -13 -21 -19   \nLSLDataLeftTenTimes6 -11  -8 -10  -9  -8 -11 -15  -7 -14   \nLSLDataLeftTenTimes2 -19 -17 -19 -19 -17 -15 -18 -16 -14   \n\n                      time between index (s)  Sum (indexes)  Avg (indexes)  \\\nLSLDataLeftTenTimes1                   0.008       -127.992        -14.222   \nLSLDataLeftTenTimes7                   0.008        -89.992        -10.000   \nLSLDataLeftTenTimes3                   0.008       -156.992        -17.444   \nLSLDataLeftTenTimes4                   0.008       -161.992        -18.000   \nLSLDataLeftTenTimes6                   0.008        -92.992        -10.333   \nLSLDataLeftTenTimes2                   0.008       -153.992        -17.111   \n\n                      Avg time (ms)  \nLSLDataLeftTenTimes1        -113.78  \nLSLDataLeftTenTimes7         -80.00  \nLSLDataLeftTenTimes3        -139.55  \nLSLDataLeftTenTimes4        -144.00  \nLSLDataLeftTenTimes6         -82.66  \nLSLDataLeftTenTimes2        -136.89  ",
      "text/html": "<div>\n<style scoped>\n    .dataframe tbody tr th:only-of-type {\n        vertical-align: middle;\n    }\n\n    .dataframe tbody tr th {\n        vertical-align: top;\n    }\n\n    .dataframe thead th {\n        text-align: right;\n    }\n</style>\n<table border=\"1\" class=\"dataframe\">\n  <thead>\n    <tr style=\"text-align: right;\">\n      <th></th>\n      <th>0</th>\n      <th>1</th>\n      <th>2</th>\n      <th>3</th>\n      <th>4</th>\n      <th>5</th>\n      <th>6</th>\n      <th>7</th>\n      <th>8</th>\n      <th>time between index (s)</th>\n      <th>Sum (indexes)</th>\n      <th>Avg (indexes)</th>\n      <th>Avg time (ms)</th>\n    </tr>\n  </thead>\n  <tbody>\n    <tr>\n      <th>LSLDataLeftTenTimes1</th>\n      <td>-15</td>\n      <td>-14</td>\n      <td>-16</td>\n      <td>-14</td>\n      <td>-16</td>\n      <td>-14</td>\n      <td>-14</td>\n      <td>-10</td>\n      <td>-15</td>\n      <td>0.008</td>\n      <td>-127.992</td>\n      <td>-14.222</td>\n      <td>-113.78</td>\n    </tr>\n    <tr>\n      <th>LSLDataLeftTenTimes7</th>\n      <td>-12</td>\n      <td>-11</td>\n      <td>-13</td>\n      <td>-12</td>\n      <td>-12</td>\n      <td>-8</td>\n      <td>-11</td>\n      <td>-5</td>\n      <td>-6</td>\n      <td>0.008</td>\n      <td>-89.992</td>\n      <td>-10.000</td>\n      <td>-80.00</td>\n    </tr>\n    <tr>\n      <th>LSLDataLeftTenTimes3</th>\n      <td>-19</td>\n      <td>-18</td>\n      <td>-16</td>\n      <td>-17</td>\n      <td>-20</td>\n      <td>-16</td>\n      <td>-16</td>\n      <td>-17</td>\n      <td>-18</td>\n      <td>0.008</td>\n      <td>-156.992</td>\n      <td>-17.444</td>\n      <td>-139.55</td>\n    </tr>\n    <tr>\n      <th>LSLDataLeftTenTimes4</th>\n      <td>-18</td>\n      <td>-20</td>\n      <td>-16</td>\n      <td>-17</td>\n      <td>-16</td>\n      <td>-22</td>\n      <td>-13</td>\n      <td>-21</td>\n      <td>-19</td>\n      <td>0.008</td>\n      <td>-161.992</td>\n      <td>-18.000</td>\n      <td>-144.00</td>\n    </tr>\n    <tr>\n      <th>LSLDataLeftTenTimes6</th>\n      <td>-11</td>\n      <td>-8</td>\n      <td>-10</td>\n      <td>-9</td>\n      <td>-8</td>\n      <td>-11</td>\n      <td>-15</td>\n      <td>-7</td>\n      <td>-14</td>\n      <td>0.008</td>\n      <td>-92.992</td>\n      <td>-10.333</td>\n      <td>-82.66</td>\n    </tr>\n    <tr>\n      <th>LSLDataLeftTenTimes2</th>\n      <td>-19</td>\n      <td>-17</td>\n      <td>-19</td>\n      <td>-19</td>\n      <td>-17</td>\n      <td>-15</td>\n      <td>-18</td>\n      <td>-16</td>\n      <td>-14</td>\n      <td>0.008</td>\n      <td>-153.992</td>\n      <td>-17.111</td>\n      <td>-136.89</td>\n    </tr>\n  </tbody>\n</table>\n</div>"
     },
     "metadata": {},
     "output_type": "display_data"
    }
   ],
   "source": [
    "from IPython.core.display_functions import display\n",
    "\n",
    "paths = [name for name in os.listdir(\"./data/LSLDataV3\")]\n",
    "both = [name for name in paths if \"Both\" in name]\n",
    "left = [name for name in paths if \"Left\" in name]\n",
    "\n",
    "\n",
    "df_both = run_files(both, both=True , plot=False)\n",
    "#df_both = df_both.drop(df_both.columns[[1]], inplace=True, axis=1)\n",
    "display(df_both)\n",
    "df_left = run_files(left, both=False , plot=False)\n",
    "#df_left = df_left.drop(df_left.columns[[1]], inplace=True, axis=1)\n",
    "display(df_left)\n"
   ],
   "metadata": {
    "collapsed": false,
    "pycharm": {
     "name": "#%%\n"
    }
   }
  },
  {
   "cell_type": "code",
   "execution_count": 319,
   "outputs": [],
   "source": [
    "def get_offset(df):\n",
    "    avg_offset = df['Avg time (ms)'].sum()/df.shape[0]\n",
    "    avg_offset_index = df['Avg (indexes)'].sum()/df.shape[0]\n",
    "    #print(avg_offset_index)\n",
    "    return avg_offset, avg_offset_index\n"
   ],
   "metadata": {
    "collapsed": false,
    "pycharm": {
     "name": "#%%\n"
    }
   }
  },
  {
   "cell_type": "code",
   "execution_count": 320,
   "outputs": [
    {
     "name": "stdout",
     "output_type": "stream",
     "text": [
      "(Seconds, Number of indexes to shift) ---- Both\n",
      "(-103.10666666666667, -12.888666666666667)\n",
      "(Seconds, Number of indexes to shift) ---- Left\n",
      "(-116.14666666666666, -14.518333333333333)\n"
     ]
    },
    {
     "data": {
      "text/plain": "                      0  1  2  3  4  5  6  7  8  time between index (s)  \\\nLSLDataBothTenTimes2  0 -2 -1 -5  0  1  2 -1  3                   0.008   \nLSLDataBothTenTimes5  0  0  0 -2  0 -1  0  0  0                   0.008   \nLSLDataBothTenTimes4  1  1 -1 -2  1 -2 -2 -1 -2                   0.008   \nLSLDataBothTenTimes1  0  1 -5 -2  1 -1  0  2  0                   0.008   \nLSLDataBothTenTimes6  2  5  2  2  0  1  2  1  0                   0.008   \nLSLDataBothTenTimes7  1  2  2  2 -1  2  0  1 -1                   0.008   \n\n                      Sum (indexes)  Avg (indexes)  Avg time (ms)  \nLSLDataBothTenTimes2         -2.992         -0.333          -2.66  \nLSLDataBothTenTimes5         -2.992         -0.333          -2.66  \nLSLDataBothTenTimes4         -6.992         -0.778          -6.22  \nLSLDataBothTenTimes1         -3.992         -0.444          -3.55  \nLSLDataBothTenTimes6         15.008          1.667          13.34  \nLSLDataBothTenTimes7          8.008          0.889           7.11  ",
      "text/html": "<div>\n<style scoped>\n    .dataframe tbody tr th:only-of-type {\n        vertical-align: middle;\n    }\n\n    .dataframe tbody tr th {\n        vertical-align: top;\n    }\n\n    .dataframe thead th {\n        text-align: right;\n    }\n</style>\n<table border=\"1\" class=\"dataframe\">\n  <thead>\n    <tr style=\"text-align: right;\">\n      <th></th>\n      <th>0</th>\n      <th>1</th>\n      <th>2</th>\n      <th>3</th>\n      <th>4</th>\n      <th>5</th>\n      <th>6</th>\n      <th>7</th>\n      <th>8</th>\n      <th>time between index (s)</th>\n      <th>Sum (indexes)</th>\n      <th>Avg (indexes)</th>\n      <th>Avg time (ms)</th>\n    </tr>\n  </thead>\n  <tbody>\n    <tr>\n      <th>LSLDataBothTenTimes2</th>\n      <td>0</td>\n      <td>-2</td>\n      <td>-1</td>\n      <td>-5</td>\n      <td>0</td>\n      <td>1</td>\n      <td>2</td>\n      <td>-1</td>\n      <td>3</td>\n      <td>0.008</td>\n      <td>-2.992</td>\n      <td>-0.333</td>\n      <td>-2.66</td>\n    </tr>\n    <tr>\n      <th>LSLDataBothTenTimes5</th>\n      <td>0</td>\n      <td>0</td>\n      <td>0</td>\n      <td>-2</td>\n      <td>0</td>\n      <td>-1</td>\n      <td>0</td>\n      <td>0</td>\n      <td>0</td>\n      <td>0.008</td>\n      <td>-2.992</td>\n      <td>-0.333</td>\n      <td>-2.66</td>\n    </tr>\n    <tr>\n      <th>LSLDataBothTenTimes4</th>\n      <td>1</td>\n      <td>1</td>\n      <td>-1</td>\n      <td>-2</td>\n      <td>1</td>\n      <td>-2</td>\n      <td>-2</td>\n      <td>-1</td>\n      <td>-2</td>\n      <td>0.008</td>\n      <td>-6.992</td>\n      <td>-0.778</td>\n      <td>-6.22</td>\n    </tr>\n    <tr>\n      <th>LSLDataBothTenTimes1</th>\n      <td>0</td>\n      <td>1</td>\n      <td>-5</td>\n      <td>-2</td>\n      <td>1</td>\n      <td>-1</td>\n      <td>0</td>\n      <td>2</td>\n      <td>0</td>\n      <td>0.008</td>\n      <td>-3.992</td>\n      <td>-0.444</td>\n      <td>-3.55</td>\n    </tr>\n    <tr>\n      <th>LSLDataBothTenTimes6</th>\n      <td>2</td>\n      <td>5</td>\n      <td>2</td>\n      <td>2</td>\n      <td>0</td>\n      <td>1</td>\n      <td>2</td>\n      <td>1</td>\n      <td>0</td>\n      <td>0.008</td>\n      <td>15.008</td>\n      <td>1.667</td>\n      <td>13.34</td>\n    </tr>\n    <tr>\n      <th>LSLDataBothTenTimes7</th>\n      <td>1</td>\n      <td>2</td>\n      <td>2</td>\n      <td>2</td>\n      <td>-1</td>\n      <td>2</td>\n      <td>0</td>\n      <td>1</td>\n      <td>-1</td>\n      <td>0.008</td>\n      <td>8.008</td>\n      <td>0.889</td>\n      <td>7.11</td>\n    </tr>\n  </tbody>\n</table>\n</div>"
     },
     "metadata": {},
     "output_type": "display_data"
    },
    {
     "data": {
      "text/plain": "                      0  1   2  3  4  5  6   7  8  time between index (s)  \\\nLSLDataLeftTenTimes1  0  1  -1  1 -1  1  2   5  0                   0.008   \nLSLDataLeftTenTimes7  3  4   2  3  3  7  4  10  9                   0.008   \nLSLDataLeftTenTimes3 -4 -3  -1 -2 -5  0 -1  -2 -3                   0.008   \nLSLDataLeftTenTimes4 -3 -5  -1 -2 -1 -6  2  -6 -4                   0.008   \nLSLDataLeftTenTimes6  4  7 -26  6  7  4  0   8  1                   0.008   \nLSLDataLeftTenTimes2 -4 -2  -4 -4 -2  0 -3  -1  1                   0.008   \n\n                      Sum (indexes)  Avg (indexes)  Avg time (ms)  \nLSLDataLeftTenTimes1          8.008          0.889           7.11  \nLSLDataLeftTenTimes7         45.008          5.000          40.00  \nLSLDataLeftTenTimes3        -20.992         -2.333         -18.66  \nLSLDataLeftTenTimes4        -25.992         -2.889         -23.11  \nLSLDataLeftTenTimes6         11.008          1.222           9.78  \nLSLDataLeftTenTimes2        -18.992         -2.111         -16.89  ",
      "text/html": "<div>\n<style scoped>\n    .dataframe tbody tr th:only-of-type {\n        vertical-align: middle;\n    }\n\n    .dataframe tbody tr th {\n        vertical-align: top;\n    }\n\n    .dataframe thead th {\n        text-align: right;\n    }\n</style>\n<table border=\"1\" class=\"dataframe\">\n  <thead>\n    <tr style=\"text-align: right;\">\n      <th></th>\n      <th>0</th>\n      <th>1</th>\n      <th>2</th>\n      <th>3</th>\n      <th>4</th>\n      <th>5</th>\n      <th>6</th>\n      <th>7</th>\n      <th>8</th>\n      <th>time between index (s)</th>\n      <th>Sum (indexes)</th>\n      <th>Avg (indexes)</th>\n      <th>Avg time (ms)</th>\n    </tr>\n  </thead>\n  <tbody>\n    <tr>\n      <th>LSLDataLeftTenTimes1</th>\n      <td>0</td>\n      <td>1</td>\n      <td>-1</td>\n      <td>1</td>\n      <td>-1</td>\n      <td>1</td>\n      <td>2</td>\n      <td>5</td>\n      <td>0</td>\n      <td>0.008</td>\n      <td>8.008</td>\n      <td>0.889</td>\n      <td>7.11</td>\n    </tr>\n    <tr>\n      <th>LSLDataLeftTenTimes7</th>\n      <td>3</td>\n      <td>4</td>\n      <td>2</td>\n      <td>3</td>\n      <td>3</td>\n      <td>7</td>\n      <td>4</td>\n      <td>10</td>\n      <td>9</td>\n      <td>0.008</td>\n      <td>45.008</td>\n      <td>5.000</td>\n      <td>40.00</td>\n    </tr>\n    <tr>\n      <th>LSLDataLeftTenTimes3</th>\n      <td>-4</td>\n      <td>-3</td>\n      <td>-1</td>\n      <td>-2</td>\n      <td>-5</td>\n      <td>0</td>\n      <td>-1</td>\n      <td>-2</td>\n      <td>-3</td>\n      <td>0.008</td>\n      <td>-20.992</td>\n      <td>-2.333</td>\n      <td>-18.66</td>\n    </tr>\n    <tr>\n      <th>LSLDataLeftTenTimes4</th>\n      <td>-3</td>\n      <td>-5</td>\n      <td>-1</td>\n      <td>-2</td>\n      <td>-1</td>\n      <td>-6</td>\n      <td>2</td>\n      <td>-6</td>\n      <td>-4</td>\n      <td>0.008</td>\n      <td>-25.992</td>\n      <td>-2.889</td>\n      <td>-23.11</td>\n    </tr>\n    <tr>\n      <th>LSLDataLeftTenTimes6</th>\n      <td>4</td>\n      <td>7</td>\n      <td>-26</td>\n      <td>6</td>\n      <td>7</td>\n      <td>4</td>\n      <td>0</td>\n      <td>8</td>\n      <td>1</td>\n      <td>0.008</td>\n      <td>11.008</td>\n      <td>1.222</td>\n      <td>9.78</td>\n    </tr>\n    <tr>\n      <th>LSLDataLeftTenTimes2</th>\n      <td>-4</td>\n      <td>-2</td>\n      <td>-4</td>\n      <td>-4</td>\n      <td>-2</td>\n      <td>0</td>\n      <td>-3</td>\n      <td>-1</td>\n      <td>1</td>\n      <td>0.008</td>\n      <td>-18.992</td>\n      <td>-2.111</td>\n      <td>-16.89</td>\n    </tr>\n  </tbody>\n</table>\n</div>"
     },
     "metadata": {},
     "output_type": "display_data"
    },
    {
     "name": "stdout",
     "output_type": "stream",
     "text": [
      "(0.8933333333333334, 0.11133333333333335)\n",
      "(-0.2949999999999993, -0.037)\n"
     ]
    }
   ],
   "source": [
    "print(\"(Seconds, Number of indexes to shift) ---- Both\")\n",
    "print(get_offset(df_both))\n",
    "print(\"(Seconds, Number of indexes to shift) ---- Left\")\n",
    "print(get_offset(df_left))\n",
    "\n",
    "df_both_shift = run_files(both, both=True , plot=False, shift_init=round(get_offset(df_both)[1]))\n",
    "#df_both_shift.loc['Average']= df_both_shift.sum(numeric_only=True, axis=0)/df_both_shift.shape[0]\n",
    "display(df_both_shift)\n",
    "df_left_shift = run_files(left, both=False , plot=False, shift_init=round(get_offset(df_left)[1]))\n",
    "#df_left_shift.loc['Average']= df_left_shift.sum(numeric_only=True, axis=0)/df_left_shift.shape[0]\n",
    "display(df_left_shift)\n",
    "\n",
    "print(get_offset(df_both_shift))\n",
    "print(get_offset(df_left_shift))"
   ],
   "metadata": {
    "collapsed": false,
    "pycharm": {
     "name": "#%%\n"
    }
   }
  },
  {
   "cell_type": "code",
   "execution_count": 321,
   "outputs": [
    {
     "name": "stdout",
     "output_type": "stream",
     "text": [
      "Standard devation (ms) -----\n",
      "Both: 7.604755529710778\n",
      "Left: 28.939072318695132\n",
      "-------- SE (ms) ----------\n",
      "Both: 3.1046284444000345\n",
      "Left: 11.814326801717389\n"
     ]
    }
   ],
   "source": [
    "import statistics\n",
    "from scipy.stats import sem\n",
    "\n",
    "standard_de_both = statistics.stdev(df_both['Avg time (ms)'])\n",
    "se_both = sem(df_both['Avg time (ms)'])\n",
    "standard_de_left = statistics.stdev(df_left['Avg time (ms)'])\n",
    "se_left = sem(df_left['Avg time (ms)'])\n",
    "\n",
    "print(\"Standard devation (ms) -----\")\n",
    "print(\"Both: \" + str(standard_de_both))\n",
    "print(\"Left: \" + str(standard_de_left))\n",
    "\n",
    "print(\"-------- SE (ms) ----------\")\n",
    "print(\"Both: \" + str(se_both))\n",
    "print(\"Left: \" + str(se_left))"
   ],
   "metadata": {
    "collapsed": false,
    "pycharm": {
     "name": "#%%\n"
    }
   }
  },
  {
   "cell_type": "code",
   "execution_count": 322,
   "outputs": [
    {
     "name": "stdout",
     "output_type": "stream",
     "text": [
      "Standard devation (ms) - After shift\n",
      "Both: 7.604755529710779\n",
      "Left: 24.138012138533696\n",
      "-------- SE (ms) - After shift ----------\n",
      "Both: 3.104628444400035\n",
      "Left: 9.854302190752357\n"
     ]
    }
   ],
   "source": [
    "standard_de_both_shift = statistics.stdev(df_both_shift['Avg time (ms)'])\n",
    "se_both_shift = sem(df_both_shift['Avg time (ms)'])\n",
    "standard_de_left_shift = statistics.stdev(df_left_shift['Avg time (ms)'])\n",
    "se_left_shift = sem(df_left_shift['Avg time (ms)'])\n",
    "\n",
    "print(\"Standard devation (ms) - After shift\")\n",
    "print(\"Both: \" + str(standard_de_both_shift))\n",
    "print(\"Left: \" + str(standard_de_left_shift))\n",
    "\n",
    "print(\"-------- SE (ms) - After shift ----------\")\n",
    "print(\"Both: \" + str(se_both_shift))\n",
    "print(\"Left: \" + str(se_left_shift))"
   ],
   "metadata": {
    "collapsed": false,
    "pycharm": {
     "name": "#%%\n"
    }
   }
  }
 ],
 "metadata": {
  "kernelspec": {
   "display_name": "Python 3",
   "language": "python",
   "name": "python3"
  },
  "language_info": {
   "codemirror_mode": {
    "name": "ipython",
    "version": 2
   },
   "file_extension": ".py",
   "mimetype": "text/x-python",
   "name": "python",
   "nbconvert_exporter": "python",
   "pygments_lexer": "ipython2",
   "version": "2.7.6"
  }
 },
 "nbformat": 4,
 "nbformat_minor": 0
}