{
 "cells": [
  {
   "cell_type": "code",
   "execution_count": 187,
   "metadata": {
    "collapsed": true
   },
   "outputs": [],
   "source": [
    "import pyxdf\n",
    "import pandas as pd\n",
    "import matplotlib.pyplot as plt\n",
    "import numpy as np\n",
    "from scipy import signal\n",
    "import os\n",
    "from sklearn.metrics import mean_squared_error"
   ]
  },
  {
   "cell_type": "code",
   "execution_count": 188,
   "outputs": [],
   "source": [
    "channels = ['Fp1', 'Fz', 'F3', 'F7', 'F9', 'FC5', 'FC1', 'C3', 'T7', 'CP5', 'CP1', 'Pz', 'P3', 'P7'\n",
    "            , 'P9', 'O1', 'Oz', 'O2', 'P10', 'P8', 'P4', 'CP2', 'CP6', 'T8', 'C4', 'Cz'\n",
    "            , 'FC2', 'FC6', 'F10', 'F8', 'F4', 'Fp2','AUX_1', 'ACC_X', 'ACC_Y', 'ACC_Z']\n",
    "removed_channels = ['Fp1', 'F8', 'F7', 'Fp2', 'F3', 'F4']\n",
    "# TODO ADD AUX WHEN CONNECTED\n",
    "eye_data_names = ['x', 'y', 'z', 'left_blink', 'right_blink', 'both_blink', 'left_openness', 'right_openness']\n",
    "\n",
    "columns =  eye_data_names + channels\n",
    "\n",
    "data, header = pyxdf.load_xdf('data/LSLDataV2/LSLDataLeftFourTimes2/eeg-and-eyetracking.xdf')\n"
   ],
   "metadata": {
    "collapsed": false,
    "pycharm": {
     "name": "#%%\n"
    }
   }
  },
  {
   "cell_type": "code",
   "execution_count": 189,
   "outputs": [],
   "source": [
    "def get_time_stamps(stamps: list):\n",
    "    start = []\n",
    "    end = []\n",
    "    more_than_one = False\n",
    "\n",
    "    for i in range(len(stamps)):\n",
    "        if i == (len(stamps)-1):\n",
    "            if(stamps[i-1] == (stamps[i] - 1)):\n",
    "                end.append(stamps[i])\n",
    "            break\n",
    "\n",
    "        if(stamps[i] == (stamps[i+1] - 1)):\n",
    "            if not more_than_one:\n",
    "                start.append(stamps[i])\n",
    "            more_than_one = True\n",
    "            continue\n",
    "        else:\n",
    "            if more_than_one:\n",
    "                end.append(stamps[i])\n",
    "                more_than_one = False\n",
    "\n",
    "    return start, end"
   ],
   "metadata": {
    "collapsed": false,
    "pycharm": {
     "name": "#%%\n"
    }
   }
  },
  {
   "cell_type": "code",
   "execution_count": 190,
   "outputs": [],
   "source": [
    "def plot_eeg_blink_single_norm(df,df_ts, start, end,column,rang = 50, scale=1, flip = False):\n",
    "    plt.figure(figsize=(10,6))\n",
    "    df = df[start - rang:end + rang]\n",
    "    df.columns = columns\n",
    "    axis = plt.subplot()\n",
    "    axis.axvline(df_ts['time'][start], color='green', label = \"Blink start - TobiiXR\")  # y = 0\n",
    "    axis.axvline(df_ts['time'][end], color='red', label = \"Blink End - TobiiXR\")\n",
    "    df_norm = (df[column].abs() / df[column].abs().max())\n",
    "    plus = -df_norm[start - rang]\n",
    "    axis.plot(df_ts['time'][start-rang:end+rang], (df_norm + plus) *(-1 if flip else 1) *scale, label = \"EMG\")\n",
    "    axis.plot(df_ts['time'][start-rang:end+rang], (df['left_openness'] / df['left_openness'].abs().max())\n",
    "               *(-1)+ 1, color='orange', label = \"Eye openness - SRanipal\")\n",
    "    axis.plot(df_ts['time'][start-rang:end+rang], (df['right_openness'] / df['right_openness'].abs().max())\n",
    "               *(-1)+ 1, color='violet', label = \"Eye openness right - SRanipal\")\n",
    "    axis.set_xlabel(\"Time normalized (seconds)\")\n",
    "    axis.set_ylabel(\"Amplitude \")\n",
    "    axis.set_title(column)\n",
    "    plt.legend()\n",
    "    plt.show()\n",
    "\n",
    "def plot_eeg_blink_single(df,df_ts, start, end,column,rang = 50):\n",
    "    plt.figure(figsize=(10,6))\n",
    "    df = df[start - rang:end + rang]\n",
    "    df.columns = columns\n",
    "    axis = plt.subplot()\n",
    "    axis.axvline(df_ts['time'][start], color='green', label = \"Blink start - TobiiXR\")  # y = 0\n",
    "    axis.axvline(df_ts['time'][end], color='red', label = \"Blink End - TobiiXR\")\n",
    "\n",
    "    axis.plot(df_ts['time'][start-rang:end+rang], df[column], label = \"EMG\")\n",
    "    axis.plot(df_ts['time'][start-rang:end+rang], df['left_openness'], color='orange', label = \"Eye openness left - SRanipal\")\n",
    "    axis.plot(df_ts['time'][start-rang:end+rang], df['right_openness'], color='violet', label = \"Eye openness right - SRanipal\")\n",
    "    axis.set_title(column)\n",
    "    plt.legend()\n",
    "    plt.show()"
   ],
   "metadata": {
    "collapsed": false,
    "pycharm": {
     "name": "#%%\n"
    }
   }
  },
  {
   "cell_type": "code",
   "execution_count": 191,
   "outputs": [],
   "source": [
    "\n",
    "def init_data(data, shift = 0):\n",
    "    for s in data:\n",
    "        stream = s\n",
    "        y = stream['time_series']\n",
    "        df_stream = pd.DataFrame(y)\n",
    "        df_stream_ts = pd.DataFrame(stream['time_stamps'])\n",
    "        df_stream_ts.columns = ['time']\n",
    "        df_stream.columns = columns\n",
    "        df_stream['AUX_1'] = df_stream['AUX_1']+ 1000000\n",
    "        if shift != 0:\n",
    "            df_stream['AUX_1'] = df_stream['AUX_1'].shift(shift)\n",
    "        return stream, df_stream, df_stream_ts\n",
    "\n",
    "stream, df_stream, df_stream_ts = init_data(data)\n",
    "def get_blinks_in_df(df):\n",
    "    left_blinks = df.index[(df['left_blink'] >= 1) & (df['right_blink'] != 1)].tolist()\n",
    "    right_blinks = df.index[(df['right_blink'] >= 1) & (df['left_blink'] != 1)].tolist()\n",
    "    both_blink = df.index[df['both_blink'] == 1].tolist()\n",
    "    return left_blinks,right_blinks, both_blink\n",
    "\n",
    "left_blinks, right_blinks, both_blink = get_blinks_in_df(df_stream)"
   ],
   "metadata": {
    "collapsed": false,
    "pycharm": {
     "name": "#%%\n"
    }
   }
  },
  {
   "cell_type": "code",
   "execution_count": 192,
   "outputs": [],
   "source": [
    "avg_time = np.diff(df_stream_ts.to_numpy().flatten()).tolist()"
   ],
   "metadata": {
    "collapsed": false,
    "pycharm": {
     "name": "#%%\n"
    }
   }
  },
  {
   "cell_type": "code",
   "execution_count": 193,
   "outputs": [
    {
     "name": "stdout",
     "output_type": "stream",
     "text": [
      "[1201, 1510, 1858]\n",
      "[1278, 1576, 1917]\n"
     ]
    }
   ],
   "source": [
    "start, end = get_time_stamps(left_blinks)\n",
    "flip = False\n",
    "chosen_channel = 'AUX_1'\n",
    "print(start)\n",
    "print(end)\n"
   ],
   "metadata": {
    "collapsed": false,
    "pycharm": {
     "name": "#%%\n"
    }
   }
  },
  {
   "cell_type": "code",
   "execution_count": 194,
   "outputs": [],
   "source": [
    "from scipy.signal import butter, lfilter\n",
    "# Sample rate and desired cutoff frequencies (in Hz).\n",
    "fs = 500\n",
    "lowcut = 1\n",
    "highcut = 28\n",
    "\n",
    "\n",
    "\n",
    "def butter_bandpass(lowcut, highcut, fs, order=4):\n",
    "    return butter(order, [lowcut, highcut], fs=fs, btype='band')\n",
    "\n",
    "def butter_bandpass_filter(data, lowcut, highcut, fs, order=4):\n",
    "    b, a = butter_bandpass(lowcut, highcut, fs, order=order)\n",
    "    y = lfilter(b, a, data)\n",
    "    return y\n",
    "\n",
    "def plot_eeg_blink_single_norm_butter(df,df_ts, start, end,column,rang = 50, scale=1, flip = False, order = 4):\n",
    "    plt.figure(figsize=(10,6))\n",
    "    df = df[start - rang:end + rang]\n",
    "    df.columns = columns\n",
    "    axis = plt.subplot()\n",
    "    axis.axvline(df_ts['time'][start], color='green', label = \"Blink start - TobiiXR\")  # y = 0\n",
    "    axis.axvline(df_ts['time'][end], color='red', label = \"Blink End - TobiiXR\")\n",
    "    df_norm = (df[column].abs() / df[column].abs().max())\n",
    "    plus = -df_norm[start - rang]\n",
    "\n",
    "    y = butter_bandpass_filter((df_norm + plus) *(-1 if flip else 1) *scale, lowcut, highcut, fs, order=order)\n",
    "    peaks, _ = signal.find_peaks(y[rang-7:rang+30])\n",
    "    peaks = [peak + rang-7 for peak in peaks]\n",
    "\n",
    "    axis.plot(df_ts['time'][start-rang:end+rang], y, label = \"EMG\")\n",
    "    axis.plot(df_ts['time'][start-rang:end+rang], (df['left_openness'] / df['left_openness'].abs().max())\n",
    "               *(-1)+ 1, color='orange', label = \"Eye openness - SRanipal\")\n",
    "    axis.plot(df_ts['time'][start-rang:end+rang], (df['right_openness'] / df['right_openness'].abs().max())\n",
    "               *(-1)+ 1, color='violet', label = \"Eye openness right - SRanipal\")\n",
    "    axis.set_xlabel(\"Time normalized (seconds)\")\n",
    "    axis.set_ylabel(\"Normalized Amplitude\")\n",
    "    for i in peaks:\n",
    "        plt.plot(df_ts['time'][i+ start - rang], y[i], marker=\"o\", markersize=5, markeredgecolor=\"turquoise\", markerfacecolor=\"black\", label=\"Local maximum \" + str(y[i].round(2)) + \", \" + str(i+ start - rang))\n",
    "    axis.set_title(column)\n",
    "    plt.legend()\n",
    "    plt.show()\n",
    "\n",
    "def get_peaks(df, start, end, column, rang=50, scale=1, order=4, flip=False):\n",
    "    df = df[start - rang:end + rang]\n",
    "    df_norm = (df[column].abs() / df[column].abs().max())\n",
    "    plus = -df_norm[start - rang]\n",
    "    y = butter_bandpass_filter((df_norm + plus) *(-1 if flip else 1) *scale, lowcut, highcut, fs, order=order)\n",
    "    peaks, _ = signal.find_peaks(y, height=0)\n",
    "    return peaks[np.argmax([y[i] for i in peaks])]+ start - rang ## Get only highest blink onset\n",
    "\n"
   ],
   "metadata": {
    "collapsed": false,
    "pycharm": {
     "name": "#%%\n"
    }
   }
  },
  {
   "cell_type": "code",
   "execution_count": 195,
   "outputs": [],
   "source": [
    "\n",
    "\n",
    "def find_shift(start, peaks):\n",
    "    differences_start = []\n",
    "    differences_end = []\n",
    "    for i in range(len(peaks)):\n",
    "        differences_start.append(start[i]-peaks[i])\n",
    "    return differences_start\n",
    "\n",
    "def plot_table(df):\n",
    "    #make this example reproducible\n",
    "\n",
    "    #define figure and axes\n",
    "    fig, ax = plt.subplots()\n",
    "    #hide the axes\n",
    "    fig.patch.set_visible(False)\n",
    "    ax.axis('off')\n",
    "    ax.axis('tight')\n",
    "\n",
    "    #create data\n",
    "\n",
    "    #create table\n",
    "    table = ax.table(cellText=df.values, colLabels=df.columns, loc='center')\n",
    "    table.scale(2.5, 2.5)\n",
    "    table.set_fontsize(30)\n",
    "    plt.show()"
   ],
   "metadata": {
    "collapsed": false,
    "pycharm": {
     "name": "#%%\n"
    }
   }
  },
  {
   "cell_type": "code",
   "execution_count": 196,
   "outputs": [],
   "source": [
    "\n",
    "def run_files(paths, path='data/LSLDataV2/', both = True, plot = False, shift_init=0):\n",
    "    peak_info = []\n",
    "    avg_time = []\n",
    "    for (index,y) in enumerate(paths):\n",
    "        data, header = pyxdf.load_xdf(path+str(y)+'/eeg-and-eyetracking.xdf')\n",
    "        stream, df_stream, df_stream_ts = init_data(data,shift_init)\n",
    "        left_blinks, right_blinks, both_blink = get_blinks_in_df(df_stream)\n",
    "        start, end = get_time_stamps(both_blink if both else left_blinks)\n",
    "        avg_time.append(np.diff(df_stream_ts.to_numpy().flatten()).tolist())\n",
    "        peaks = []\n",
    "        for i in range(len(start)):\n",
    "            peaks.append(get_peaks(df_stream, start[i], end[i], chosen_channel, rang=50, scale=5, flip=both, order=4))\n",
    "\n",
    "        shift = find_shift(start, peaks)\n",
    "        peak_info.append(shift)\n",
    "\n",
    "    n = len(max(peak_info, key=len))\n",
    "    t = [x + [None]*(n-len(x)) for x in peak_info]\n",
    "    numpy_array_peak_info = np.array(t)\n",
    "    df_peak = pd.DataFrame(numpy_array_peak_info)\n",
    "    df_peak = df_peak.set_index([paths])\n",
    "    df_peak['time between index (s)'] = [i[0] for i in avg_time]\n",
    "    df_peak['Sum (indexes)'] = df_peak.sum(axis=1)\n",
    "    df_peak['Avg (indexes)'] = round(df_peak.mean(axis=1),3)\n",
    "    df_peak['Avg time (s)'] = round(df_peak['Avg (indexes)']*df_peak['time between index (s)'],5)\n",
    "    if plot:\n",
    "        plot_table(df_peak)\n",
    "    return df_peak\n",
    "\n"
   ],
   "metadata": {
    "collapsed": false,
    "pycharm": {
     "name": "#%%\n"
    }
   }
  },
  {
   "cell_type": "code",
   "execution_count": 197,
   "outputs": [
    {
     "data": {
      "text/plain": "                            0    1     2     3     4  time between index (s)  \\\nLSLData4BothBlink         -13  -10  None  None  None                0.008333   \nLSLDataBothFiveTimesFIR    -7  -10   -10   -20  None                0.008333   \nLSLDataBothSlow4Times2     -8  -11   -10    14   -13                0.008333   \nLSLDataBothSlow4TimesFIR  -11   -6   -10    -9  None                0.008333   \n\n                          Sum (indexes)  Avg (indexes)  Avg time (s)  \nLSLData4BothBlink            -22.991667        -11.496      -0.09580  \nLSLDataBothFiveTimesFIR      -46.991667        -15.664      -0.13053  \nLSLDataBothSlow4Times2       -27.991667         -7.998      -0.06665  \nLSLDataBothSlow4TimesFIR     -35.991667        -11.997      -0.09998  ",
      "text/html": "<div>\n<style scoped>\n    .dataframe tbody tr th:only-of-type {\n        vertical-align: middle;\n    }\n\n    .dataframe tbody tr th {\n        vertical-align: top;\n    }\n\n    .dataframe thead th {\n        text-align: right;\n    }\n</style>\n<table border=\"1\" class=\"dataframe\">\n  <thead>\n    <tr style=\"text-align: right;\">\n      <th></th>\n      <th>0</th>\n      <th>1</th>\n      <th>2</th>\n      <th>3</th>\n      <th>4</th>\n      <th>time between index (s)</th>\n      <th>Sum (indexes)</th>\n      <th>Avg (indexes)</th>\n      <th>Avg time (s)</th>\n    </tr>\n  </thead>\n  <tbody>\n    <tr>\n      <th>LSLData4BothBlink</th>\n      <td>-13</td>\n      <td>-10</td>\n      <td>None</td>\n      <td>None</td>\n      <td>None</td>\n      <td>0.008333</td>\n      <td>-22.991667</td>\n      <td>-11.496</td>\n      <td>-0.09580</td>\n    </tr>\n    <tr>\n      <th>LSLDataBothFiveTimesFIR</th>\n      <td>-7</td>\n      <td>-10</td>\n      <td>-10</td>\n      <td>-20</td>\n      <td>None</td>\n      <td>0.008333</td>\n      <td>-46.991667</td>\n      <td>-15.664</td>\n      <td>-0.13053</td>\n    </tr>\n    <tr>\n      <th>LSLDataBothSlow4Times2</th>\n      <td>-8</td>\n      <td>-11</td>\n      <td>-10</td>\n      <td>14</td>\n      <td>-13</td>\n      <td>0.008333</td>\n      <td>-27.991667</td>\n      <td>-7.998</td>\n      <td>-0.06665</td>\n    </tr>\n    <tr>\n      <th>LSLDataBothSlow4TimesFIR</th>\n      <td>-11</td>\n      <td>-6</td>\n      <td>-10</td>\n      <td>-9</td>\n      <td>None</td>\n      <td>0.008333</td>\n      <td>-35.991667</td>\n      <td>-11.997</td>\n      <td>-0.09998</td>\n    </tr>\n  </tbody>\n</table>\n</div>"
     },
     "metadata": {},
     "output_type": "display_data"
    },
    {
     "data": {
      "text/plain": "                         0    1    2     3     4  time between index (s)  \\\nLSLDataLeft5times2FIR  -28  -26  -21   -22   -24                0.008333   \nLSLDataLeft5TimesFIR   -19  -21  -23   -23   -24                0.008333   \nLSLDataLeftFourTimes2  -17  -19  -20  None  None                0.008333   \n\n                       Sum (indexes)  Avg (indexes)  Avg time (s)  \nLSLDataLeft5times2FIR    -120.991667        -34.569      -0.28808  \nLSLDataLeft5TimesFIR     -109.991667        -31.426      -0.26188  \nLSLDataLeftFourTimes2     -55.991667        -22.397      -0.18664  ",
      "text/html": "<div>\n<style scoped>\n    .dataframe tbody tr th:only-of-type {\n        vertical-align: middle;\n    }\n\n    .dataframe tbody tr th {\n        vertical-align: top;\n    }\n\n    .dataframe thead th {\n        text-align: right;\n    }\n</style>\n<table border=\"1\" class=\"dataframe\">\n  <thead>\n    <tr style=\"text-align: right;\">\n      <th></th>\n      <th>0</th>\n      <th>1</th>\n      <th>2</th>\n      <th>3</th>\n      <th>4</th>\n      <th>time between index (s)</th>\n      <th>Sum (indexes)</th>\n      <th>Avg (indexes)</th>\n      <th>Avg time (s)</th>\n    </tr>\n  </thead>\n  <tbody>\n    <tr>\n      <th>LSLDataLeft5times2FIR</th>\n      <td>-28</td>\n      <td>-26</td>\n      <td>-21</td>\n      <td>-22</td>\n      <td>-24</td>\n      <td>0.008333</td>\n      <td>-120.991667</td>\n      <td>-34.569</td>\n      <td>-0.28808</td>\n    </tr>\n    <tr>\n      <th>LSLDataLeft5TimesFIR</th>\n      <td>-19</td>\n      <td>-21</td>\n      <td>-23</td>\n      <td>-23</td>\n      <td>-24</td>\n      <td>0.008333</td>\n      <td>-109.991667</td>\n      <td>-31.426</td>\n      <td>-0.26188</td>\n    </tr>\n    <tr>\n      <th>LSLDataLeftFourTimes2</th>\n      <td>-17</td>\n      <td>-19</td>\n      <td>-20</td>\n      <td>None</td>\n      <td>None</td>\n      <td>0.008333</td>\n      <td>-55.991667</td>\n      <td>-22.397</td>\n      <td>-0.18664</td>\n    </tr>\n  </tbody>\n</table>\n</div>"
     },
     "metadata": {},
     "output_type": "display_data"
    }
   ],
   "source": [
    "paths = [name for name in os.listdir(\"./data/LSLDataV2\")]\n",
    "both = [name for name in paths if \"Both\" in name]\n",
    "left = [name for name in paths if \"Left\" in name]\n",
    "\n",
    "\n",
    "df_both = run_files(both, both=True , plot=False)\n",
    "display(df_both)\n",
    "df_left = run_files(left, both=False , plot=False)\n",
    "display(df_left)"
   ],
   "metadata": {
    "collapsed": false,
    "pycharm": {
     "name": "#%%\n"
    }
   }
  },
  {
   "cell_type": "code",
   "execution_count": 198,
   "outputs": [],
   "source": [
    "def get_offset(df):\n",
    "    avg_offset = df['Avg time (s)'].sum()/df.shape[0]\n",
    "    avg_offset_index = df['Avg (indexes)'].sum()/df.shape[0]\n",
    "    #print(avg_offset_index)\n",
    "    return avg_offset, avg_offset_index\n"
   ],
   "metadata": {
    "collapsed": false,
    "pycharm": {
     "name": "#%%\n"
    }
   }
  },
  {
   "cell_type": "code",
   "execution_count": 200,
   "outputs": [
    {
     "name": "stdout",
     "output_type": "stream",
     "text": [
      "(Seconds, Number of indexes to shift) ---- Both\n",
      "(-0.09824000000000001, -11.78875)\n",
      "(Seconds, Number of indexes to shift) ---- Left\n",
      "(-0.24553333333333335, -29.464)\n"
     ]
    },
    {
     "data": {
      "text/plain": "                            0    1     2     3     4  time between index (s)  \\\nLSLData4BothBlink          -1    2  None  None  None                0.008333   \nLSLDataBothFiveTimesFIR     5    2     2    -8  None                0.008333   \nLSLDataBothSlow4Times2      4    0     2    25    -1                0.008333   \nLSLDataBothSlow4TimesFIR    1    6     2     3  None                0.008333   \nAverage                   NaN  NaN   NaN   NaN   NaN                0.008333   \n\n                          Sum (indexes)  Avg (indexes)  Avg time (s)  \nLSLData4BothBlink              1.008333        0.50400      0.004200  \nLSLDataBothFiveTimesFIR        1.008333        0.33600      0.002800  \nLSLDataBothSlow4Times2        30.008333        8.57400      0.071450  \nLSLDataBothSlow4TimesFIR      12.008333        4.00300      0.033360  \nAverage                       11.008333        3.35425      0.027952  ",
      "text/html": "<div>\n<style scoped>\n    .dataframe tbody tr th:only-of-type {\n        vertical-align: middle;\n    }\n\n    .dataframe tbody tr th {\n        vertical-align: top;\n    }\n\n    .dataframe thead th {\n        text-align: right;\n    }\n</style>\n<table border=\"1\" class=\"dataframe\">\n  <thead>\n    <tr style=\"text-align: right;\">\n      <th></th>\n      <th>0</th>\n      <th>1</th>\n      <th>2</th>\n      <th>3</th>\n      <th>4</th>\n      <th>time between index (s)</th>\n      <th>Sum (indexes)</th>\n      <th>Avg (indexes)</th>\n      <th>Avg time (s)</th>\n    </tr>\n  </thead>\n  <tbody>\n    <tr>\n      <th>LSLData4BothBlink</th>\n      <td>-1</td>\n      <td>2</td>\n      <td>None</td>\n      <td>None</td>\n      <td>None</td>\n      <td>0.008333</td>\n      <td>1.008333</td>\n      <td>0.50400</td>\n      <td>0.004200</td>\n    </tr>\n    <tr>\n      <th>LSLDataBothFiveTimesFIR</th>\n      <td>5</td>\n      <td>2</td>\n      <td>2</td>\n      <td>-8</td>\n      <td>None</td>\n      <td>0.008333</td>\n      <td>1.008333</td>\n      <td>0.33600</td>\n      <td>0.002800</td>\n    </tr>\n    <tr>\n      <th>LSLDataBothSlow4Times2</th>\n      <td>4</td>\n      <td>0</td>\n      <td>2</td>\n      <td>25</td>\n      <td>-1</td>\n      <td>0.008333</td>\n      <td>30.008333</td>\n      <td>8.57400</td>\n      <td>0.071450</td>\n    </tr>\n    <tr>\n      <th>LSLDataBothSlow4TimesFIR</th>\n      <td>1</td>\n      <td>6</td>\n      <td>2</td>\n      <td>3</td>\n      <td>None</td>\n      <td>0.008333</td>\n      <td>12.008333</td>\n      <td>4.00300</td>\n      <td>0.033360</td>\n    </tr>\n    <tr>\n      <th>Average</th>\n      <td>NaN</td>\n      <td>NaN</td>\n      <td>NaN</td>\n      <td>NaN</td>\n      <td>NaN</td>\n      <td>0.008333</td>\n      <td>11.008333</td>\n      <td>3.35425</td>\n      <td>0.027952</td>\n    </tr>\n  </tbody>\n</table>\n</div>"
     },
     "metadata": {},
     "output_type": "display_data"
    },
    {
     "data": {
      "text/plain": "                         0    1    2     3     4  time between index (s)  \\\nLSLDataLeft5times2FIR    1    3    8     8     5                0.008333   \nLSLDataLeft5TimesFIR    10    9    6     6     5                0.008333   \nLSLDataLeftFourTimes2   12   10    9  None  None                0.008333   \nAverage                NaN  NaN  NaN   NaN   NaN                0.008333   \n\n                       Sum (indexes)  Avg (indexes)  Avg time (s)  \nLSLDataLeft5times2FIR      25.008333       7.145000      0.059540  \nLSLDataLeft5TimesFIR       36.008333      10.288000      0.085730  \nLSLDataLeftFourTimes2      31.008333      12.403000      0.103360  \nAverage                    30.675000       9.945333      0.082877  ",
      "text/html": "<div>\n<style scoped>\n    .dataframe tbody tr th:only-of-type {\n        vertical-align: middle;\n    }\n\n    .dataframe tbody tr th {\n        vertical-align: top;\n    }\n\n    .dataframe thead th {\n        text-align: right;\n    }\n</style>\n<table border=\"1\" class=\"dataframe\">\n  <thead>\n    <tr style=\"text-align: right;\">\n      <th></th>\n      <th>0</th>\n      <th>1</th>\n      <th>2</th>\n      <th>3</th>\n      <th>4</th>\n      <th>time between index (s)</th>\n      <th>Sum (indexes)</th>\n      <th>Avg (indexes)</th>\n      <th>Avg time (s)</th>\n    </tr>\n  </thead>\n  <tbody>\n    <tr>\n      <th>LSLDataLeft5times2FIR</th>\n      <td>1</td>\n      <td>3</td>\n      <td>8</td>\n      <td>8</td>\n      <td>5</td>\n      <td>0.008333</td>\n      <td>25.008333</td>\n      <td>7.145000</td>\n      <td>0.059540</td>\n    </tr>\n    <tr>\n      <th>LSLDataLeft5TimesFIR</th>\n      <td>10</td>\n      <td>9</td>\n      <td>6</td>\n      <td>6</td>\n      <td>5</td>\n      <td>0.008333</td>\n      <td>36.008333</td>\n      <td>10.288000</td>\n      <td>0.085730</td>\n    </tr>\n    <tr>\n      <th>LSLDataLeftFourTimes2</th>\n      <td>12</td>\n      <td>10</td>\n      <td>9</td>\n      <td>None</td>\n      <td>None</td>\n      <td>0.008333</td>\n      <td>31.008333</td>\n      <td>12.403000</td>\n      <td>0.103360</td>\n    </tr>\n    <tr>\n      <th>Average</th>\n      <td>NaN</td>\n      <td>NaN</td>\n      <td>NaN</td>\n      <td>NaN</td>\n      <td>NaN</td>\n      <td>0.008333</td>\n      <td>30.675000</td>\n      <td>9.945333</td>\n      <td>0.082877</td>\n    </tr>\n  </tbody>\n</table>\n</div>"
     },
     "metadata": {},
     "output_type": "display_data"
    },
    {
     "name": "stdout",
     "output_type": "stream",
     "text": [
      "(0.027952499999999998, 3.3542499999999995)\n",
      "(0.08287666666666667, 9.945333333333332)\n"
     ]
    }
   ],
   "source": [
    "print(\"(Seconds, Number of indexes to shift) ---- Both\")\n",
    "print(get_offset(df_both))\n",
    "print(\"(Seconds, Number of indexes to shift) ---- Left\")\n",
    "print(get_offset(df_left))\n",
    "\n",
    "df_both_shift = run_files(both, both=True , plot=False, shift_init=round(get_offset(df_both)[1]))\n",
    "df_both_shift.loc['Average']= df_both_shift.sum(numeric_only=True, axis=0)/df_both_shift.shape[0]\n",
    "display(df_both_shift)\n",
    "df_left_shift = run_files(left, both=False , plot=False, shift_init=round(get_offset(df_left)[1]))\n",
    "df_left_shift.loc['Average']= df_left_shift.sum(numeric_only=True, axis=0)/df_left_shift.shape[0]\n",
    "display(df_left_shift)\n",
    "\n",
    "print(get_offset(df_both_shift))\n",
    "print(get_offset(df_left_shift))"
   ],
   "metadata": {
    "collapsed": false,
    "pycharm": {
     "name": "#%%\n"
    }
   }
  },
  {
   "cell_type": "code",
   "execution_count": 199,
   "outputs": [],
   "source": [],
   "metadata": {
    "collapsed": false,
    "pycharm": {
     "name": "#%%\n"
    }
   }
  },
  {
   "cell_type": "code",
   "execution_count": 199,
   "outputs": [],
   "source": [],
   "metadata": {
    "collapsed": false,
    "pycharm": {
     "name": "#%%\n"
    }
   }
  }
 ],
 "metadata": {
  "kernelspec": {
   "display_name": "Python 3",
   "language": "python",
   "name": "python3"
  },
  "language_info": {
   "codemirror_mode": {
    "name": "ipython",
    "version": 2
   },
   "file_extension": ".py",
   "mimetype": "text/x-python",
   "name": "python",
   "nbconvert_exporter": "python",
   "pygments_lexer": "ipython2",
   "version": "2.7.6"
  }
 },
 "nbformat": 4,
 "nbformat_minor": 0
}